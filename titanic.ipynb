{
 "cells": [
  {
   "cell_type": "code",
   "execution_count": 1,
   "metadata": {},
   "outputs": [],
   "source": [
    "# importing the all the libraries\n",
    "import pandas as pd\n",
    "import numpy as np\n",
    "from matplotlib import pyplot as plt\n",
    "%matplotlib inline\n",
    "import matplotlib\n",
    "import seaborn as sns\n",
    "matplotlib.rcParams[\"figure.figsize\"] = (20,10)\n",
    "import warnings\n",
    "warnings.filterwarnings(\"ignore\")"
   ]
  },
  {
   "cell_type": "code",
   "execution_count": 3,
   "metadata": {},
   "outputs": [
    {
     "data": {
      "text/html": [
       "<div>\n",
       "<style scoped>\n",
       "    .dataframe tbody tr th:only-of-type {\n",
       "        vertical-align: middle;\n",
       "    }\n",
       "\n",
       "    .dataframe tbody tr th {\n",
       "        vertical-align: top;\n",
       "    }\n",
       "\n",
       "    .dataframe thead th {\n",
       "        text-align: right;\n",
       "    }\n",
       "</style>\n",
       "<table border=\"1\" class=\"dataframe\">\n",
       "  <thead>\n",
       "    <tr style=\"text-align: right;\">\n",
       "      <th></th>\n",
       "      <th>PassengerId</th>\n",
       "      <th>Survived</th>\n",
       "      <th>Pclass</th>\n",
       "      <th>Name</th>\n",
       "      <th>Sex</th>\n",
       "      <th>Age</th>\n",
       "      <th>SibSp</th>\n",
       "      <th>Parch</th>\n",
       "      <th>Ticket</th>\n",
       "      <th>Fare</th>\n",
       "      <th>Cabin</th>\n",
       "      <th>Embarked</th>\n",
       "    </tr>\n",
       "  </thead>\n",
       "  <tbody>\n",
       "    <tr>\n",
       "      <th>0</th>\n",
       "      <td>1</td>\n",
       "      <td>0</td>\n",
       "      <td>3</td>\n",
       "      <td>Braund, Mr. Owen Harris</td>\n",
       "      <td>male</td>\n",
       "      <td>22.0</td>\n",
       "      <td>1</td>\n",
       "      <td>0</td>\n",
       "      <td>A/5 21171</td>\n",
       "      <td>7.2500</td>\n",
       "      <td>NaN</td>\n",
       "      <td>S</td>\n",
       "    </tr>\n",
       "    <tr>\n",
       "      <th>1</th>\n",
       "      <td>2</td>\n",
       "      <td>1</td>\n",
       "      <td>1</td>\n",
       "      <td>Cumings, Mrs. John Bradley (Florence Briggs Th...</td>\n",
       "      <td>female</td>\n",
       "      <td>38.0</td>\n",
       "      <td>1</td>\n",
       "      <td>0</td>\n",
       "      <td>PC 17599</td>\n",
       "      <td>71.2833</td>\n",
       "      <td>C85</td>\n",
       "      <td>C</td>\n",
       "    </tr>\n",
       "    <tr>\n",
       "      <th>2</th>\n",
       "      <td>3</td>\n",
       "      <td>1</td>\n",
       "      <td>3</td>\n",
       "      <td>Heikkinen, Miss. Laina</td>\n",
       "      <td>female</td>\n",
       "      <td>26.0</td>\n",
       "      <td>0</td>\n",
       "      <td>0</td>\n",
       "      <td>STON/O2. 3101282</td>\n",
       "      <td>7.9250</td>\n",
       "      <td>NaN</td>\n",
       "      <td>S</td>\n",
       "    </tr>\n",
       "    <tr>\n",
       "      <th>3</th>\n",
       "      <td>4</td>\n",
       "      <td>1</td>\n",
       "      <td>1</td>\n",
       "      <td>Futrelle, Mrs. Jacques Heath (Lily May Peel)</td>\n",
       "      <td>female</td>\n",
       "      <td>35.0</td>\n",
       "      <td>1</td>\n",
       "      <td>0</td>\n",
       "      <td>113803</td>\n",
       "      <td>53.1000</td>\n",
       "      <td>C123</td>\n",
       "      <td>S</td>\n",
       "    </tr>\n",
       "    <tr>\n",
       "      <th>4</th>\n",
       "      <td>5</td>\n",
       "      <td>0</td>\n",
       "      <td>3</td>\n",
       "      <td>Allen, Mr. William Henry</td>\n",
       "      <td>male</td>\n",
       "      <td>35.0</td>\n",
       "      <td>0</td>\n",
       "      <td>0</td>\n",
       "      <td>373450</td>\n",
       "      <td>8.0500</td>\n",
       "      <td>NaN</td>\n",
       "      <td>S</td>\n",
       "    </tr>\n",
       "    <tr>\n",
       "      <th>...</th>\n",
       "      <td>...</td>\n",
       "      <td>...</td>\n",
       "      <td>...</td>\n",
       "      <td>...</td>\n",
       "      <td>...</td>\n",
       "      <td>...</td>\n",
       "      <td>...</td>\n",
       "      <td>...</td>\n",
       "      <td>...</td>\n",
       "      <td>...</td>\n",
       "      <td>...</td>\n",
       "      <td>...</td>\n",
       "    </tr>\n",
       "    <tr>\n",
       "      <th>886</th>\n",
       "      <td>887</td>\n",
       "      <td>0</td>\n",
       "      <td>2</td>\n",
       "      <td>Montvila, Rev. Juozas</td>\n",
       "      <td>male</td>\n",
       "      <td>27.0</td>\n",
       "      <td>0</td>\n",
       "      <td>0</td>\n",
       "      <td>211536</td>\n",
       "      <td>13.0000</td>\n",
       "      <td>NaN</td>\n",
       "      <td>S</td>\n",
       "    </tr>\n",
       "    <tr>\n",
       "      <th>887</th>\n",
       "      <td>888</td>\n",
       "      <td>1</td>\n",
       "      <td>1</td>\n",
       "      <td>Graham, Miss. Margaret Edith</td>\n",
       "      <td>female</td>\n",
       "      <td>19.0</td>\n",
       "      <td>0</td>\n",
       "      <td>0</td>\n",
       "      <td>112053</td>\n",
       "      <td>30.0000</td>\n",
       "      <td>B42</td>\n",
       "      <td>S</td>\n",
       "    </tr>\n",
       "    <tr>\n",
       "      <th>888</th>\n",
       "      <td>889</td>\n",
       "      <td>0</td>\n",
       "      <td>3</td>\n",
       "      <td>Johnston, Miss. Catherine Helen \"Carrie\"</td>\n",
       "      <td>female</td>\n",
       "      <td>NaN</td>\n",
       "      <td>1</td>\n",
       "      <td>2</td>\n",
       "      <td>W./C. 6607</td>\n",
       "      <td>23.4500</td>\n",
       "      <td>NaN</td>\n",
       "      <td>S</td>\n",
       "    </tr>\n",
       "    <tr>\n",
       "      <th>889</th>\n",
       "      <td>890</td>\n",
       "      <td>1</td>\n",
       "      <td>1</td>\n",
       "      <td>Behr, Mr. Karl Howell</td>\n",
       "      <td>male</td>\n",
       "      <td>26.0</td>\n",
       "      <td>0</td>\n",
       "      <td>0</td>\n",
       "      <td>111369</td>\n",
       "      <td>30.0000</td>\n",
       "      <td>C148</td>\n",
       "      <td>C</td>\n",
       "    </tr>\n",
       "    <tr>\n",
       "      <th>890</th>\n",
       "      <td>891</td>\n",
       "      <td>0</td>\n",
       "      <td>3</td>\n",
       "      <td>Dooley, Mr. Patrick</td>\n",
       "      <td>male</td>\n",
       "      <td>32.0</td>\n",
       "      <td>0</td>\n",
       "      <td>0</td>\n",
       "      <td>370376</td>\n",
       "      <td>7.7500</td>\n",
       "      <td>NaN</td>\n",
       "      <td>Q</td>\n",
       "    </tr>\n",
       "  </tbody>\n",
       "</table>\n",
       "<p>891 rows × 12 columns</p>\n",
       "</div>"
      ],
      "text/plain": [
       "     PassengerId  Survived  Pclass  \\\n",
       "0              1         0       3   \n",
       "1              2         1       1   \n",
       "2              3         1       3   \n",
       "3              4         1       1   \n",
       "4              5         0       3   \n",
       "..           ...       ...     ...   \n",
       "886          887         0       2   \n",
       "887          888         1       1   \n",
       "888          889         0       3   \n",
       "889          890         1       1   \n",
       "890          891         0       3   \n",
       "\n",
       "                                                  Name     Sex   Age  SibSp  \\\n",
       "0                              Braund, Mr. Owen Harris    male  22.0      1   \n",
       "1    Cumings, Mrs. John Bradley (Florence Briggs Th...  female  38.0      1   \n",
       "2                               Heikkinen, Miss. Laina  female  26.0      0   \n",
       "3         Futrelle, Mrs. Jacques Heath (Lily May Peel)  female  35.0      1   \n",
       "4                             Allen, Mr. William Henry    male  35.0      0   \n",
       "..                                                 ...     ...   ...    ...   \n",
       "886                              Montvila, Rev. Juozas    male  27.0      0   \n",
       "887                       Graham, Miss. Margaret Edith  female  19.0      0   \n",
       "888           Johnston, Miss. Catherine Helen \"Carrie\"  female   NaN      1   \n",
       "889                              Behr, Mr. Karl Howell    male  26.0      0   \n",
       "890                                Dooley, Mr. Patrick    male  32.0      0   \n",
       "\n",
       "     Parch            Ticket     Fare Cabin Embarked  \n",
       "0        0         A/5 21171   7.2500   NaN        S  \n",
       "1        0          PC 17599  71.2833   C85        C  \n",
       "2        0  STON/O2. 3101282   7.9250   NaN        S  \n",
       "3        0            113803  53.1000  C123        S  \n",
       "4        0            373450   8.0500   NaN        S  \n",
       "..     ...               ...      ...   ...      ...  \n",
       "886      0            211536  13.0000   NaN        S  \n",
       "887      0            112053  30.0000   B42        S  \n",
       "888      2        W./C. 6607  23.4500   NaN        S  \n",
       "889      0            111369  30.0000  C148        C  \n",
       "890      0            370376   7.7500   NaN        Q  \n",
       "\n",
       "[891 rows x 12 columns]"
      ]
     },
     "execution_count": 3,
     "metadata": {},
     "output_type": "execute_result"
    }
   ],
   "source": [
    "#importing the data set\n",
    "\n",
    "df_train= pd.read_csv(r'C:\\Users\\pavan\\OneDrive\\Documents\\question papers upsc\\titanic.csv')\n",
    "df_train"
   ]
  },
  {
   "cell_type": "code",
   "execution_count": 4,
   "metadata": {},
   "outputs": [
    {
     "data": {
      "text/html": [
       "<div>\n",
       "<style scoped>\n",
       "    .dataframe tbody tr th:only-of-type {\n",
       "        vertical-align: middle;\n",
       "    }\n",
       "\n",
       "    .dataframe tbody tr th {\n",
       "        vertical-align: top;\n",
       "    }\n",
       "\n",
       "    .dataframe thead th {\n",
       "        text-align: right;\n",
       "    }\n",
       "</style>\n",
       "<table border=\"1\" class=\"dataframe\">\n",
       "  <thead>\n",
       "    <tr style=\"text-align: right;\">\n",
       "      <th></th>\n",
       "      <th>PassengerId</th>\n",
       "      <th>Survived</th>\n",
       "      <th>Pclass</th>\n",
       "      <th>Name</th>\n",
       "      <th>Sex</th>\n",
       "      <th>Age</th>\n",
       "      <th>SibSp</th>\n",
       "      <th>Parch</th>\n",
       "      <th>Ticket</th>\n",
       "      <th>Fare</th>\n",
       "      <th>Cabin</th>\n",
       "      <th>Embarked</th>\n",
       "    </tr>\n",
       "  </thead>\n",
       "  <tbody>\n",
       "    <tr>\n",
       "      <th>0</th>\n",
       "      <td>1</td>\n",
       "      <td>0</td>\n",
       "      <td>3</td>\n",
       "      <td>Braund, Mr. Owen Harris</td>\n",
       "      <td>male</td>\n",
       "      <td>22.0</td>\n",
       "      <td>1</td>\n",
       "      <td>0</td>\n",
       "      <td>A/5 21171</td>\n",
       "      <td>7.2500</td>\n",
       "      <td>NaN</td>\n",
       "      <td>S</td>\n",
       "    </tr>\n",
       "    <tr>\n",
       "      <th>1</th>\n",
       "      <td>2</td>\n",
       "      <td>1</td>\n",
       "      <td>1</td>\n",
       "      <td>Cumings, Mrs. John Bradley (Florence Briggs Th...</td>\n",
       "      <td>female</td>\n",
       "      <td>38.0</td>\n",
       "      <td>1</td>\n",
       "      <td>0</td>\n",
       "      <td>PC 17599</td>\n",
       "      <td>71.2833</td>\n",
       "      <td>C85</td>\n",
       "      <td>C</td>\n",
       "    </tr>\n",
       "    <tr>\n",
       "      <th>2</th>\n",
       "      <td>3</td>\n",
       "      <td>1</td>\n",
       "      <td>3</td>\n",
       "      <td>Heikkinen, Miss. Laina</td>\n",
       "      <td>female</td>\n",
       "      <td>26.0</td>\n",
       "      <td>0</td>\n",
       "      <td>0</td>\n",
       "      <td>STON/O2. 3101282</td>\n",
       "      <td>7.9250</td>\n",
       "      <td>NaN</td>\n",
       "      <td>S</td>\n",
       "    </tr>\n",
       "    <tr>\n",
       "      <th>3</th>\n",
       "      <td>4</td>\n",
       "      <td>1</td>\n",
       "      <td>1</td>\n",
       "      <td>Futrelle, Mrs. Jacques Heath (Lily May Peel)</td>\n",
       "      <td>female</td>\n",
       "      <td>35.0</td>\n",
       "      <td>1</td>\n",
       "      <td>0</td>\n",
       "      <td>113803</td>\n",
       "      <td>53.1000</td>\n",
       "      <td>C123</td>\n",
       "      <td>S</td>\n",
       "    </tr>\n",
       "    <tr>\n",
       "      <th>4</th>\n",
       "      <td>5</td>\n",
       "      <td>0</td>\n",
       "      <td>3</td>\n",
       "      <td>Allen, Mr. William Henry</td>\n",
       "      <td>male</td>\n",
       "      <td>35.0</td>\n",
       "      <td>0</td>\n",
       "      <td>0</td>\n",
       "      <td>373450</td>\n",
       "      <td>8.0500</td>\n",
       "      <td>NaN</td>\n",
       "      <td>S</td>\n",
       "    </tr>\n",
       "  </tbody>\n",
       "</table>\n",
       "</div>"
      ],
      "text/plain": [
       "   PassengerId  Survived  Pclass  \\\n",
       "0            1         0       3   \n",
       "1            2         1       1   \n",
       "2            3         1       3   \n",
       "3            4         1       1   \n",
       "4            5         0       3   \n",
       "\n",
       "                                                Name     Sex   Age  SibSp  \\\n",
       "0                            Braund, Mr. Owen Harris    male  22.0      1   \n",
       "1  Cumings, Mrs. John Bradley (Florence Briggs Th...  female  38.0      1   \n",
       "2                             Heikkinen, Miss. Laina  female  26.0      0   \n",
       "3       Futrelle, Mrs. Jacques Heath (Lily May Peel)  female  35.0      1   \n",
       "4                           Allen, Mr. William Henry    male  35.0      0   \n",
       "\n",
       "   Parch            Ticket     Fare Cabin Embarked  \n",
       "0      0         A/5 21171   7.2500   NaN        S  \n",
       "1      0          PC 17599  71.2833   C85        C  \n",
       "2      0  STON/O2. 3101282   7.9250   NaN        S  \n",
       "3      0            113803  53.1000  C123        S  \n",
       "4      0            373450   8.0500   NaN        S  "
      ]
     },
     "execution_count": 4,
     "metadata": {},
     "output_type": "execute_result"
    }
   ],
   "source": [
    "df_train.head()"
   ]
  },
  {
   "cell_type": "code",
   "execution_count": 29,
   "metadata": {},
   "outputs": [
    {
     "data": {
      "text/html": [
       "<div>\n",
       "<style scoped>\n",
       "    .dataframe tbody tr th:only-of-type {\n",
       "        vertical-align: middle;\n",
       "    }\n",
       "\n",
       "    .dataframe tbody tr th {\n",
       "        vertical-align: top;\n",
       "    }\n",
       "\n",
       "    .dataframe thead th {\n",
       "        text-align: right;\n",
       "    }\n",
       "</style>\n",
       "<table border=\"1\" class=\"dataframe\">\n",
       "  <thead>\n",
       "    <tr style=\"text-align: right;\">\n",
       "      <th></th>\n",
       "      <th>PassengerId</th>\n",
       "      <th>Survived</th>\n",
       "      <th>Pclass</th>\n",
       "      <th>Name</th>\n",
       "      <th>Sex</th>\n",
       "      <th>Age</th>\n",
       "      <th>SibSp</th>\n",
       "      <th>Parch</th>\n",
       "      <th>Ticket</th>\n",
       "      <th>Fare</th>\n",
       "      <th>Cabin</th>\n",
       "      <th>Embarked</th>\n",
       "    </tr>\n",
       "  </thead>\n",
       "  <tbody>\n",
       "    <tr>\n",
       "      <th>0</th>\n",
       "      <td>1</td>\n",
       "      <td>0</td>\n",
       "      <td>3</td>\n",
       "      <td>Braund, Mr. Owen Harris</td>\n",
       "      <td>male</td>\n",
       "      <td>22.0</td>\n",
       "      <td>1</td>\n",
       "      <td>0</td>\n",
       "      <td>A/5 21171</td>\n",
       "      <td>7.2500</td>\n",
       "      <td>NaN</td>\n",
       "      <td>S</td>\n",
       "    </tr>\n",
       "    <tr>\n",
       "      <th>1</th>\n",
       "      <td>2</td>\n",
       "      <td>1</td>\n",
       "      <td>1</td>\n",
       "      <td>Cumings, Mrs. John Bradley (Florence Briggs Th...</td>\n",
       "      <td>female</td>\n",
       "      <td>38.0</td>\n",
       "      <td>1</td>\n",
       "      <td>0</td>\n",
       "      <td>PC 17599</td>\n",
       "      <td>71.2833</td>\n",
       "      <td>C85</td>\n",
       "      <td>C</td>\n",
       "    </tr>\n",
       "    <tr>\n",
       "      <th>2</th>\n",
       "      <td>3</td>\n",
       "      <td>1</td>\n",
       "      <td>3</td>\n",
       "      <td>Heikkinen, Miss. Laina</td>\n",
       "      <td>female</td>\n",
       "      <td>26.0</td>\n",
       "      <td>0</td>\n",
       "      <td>0</td>\n",
       "      <td>STON/O2. 3101282</td>\n",
       "      <td>7.9250</td>\n",
       "      <td>NaN</td>\n",
       "      <td>S</td>\n",
       "    </tr>\n",
       "    <tr>\n",
       "      <th>3</th>\n",
       "      <td>4</td>\n",
       "      <td>1</td>\n",
       "      <td>1</td>\n",
       "      <td>Futrelle, Mrs. Jacques Heath (Lily May Peel)</td>\n",
       "      <td>female</td>\n",
       "      <td>35.0</td>\n",
       "      <td>1</td>\n",
       "      <td>0</td>\n",
       "      <td>113803</td>\n",
       "      <td>53.1000</td>\n",
       "      <td>C123</td>\n",
       "      <td>S</td>\n",
       "    </tr>\n",
       "    <tr>\n",
       "      <th>4</th>\n",
       "      <td>5</td>\n",
       "      <td>0</td>\n",
       "      <td>3</td>\n",
       "      <td>Allen, Mr. William Henry</td>\n",
       "      <td>male</td>\n",
       "      <td>35.0</td>\n",
       "      <td>0</td>\n",
       "      <td>0</td>\n",
       "      <td>373450</td>\n",
       "      <td>8.0500</td>\n",
       "      <td>NaN</td>\n",
       "      <td>S</td>\n",
       "    </tr>\n",
       "    <tr>\n",
       "      <th>...</th>\n",
       "      <td>...</td>\n",
       "      <td>...</td>\n",
       "      <td>...</td>\n",
       "      <td>...</td>\n",
       "      <td>...</td>\n",
       "      <td>...</td>\n",
       "      <td>...</td>\n",
       "      <td>...</td>\n",
       "      <td>...</td>\n",
       "      <td>...</td>\n",
       "      <td>...</td>\n",
       "      <td>...</td>\n",
       "    </tr>\n",
       "    <tr>\n",
       "      <th>413</th>\n",
       "      <td>414</td>\n",
       "      <td>0</td>\n",
       "      <td>2</td>\n",
       "      <td>Cunningham, Mr. Alfred Fleming</td>\n",
       "      <td>male</td>\n",
       "      <td>NaN</td>\n",
       "      <td>0</td>\n",
       "      <td>0</td>\n",
       "      <td>239853</td>\n",
       "      <td>0.0000</td>\n",
       "      <td>NaN</td>\n",
       "      <td>S</td>\n",
       "    </tr>\n",
       "    <tr>\n",
       "      <th>414</th>\n",
       "      <td>415</td>\n",
       "      <td>1</td>\n",
       "      <td>3</td>\n",
       "      <td>Sundman, Mr. Johan Julian</td>\n",
       "      <td>male</td>\n",
       "      <td>44.0</td>\n",
       "      <td>0</td>\n",
       "      <td>0</td>\n",
       "      <td>STON/O 2. 3101269</td>\n",
       "      <td>7.9250</td>\n",
       "      <td>NaN</td>\n",
       "      <td>S</td>\n",
       "    </tr>\n",
       "    <tr>\n",
       "      <th>415</th>\n",
       "      <td>416</td>\n",
       "      <td>0</td>\n",
       "      <td>3</td>\n",
       "      <td>Meek, Mrs. Thomas (Annie Louise Rowley)</td>\n",
       "      <td>female</td>\n",
       "      <td>NaN</td>\n",
       "      <td>0</td>\n",
       "      <td>0</td>\n",
       "      <td>343095</td>\n",
       "      <td>8.0500</td>\n",
       "      <td>NaN</td>\n",
       "      <td>S</td>\n",
       "    </tr>\n",
       "    <tr>\n",
       "      <th>416</th>\n",
       "      <td>417</td>\n",
       "      <td>1</td>\n",
       "      <td>2</td>\n",
       "      <td>Drew, Mrs. James Vivian (Lulu Thorne Christian)</td>\n",
       "      <td>female</td>\n",
       "      <td>34.0</td>\n",
       "      <td>1</td>\n",
       "      <td>1</td>\n",
       "      <td>28220</td>\n",
       "      <td>32.5000</td>\n",
       "      <td>NaN</td>\n",
       "      <td>S</td>\n",
       "    </tr>\n",
       "    <tr>\n",
       "      <th>417</th>\n",
       "      <td>418</td>\n",
       "      <td>1</td>\n",
       "      <td>2</td>\n",
       "      <td>Silven, Miss. Lyyli Karoliina</td>\n",
       "      <td>female</td>\n",
       "      <td>18.0</td>\n",
       "      <td>0</td>\n",
       "      <td>2</td>\n",
       "      <td>250652</td>\n",
       "      <td>13.0000</td>\n",
       "      <td>NaN</td>\n",
       "      <td>S</td>\n",
       "    </tr>\n",
       "  </tbody>\n",
       "</table>\n",
       "<p>418 rows × 12 columns</p>\n",
       "</div>"
      ],
      "text/plain": [
       "     PassengerId  Survived  Pclass  \\\n",
       "0              1         0       3   \n",
       "1              2         1       1   \n",
       "2              3         1       3   \n",
       "3              4         1       1   \n",
       "4              5         0       3   \n",
       "..           ...       ...     ...   \n",
       "413          414         0       2   \n",
       "414          415         1       3   \n",
       "415          416         0       3   \n",
       "416          417         1       2   \n",
       "417          418         1       2   \n",
       "\n",
       "                                                  Name     Sex   Age  SibSp  \\\n",
       "0                              Braund, Mr. Owen Harris    male  22.0      1   \n",
       "1    Cumings, Mrs. John Bradley (Florence Briggs Th...  female  38.0      1   \n",
       "2                               Heikkinen, Miss. Laina  female  26.0      0   \n",
       "3         Futrelle, Mrs. Jacques Heath (Lily May Peel)  female  35.0      1   \n",
       "4                             Allen, Mr. William Henry    male  35.0      0   \n",
       "..                                                 ...     ...   ...    ...   \n",
       "413                     Cunningham, Mr. Alfred Fleming    male   NaN      0   \n",
       "414                          Sundman, Mr. Johan Julian    male  44.0      0   \n",
       "415            Meek, Mrs. Thomas (Annie Louise Rowley)  female   NaN      0   \n",
       "416    Drew, Mrs. James Vivian (Lulu Thorne Christian)  female  34.0      1   \n",
       "417                      Silven, Miss. Lyyli Karoliina  female  18.0      0   \n",
       "\n",
       "     Parch             Ticket     Fare Cabin Embarked  \n",
       "0        0          A/5 21171   7.2500   NaN        S  \n",
       "1        0           PC 17599  71.2833   C85        C  \n",
       "2        0   STON/O2. 3101282   7.9250   NaN        S  \n",
       "3        0             113803  53.1000  C123        S  \n",
       "4        0             373450   8.0500   NaN        S  \n",
       "..     ...                ...      ...   ...      ...  \n",
       "413      0             239853   0.0000   NaN        S  \n",
       "414      0  STON/O 2. 3101269   7.9250   NaN        S  \n",
       "415      0             343095   8.0500   NaN        S  \n",
       "416      1              28220  32.5000   NaN        S  \n",
       "417      2             250652  13.0000   NaN        S  \n",
       "\n",
       "[418 rows x 12 columns]"
      ]
     },
     "execution_count": 29,
     "metadata": {},
     "output_type": "execute_result"
    }
   ],
   "source": [
    "df_test=df_train[0:418]\n",
    "df_test"
   ]
  },
  {
   "cell_type": "code",
   "execution_count": 5,
   "metadata": {},
   "outputs": [
    {
     "name": "stdout",
     "output_type": "stream",
     "text": [
      "<class 'pandas.core.frame.DataFrame'>\n",
      "RangeIndex: 891 entries, 0 to 890\n",
      "Data columns (total 12 columns):\n",
      " #   Column       Non-Null Count  Dtype  \n",
      "---  ------       --------------  -----  \n",
      " 0   PassengerId  891 non-null    int64  \n",
      " 1   Survived     891 non-null    int64  \n",
      " 2   Pclass       891 non-null    int64  \n",
      " 3   Name         891 non-null    object \n",
      " 4   Sex          891 non-null    object \n",
      " 5   Age          714 non-null    float64\n",
      " 6   SibSp        891 non-null    int64  \n",
      " 7   Parch        891 non-null    int64  \n",
      " 8   Ticket       891 non-null    object \n",
      " 9   Fare         891 non-null    float64\n",
      " 10  Cabin        204 non-null    object \n",
      " 11  Embarked     889 non-null    object \n",
      "dtypes: float64(2), int64(5), object(5)\n",
      "memory usage: 83.7+ KB\n"
     ]
    }
   ],
   "source": [
    "df_train.info()"
   ]
  },
  {
   "cell_type": "code",
   "execution_count": 7,
   "metadata": {},
   "outputs": [
    {
     "data": {
      "text/html": [
       "<div>\n",
       "<style scoped>\n",
       "    .dataframe tbody tr th:only-of-type {\n",
       "        vertical-align: middle;\n",
       "    }\n",
       "\n",
       "    .dataframe tbody tr th {\n",
       "        vertical-align: top;\n",
       "    }\n",
       "\n",
       "    .dataframe thead th {\n",
       "        text-align: right;\n",
       "    }\n",
       "</style>\n",
       "<table border=\"1\" class=\"dataframe\">\n",
       "  <thead>\n",
       "    <tr style=\"text-align: right;\">\n",
       "      <th></th>\n",
       "      <th>PassengerId</th>\n",
       "      <th>Survived</th>\n",
       "      <th>Pclass</th>\n",
       "      <th>Age</th>\n",
       "      <th>SibSp</th>\n",
       "      <th>Parch</th>\n",
       "      <th>Fare</th>\n",
       "    </tr>\n",
       "  </thead>\n",
       "  <tbody>\n",
       "    <tr>\n",
       "      <th>count</th>\n",
       "      <td>891.000000</td>\n",
       "      <td>891.000000</td>\n",
       "      <td>891.000000</td>\n",
       "      <td>714.000000</td>\n",
       "      <td>891.000000</td>\n",
       "      <td>891.000000</td>\n",
       "      <td>891.000000</td>\n",
       "    </tr>\n",
       "    <tr>\n",
       "      <th>mean</th>\n",
       "      <td>446.000000</td>\n",
       "      <td>0.383838</td>\n",
       "      <td>2.308642</td>\n",
       "      <td>29.699118</td>\n",
       "      <td>0.523008</td>\n",
       "      <td>0.381594</td>\n",
       "      <td>32.204208</td>\n",
       "    </tr>\n",
       "    <tr>\n",
       "      <th>std</th>\n",
       "      <td>257.353842</td>\n",
       "      <td>0.486592</td>\n",
       "      <td>0.836071</td>\n",
       "      <td>14.526497</td>\n",
       "      <td>1.102743</td>\n",
       "      <td>0.806057</td>\n",
       "      <td>49.693429</td>\n",
       "    </tr>\n",
       "    <tr>\n",
       "      <th>min</th>\n",
       "      <td>1.000000</td>\n",
       "      <td>0.000000</td>\n",
       "      <td>1.000000</td>\n",
       "      <td>0.420000</td>\n",
       "      <td>0.000000</td>\n",
       "      <td>0.000000</td>\n",
       "      <td>0.000000</td>\n",
       "    </tr>\n",
       "    <tr>\n",
       "      <th>25%</th>\n",
       "      <td>223.500000</td>\n",
       "      <td>0.000000</td>\n",
       "      <td>2.000000</td>\n",
       "      <td>20.125000</td>\n",
       "      <td>0.000000</td>\n",
       "      <td>0.000000</td>\n",
       "      <td>7.910400</td>\n",
       "    </tr>\n",
       "    <tr>\n",
       "      <th>50%</th>\n",
       "      <td>446.000000</td>\n",
       "      <td>0.000000</td>\n",
       "      <td>3.000000</td>\n",
       "      <td>28.000000</td>\n",
       "      <td>0.000000</td>\n",
       "      <td>0.000000</td>\n",
       "      <td>14.454200</td>\n",
       "    </tr>\n",
       "    <tr>\n",
       "      <th>75%</th>\n",
       "      <td>668.500000</td>\n",
       "      <td>1.000000</td>\n",
       "      <td>3.000000</td>\n",
       "      <td>38.000000</td>\n",
       "      <td>1.000000</td>\n",
       "      <td>0.000000</td>\n",
       "      <td>31.000000</td>\n",
       "    </tr>\n",
       "    <tr>\n",
       "      <th>max</th>\n",
       "      <td>891.000000</td>\n",
       "      <td>1.000000</td>\n",
       "      <td>3.000000</td>\n",
       "      <td>80.000000</td>\n",
       "      <td>8.000000</td>\n",
       "      <td>6.000000</td>\n",
       "      <td>512.329200</td>\n",
       "    </tr>\n",
       "  </tbody>\n",
       "</table>\n",
       "</div>"
      ],
      "text/plain": [
       "       PassengerId    Survived      Pclass         Age       SibSp  \\\n",
       "count   891.000000  891.000000  891.000000  714.000000  891.000000   \n",
       "mean    446.000000    0.383838    2.308642   29.699118    0.523008   \n",
       "std     257.353842    0.486592    0.836071   14.526497    1.102743   \n",
       "min       1.000000    0.000000    1.000000    0.420000    0.000000   \n",
       "25%     223.500000    0.000000    2.000000   20.125000    0.000000   \n",
       "50%     446.000000    0.000000    3.000000   28.000000    0.000000   \n",
       "75%     668.500000    1.000000    3.000000   38.000000    1.000000   \n",
       "max     891.000000    1.000000    3.000000   80.000000    8.000000   \n",
       "\n",
       "            Parch        Fare  \n",
       "count  891.000000  891.000000  \n",
       "mean     0.381594   32.204208  \n",
       "std      0.806057   49.693429  \n",
       "min      0.000000    0.000000  \n",
       "25%      0.000000    7.910400  \n",
       "50%      0.000000   14.454200  \n",
       "75%      0.000000   31.000000  \n",
       "max      6.000000  512.329200  "
      ]
     },
     "execution_count": 7,
     "metadata": {},
     "output_type": "execute_result"
    }
   ],
   "source": [
    "#describing the data\n",
    "df_train.describe()"
   ]
  },
  {
   "cell_type": "code",
   "execution_count": 8,
   "metadata": {},
   "outputs": [
    {
     "data": {
      "image/png": "[encoded data removed]",
      "text/plain": [
       "<Figure size 1440x720 with 1 Axes>"
      ]
     },
     "metadata": {
      "needs_background": "light"
     },
     "output_type": "display_data"
    }
   ],
   "source": [
    "#applying the countplot\n",
    "sns.countplot(x='Survived', data=df_train);"
   ]
  },
  {
   "cell_type": "code",
   "execution_count": 9,
   "metadata": {},
   "outputs": [
    {
     "name": "stdout",
     "output_type": "stream",
     "text": [
      "0.3838383838383838\n"
     ]
    }
   ],
   "source": [
    "#dividing the survived sum with surived count\n",
    "print(df_train.Survived.sum()/df_train.Survived.count())"
   ]
  },
  {
   "cell_type": "code",
   "execution_count": 10,
   "metadata": {},
   "outputs": [
    {
     "data": {
      "text/plain": [
       "Survived  Sex   \n",
       "0         female     81\n",
       "          male      468\n",
       "1         female    233\n",
       "          male      109\n",
       "Name: Survived, dtype: int64"
      ]
     },
     "execution_count": 10,
     "metadata": {},
     "output_type": "execute_result"
    }
   ],
   "source": [
    "#grouping the survived people based on sex\n",
    "df_train.groupby(['Survived','Sex'])['Survived'].count()"
   ]
  },
  {
   "cell_type": "code",
   "execution_count": 11,
   "metadata": {},
   "outputs": [
    {
     "data": {
      "image/png": "[encoded data removed]",
      "text/plain": [
       "<Figure size 720x360 with 2 Axes>"
      ]
     },
     "metadata": {
      "needs_background": "light"
     },
     "output_type": "display_data"
    }
   ],
   "source": [
    "#ploting the survied sum with surived count\n",
    "sns.catplot(x='Sex', col='Survived', kind='count', data=df_train);"
   ]
  },
  {
   "cell_type": "code",
   "execution_count": 12,
   "metadata": {},
   "outputs": [
    {
     "name": "stdout",
     "output_type": "stream",
     "text": [
      "% of women survived:  0.7420382165605095\n",
      "% of men survived:    0.18890814558058924\n"
     ]
    }
   ],
   "source": [
    "#printing the percentage of survied men and women\n",
    "print(\"% of women survived: \" , df_train[df_train.Sex == 'female'].Survived.sum()/df_train[df_train.Sex == 'female'].Survived.count())\n",
    "print(\"% of men survived:   \" , df_train[df_train.Sex == 'male'].Survived.sum()/df_train[df_train.Sex == 'male'].Survived.count())"
   ]
  },
  {
   "cell_type": "code",
   "execution_count": 13,
   "metadata": {},
   "outputs": [
    {
     "data": {
      "image/png": "[encoded data removed]",
      "text/plain": [
       "<Figure size 1152x504 with 2 Axes>"
      ]
     },
     "metadata": {},
     "output_type": "display_data"
    }
   ],
   "source": [
    "#showing the pie plot of survied women and men\n",
    "f,ax=plt.subplots(1,2,figsize=(16,7))\n",
    "df_train['Survived'][df_train['Sex']=='male'].value_counts().plot.pie(explode=[0,0.2],autopct='%1.1f%%',ax=ax[0],shadow=True)\n",
    "df_train['Survived'][df_train['Sex']=='female'].value_counts().plot.pie(explode=[0,0.2],autopct='%1.1f%%',ax=ax[1],shadow=True)\n",
    "ax[0].set_title('Survived (male)')\n",
    "ax[1].set_title('Survived (female)')\n",
    "\n",
    "plt.show()"
   ]
  },
  {
   "cell_type": "code",
   "execution_count": 14,
   "metadata": {},
   "outputs": [
    {
     "data": {
      "text/html": [
       "<style  type=\"text/css\" >\n",
       "#T_4b590926_e5ef_11eb_b68e_5cbaef99ed1crow0_col0,#T_4b590926_e5ef_11eb_b68e_5cbaef99ed1crow1_col1,#T_4b590926_e5ef_11eb_b68e_5cbaef99ed1crow1_col2{\n",
       "            background-color:  #ffff00;\n",
       "            color:  #000000;\n",
       "        }#T_4b590926_e5ef_11eb_b68e_5cbaef99ed1crow0_col1{\n",
       "            background-color:  #ffce00;\n",
       "            color:  #000000;\n",
       "        }#T_4b590926_e5ef_11eb_b68e_5cbaef99ed1crow0_col2{\n",
       "            background-color:  #fff400;\n",
       "            color:  #000000;\n",
       "        }#T_4b590926_e5ef_11eb_b68e_5cbaef99ed1crow1_col0{\n",
       "            background-color:  #fff600;\n",
       "            color:  #000000;\n",
       "        }#T_4b590926_e5ef_11eb_b68e_5cbaef99ed1crow2_col0{\n",
       "            background-color:  #ff6000;\n",
       "            color:  #000000;\n",
       "        }#T_4b590926_e5ef_11eb_b68e_5cbaef99ed1crow2_col1{\n",
       "            background-color:  #ffdf00;\n",
       "            color:  #000000;\n",
       "        }#T_4b590926_e5ef_11eb_b68e_5cbaef99ed1crow2_col2{\n",
       "            background-color:  #ff9000;\n",
       "            color:  #000000;\n",
       "        }#T_4b590926_e5ef_11eb_b68e_5cbaef99ed1crow3_col0,#T_4b590926_e5ef_11eb_b68e_5cbaef99ed1crow3_col1,#T_4b590926_e5ef_11eb_b68e_5cbaef99ed1crow3_col2{\n",
       "            background-color:  #ff0000;\n",
       "            color:  #f1f1f1;\n",
       "        }</style><table id=\"T_4b590926_e5ef_11eb_b68e_5cbaef99ed1c\" ><thead>    <tr>        <th class=\"index_name level0\" >Survived</th>        <th class=\"col_heading level0 col0\" >0</th>        <th class=\"col_heading level0 col1\" >1</th>        <th class=\"col_heading level0 col2\" >All</th>    </tr>    <tr>        <th class=\"index_name level0\" >Pclass</th>        <th class=\"blank\" ></th>        <th class=\"blank\" ></th>        <th class=\"blank\" ></th>    </tr></thead><tbody>\n",
       "                <tr>\n",
       "                        <th id=\"T_4b590926_e5ef_11eb_b68e_5cbaef99ed1clevel0_row0\" class=\"row_heading level0 row0\" >1</th>\n",
       "                        <td id=\"T_4b590926_e5ef_11eb_b68e_5cbaef99ed1crow0_col0\" class=\"data row0 col0\" >80</td>\n",
       "                        <td id=\"T_4b590926_e5ef_11eb_b68e_5cbaef99ed1crow0_col1\" class=\"data row0 col1\" >136</td>\n",
       "                        <td id=\"T_4b590926_e5ef_11eb_b68e_5cbaef99ed1crow0_col2\" class=\"data row0 col2\" >216</td>\n",
       "            </tr>\n",
       "            <tr>\n",
       "                        <th id=\"T_4b590926_e5ef_11eb_b68e_5cbaef99ed1clevel0_row1\" class=\"row_heading level0 row1\" >2</th>\n",
       "                        <td id=\"T_4b590926_e5ef_11eb_b68e_5cbaef99ed1crow1_col0\" class=\"data row1 col0\" >97</td>\n",
       "                        <td id=\"T_4b590926_e5ef_11eb_b68e_5cbaef99ed1crow1_col1\" class=\"data row1 col1\" >87</td>\n",
       "                        <td id=\"T_4b590926_e5ef_11eb_b68e_5cbaef99ed1crow1_col2\" class=\"data row1 col2\" >184</td>\n",
       "            </tr>\n",
       "            <tr>\n",
       "                        <th id=\"T_4b590926_e5ef_11eb_b68e_5cbaef99ed1clevel0_row2\" class=\"row_heading level0 row2\" >3</th>\n",
       "                        <td id=\"T_4b590926_e5ef_11eb_b68e_5cbaef99ed1crow2_col0\" class=\"data row2 col0\" >372</td>\n",
       "                        <td id=\"T_4b590926_e5ef_11eb_b68e_5cbaef99ed1crow2_col1\" class=\"data row2 col1\" >119</td>\n",
       "                        <td id=\"T_4b590926_e5ef_11eb_b68e_5cbaef99ed1crow2_col2\" class=\"data row2 col2\" >491</td>\n",
       "            </tr>\n",
       "            <tr>\n",
       "                        <th id=\"T_4b590926_e5ef_11eb_b68e_5cbaef99ed1clevel0_row3\" class=\"row_heading level0 row3\" >All</th>\n",
       "                        <td id=\"T_4b590926_e5ef_11eb_b68e_5cbaef99ed1crow3_col0\" class=\"data row3 col0\" >549</td>\n",
       "                        <td id=\"T_4b590926_e5ef_11eb_b68e_5cbaef99ed1crow3_col1\" class=\"data row3 col1\" >342</td>\n",
       "                        <td id=\"T_4b590926_e5ef_11eb_b68e_5cbaef99ed1crow3_col2\" class=\"data row3 col2\" >891</td>\n",
       "            </tr>\n",
       "    </tbody></table>"
      ],
      "text/plain": [
       "<pandas.io.formats.style.Styler at 0x21628cb3d00>"
      ]
     },
     "execution_count": 14,
     "metadata": {},
     "output_type": "execute_result"
    }
   ],
   "source": [
    "pd.crosstab(df_train.Pclass, df_train.Survived, margins=True).style.background_gradient(cmap='autumn_r')\n"
   ]
  },
  {
   "cell_type": "code",
   "execution_count": 15,
   "metadata": {},
   "outputs": [
    {
     "name": "stdout",
     "output_type": "stream",
     "text": [
      "% of survivals in\n",
      "Pclass=1 :  0.6296296296296297\n",
      "Pclass=2 :  0.47282608695652173\n",
      "Pclass=3 :  0.24236252545824846\n"
     ]
    }
   ],
   "source": [
    "#printing the survived people based on pclass\n",
    "print(\"% of survivals in\") \n",
    "print(\"Pclass=1 : \", df_train.Survived[df_train.Pclass == 1].sum()/df_train[df_train.Pclass == 1].Survived.count())\n",
    "print(\"Pclass=2 : \", df_train.Survived[df_train.Pclass == 2].sum()/df_train[df_train.Pclass == 2].Survived.count())\n",
    "print(\"Pclass=3 : \", df_train.Survived[df_train.Pclass == 3].sum()/df_train[df_train.Pclass == 3].Survived.count())"
   ]
  },
  {
   "cell_type": "code",
   "execution_count": 16,
   "metadata": {},
   "outputs": [
    {
     "data": {
      "image/png": "[encoded data removed]",
      "text/plain": [
       "<Figure size 360x360 with 1 Axes>"
      ]
     },
     "metadata": {
      "needs_background": "light"
     },
     "output_type": "display_data"
    }
   ],
   "source": [
    "#ploting the catplot of pclass and survived \n",
    "sns.catplot('Pclass','Survived', kind='point', data=df_train);"
   ]
  },
  {
   "cell_type": "code",
   "execution_count": 17,
   "metadata": {},
   "outputs": [
    {
     "data": {
      "text/html": [
       "<style  type=\"text/css\" >\n",
       "#T_67f10a58_e5ef_11eb_8fe6_5cbaef99ed1crow0_col0,#T_67f10a58_e5ef_11eb_8fe6_5cbaef99ed1crow0_col1,#T_67f10a58_e5ef_11eb_8fe6_5cbaef99ed1crow0_col3,#T_67f10a58_e5ef_11eb_8fe6_5cbaef99ed1crow3_col2{\n",
       "            background-color:  #ffff00;\n",
       "            color:  #000000;\n",
       "        }#T_67f10a58_e5ef_11eb_8fe6_5cbaef99ed1crow0_col2,#T_67f10a58_e5ef_11eb_8fe6_5cbaef99ed1crow1_col2{\n",
       "            background-color:  #fff100;\n",
       "            color:  #000000;\n",
       "        }#T_67f10a58_e5ef_11eb_8fe6_5cbaef99ed1crow1_col0{\n",
       "            background-color:  #ff9600;\n",
       "            color:  #000000;\n",
       "        }#T_67f10a58_e5ef_11eb_8fe6_5cbaef99ed1crow1_col1{\n",
       "            background-color:  #ffa300;\n",
       "            color:  #000000;\n",
       "        }#T_67f10a58_e5ef_11eb_8fe6_5cbaef99ed1crow1_col3{\n",
       "            background-color:  #ffcf00;\n",
       "            color:  #000000;\n",
       "        }#T_67f10a58_e5ef_11eb_8fe6_5cbaef99ed1crow2_col0{\n",
       "            background-color:  #ffa700;\n",
       "            color:  #000000;\n",
       "        }#T_67f10a58_e5ef_11eb_8fe6_5cbaef99ed1crow2_col1,#T_67f10a58_e5ef_11eb_8fe6_5cbaef99ed1crow2_col3{\n",
       "            background-color:  #ff8500;\n",
       "            color:  #000000;\n",
       "        }#T_67f10a58_e5ef_11eb_8fe6_5cbaef99ed1crow2_col2{\n",
       "            background-color:  #ff6e00;\n",
       "            color:  #000000;\n",
       "        }#T_67f10a58_e5ef_11eb_8fe6_5cbaef99ed1crow3_col0{\n",
       "            background-color:  #ffcd00;\n",
       "            color:  #000000;\n",
       "        }#T_67f10a58_e5ef_11eb_8fe6_5cbaef99ed1crow3_col1{\n",
       "            background-color:  #fff000;\n",
       "            color:  #000000;\n",
       "        }#T_67f10a58_e5ef_11eb_8fe6_5cbaef99ed1crow3_col3{\n",
       "            background-color:  #fff700;\n",
       "            color:  #000000;\n",
       "        }#T_67f10a58_e5ef_11eb_8fe6_5cbaef99ed1crow4_col0,#T_67f10a58_e5ef_11eb_8fe6_5cbaef99ed1crow4_col1,#T_67f10a58_e5ef_11eb_8fe6_5cbaef99ed1crow4_col2,#T_67f10a58_e5ef_11eb_8fe6_5cbaef99ed1crow4_col3{\n",
       "            background-color:  #ff0000;\n",
       "            color:  #f1f1f1;\n",
       "        }</style><table id=\"T_67f10a58_e5ef_11eb_8fe6_5cbaef99ed1c\" ><thead>    <tr>        <th class=\"blank\" ></th>        <th class=\"index_name level0\" >Pclass</th>        <th class=\"col_heading level0 col0\" >1</th>        <th class=\"col_heading level0 col1\" >2</th>        <th class=\"col_heading level0 col2\" >3</th>        <th class=\"col_heading level0 col3\" >All</th>    </tr>    <tr>        <th class=\"index_name level0\" >Sex</th>        <th class=\"index_name level1\" >Survived</th>        <th class=\"blank\" ></th>        <th class=\"blank\" ></th>        <th class=\"blank\" ></th>        <th class=\"blank\" ></th>    </tr></thead><tbody>\n",
       "                <tr>\n",
       "                        <th id=\"T_67f10a58_e5ef_11eb_8fe6_5cbaef99ed1clevel0_row0\" class=\"row_heading level0 row0\" rowspan=2>female</th>\n",
       "                        <th id=\"T_67f10a58_e5ef_11eb_8fe6_5cbaef99ed1clevel1_row0\" class=\"row_heading level1 row0\" >0</th>\n",
       "                        <td id=\"T_67f10a58_e5ef_11eb_8fe6_5cbaef99ed1crow0_col0\" class=\"data row0 col0\" >3</td>\n",
       "                        <td id=\"T_67f10a58_e5ef_11eb_8fe6_5cbaef99ed1crow0_col1\" class=\"data row0 col1\" >6</td>\n",
       "                        <td id=\"T_67f10a58_e5ef_11eb_8fe6_5cbaef99ed1crow0_col2\" class=\"data row0 col2\" >72</td>\n",
       "                        <td id=\"T_67f10a58_e5ef_11eb_8fe6_5cbaef99ed1crow0_col3\" class=\"data row0 col3\" >81</td>\n",
       "            </tr>\n",
       "            <tr>\n",
       "                                <th id=\"T_67f10a58_e5ef_11eb_8fe6_5cbaef99ed1clevel1_row1\" class=\"row_heading level1 row1\" >1</th>\n",
       "                        <td id=\"T_67f10a58_e5ef_11eb_8fe6_5cbaef99ed1crow1_col0\" class=\"data row1 col0\" >91</td>\n",
       "                        <td id=\"T_67f10a58_e5ef_11eb_8fe6_5cbaef99ed1crow1_col1\" class=\"data row1 col1\" >70</td>\n",
       "                        <td id=\"T_67f10a58_e5ef_11eb_8fe6_5cbaef99ed1crow1_col2\" class=\"data row1 col2\" >72</td>\n",
       "                        <td id=\"T_67f10a58_e5ef_11eb_8fe6_5cbaef99ed1crow1_col3\" class=\"data row1 col3\" >233</td>\n",
       "            </tr>\n",
       "            <tr>\n",
       "                        <th id=\"T_67f10a58_e5ef_11eb_8fe6_5cbaef99ed1clevel0_row2\" class=\"row_heading level0 row2\" rowspan=2>male</th>\n",
       "                        <th id=\"T_67f10a58_e5ef_11eb_8fe6_5cbaef99ed1clevel1_row2\" class=\"row_heading level1 row2\" >0</th>\n",
       "                        <td id=\"T_67f10a58_e5ef_11eb_8fe6_5cbaef99ed1crow2_col0\" class=\"data row2 col0\" >77</td>\n",
       "                        <td id=\"T_67f10a58_e5ef_11eb_8fe6_5cbaef99ed1crow2_col1\" class=\"data row2 col1\" >91</td>\n",
       "                        <td id=\"T_67f10a58_e5ef_11eb_8fe6_5cbaef99ed1crow2_col2\" class=\"data row2 col2\" >300</td>\n",
       "                        <td id=\"T_67f10a58_e5ef_11eb_8fe6_5cbaef99ed1crow2_col3\" class=\"data row2 col3\" >468</td>\n",
       "            </tr>\n",
       "            <tr>\n",
       "                                <th id=\"T_67f10a58_e5ef_11eb_8fe6_5cbaef99ed1clevel1_row3\" class=\"row_heading level1 row3\" >1</th>\n",
       "                        <td id=\"T_67f10a58_e5ef_11eb_8fe6_5cbaef99ed1crow3_col0\" class=\"data row3 col0\" >45</td>\n",
       "                        <td id=\"T_67f10a58_e5ef_11eb_8fe6_5cbaef99ed1crow3_col1\" class=\"data row3 col1\" >17</td>\n",
       "                        <td id=\"T_67f10a58_e5ef_11eb_8fe6_5cbaef99ed1crow3_col2\" class=\"data row3 col2\" >47</td>\n",
       "                        <td id=\"T_67f10a58_e5ef_11eb_8fe6_5cbaef99ed1crow3_col3\" class=\"data row3 col3\" >109</td>\n",
       "            </tr>\n",
       "            <tr>\n",
       "                        <th id=\"T_67f10a58_e5ef_11eb_8fe6_5cbaef99ed1clevel0_row4\" class=\"row_heading level0 row4\" >All</th>\n",
       "                        <th id=\"T_67f10a58_e5ef_11eb_8fe6_5cbaef99ed1clevel1_row4\" class=\"row_heading level1 row4\" ></th>\n",
       "                        <td id=\"T_67f10a58_e5ef_11eb_8fe6_5cbaef99ed1crow4_col0\" class=\"data row4 col0\" >216</td>\n",
       "                        <td id=\"T_67f10a58_e5ef_11eb_8fe6_5cbaef99ed1crow4_col1\" class=\"data row4 col1\" >184</td>\n",
       "                        <td id=\"T_67f10a58_e5ef_11eb_8fe6_5cbaef99ed1crow4_col2\" class=\"data row4 col2\" >491</td>\n",
       "                        <td id=\"T_67f10a58_e5ef_11eb_8fe6_5cbaef99ed1crow4_col3\" class=\"data row4 col3\" >891</td>\n",
       "            </tr>\n",
       "    </tbody></table>"
      ],
      "text/plain": [
       "<pandas.io.formats.style.Styler at 0x2162917ec10>"
      ]
     },
     "execution_count": 17,
     "metadata": {},
     "output_type": "execute_result"
    }
   ],
   "source": [
    "pd.crosstab([df_train.Sex, df_train.Survived], df_train.Pclass, margins=True).style.background_gradient(cmap='autumn_r')"
   ]
  },
  {
   "cell_type": "code",
   "execution_count": 18,
   "metadata": {},
   "outputs": [
    {
     "data": {
      "image/png": "[encoded data removed]",
      "text/plain": [
       "<Figure size 430.5x360 with 1 Axes>"
      ]
     },
     "metadata": {
      "needs_background": "light"
     },
     "output_type": "display_data"
    }
   ],
   "source": [
    "#ploting the catplot of pclass and survived based on sex\n",
    "sns.catplot('Pclass','Survived',hue='Sex', kind='point', data=df_train);"
   ]
  },
  {
   "cell_type": "code",
   "execution_count": 19,
   "metadata": {},
   "outputs": [
    {
     "data": {
      "image/png": "[encoded data removed]",
      "text/plain": [
       "<Figure size 1080x360 with 3 Axes>"
      ]
     },
     "metadata": {
      "needs_background": "light"
     },
     "output_type": "display_data"
    }
   ],
   "source": [
    "##ploting the catplot of survived and embarked \n",
    "sns.catplot(x='Survived', col='Embarked', kind='count', data=df_train);"
   ]
  },
  {
   "cell_type": "code",
   "execution_count": 20,
   "metadata": {},
   "outputs": [
    {
     "data": {
      "image/png": "[encoded data removed]",
      "text/plain": [
       "<Figure size 360x360 with 1 Axes>"
      ]
     },
     "metadata": {
      "needs_background": "light"
     },
     "output_type": "display_data"
    }
   ],
   "source": [
    "#ploting the catplot of embarked and survived\n",
    "sns.catplot('Embarked','Survived', kind='point', data=df_train);"
   ]
  },
  {
   "cell_type": "code",
   "execution_count": 21,
   "metadata": {},
   "outputs": [
    {
     "data": {
      "image/png": "[encoded data removed]",
      "text/plain": [
       "<Figure size 430.5x360 with 1 Axes>"
      ]
     },
     "metadata": {
      "needs_background": "light"
     },
     "output_type": "display_data"
    }
   ],
   "source": [
    "#ploting the catplot of embraked and survived based on sex\n",
    "sns.catplot('Embarked','Survived', hue= 'Sex', kind='point', data=df_train);"
   ]
  },
  {
   "cell_type": "code",
   "execution_count": 22,
   "metadata": {},
   "outputs": [
    {
     "data": {
      "image/png": "[encoded data removed]",
      "text/plain": [
       "<Figure size 1150.5x360 with 3 Axes>"
      ]
     },
     "metadata": {
      "needs_background": "light"
     },
     "output_type": "display_data"
    }
   ],
   "source": [
    "#ploting the catplot of pclass and survived and embarked\n",
    "sns.catplot('Embarked','Survived', col='Pclass', hue= 'Sex', kind='point', data=df_train);"
   ]
  },
  {
   "cell_type": "code",
   "execution_count": 23,
   "metadata": {},
   "outputs": [
    {
     "data": {
      "text/html": [
       "<div>\n",
       "<style scoped>\n",
       "    .dataframe tbody tr th:only-of-type {\n",
       "        vertical-align: middle;\n",
       "    }\n",
       "\n",
       "    .dataframe tbody tr th {\n",
       "        vertical-align: top;\n",
       "    }\n",
       "\n",
       "    .dataframe thead tr th {\n",
       "        text-align: left;\n",
       "    }\n",
       "\n",
       "    .dataframe thead tr:last-of-type th {\n",
       "        text-align: right;\n",
       "    }\n",
       "</style>\n",
       "<table border=\"1\" class=\"dataframe\">\n",
       "  <thead>\n",
       "    <tr>\n",
       "      <th>Sex</th>\n",
       "      <th colspan=\"9\" halign=\"left\">female</th>\n",
       "      <th colspan=\"9\" halign=\"left\">male</th>\n",
       "      <th>All</th>\n",
       "    </tr>\n",
       "    <tr>\n",
       "      <th>Pclass</th>\n",
       "      <th colspan=\"3\" halign=\"left\">1</th>\n",
       "      <th colspan=\"3\" halign=\"left\">2</th>\n",
       "      <th colspan=\"3\" halign=\"left\">3</th>\n",
       "      <th colspan=\"3\" halign=\"left\">1</th>\n",
       "      <th colspan=\"3\" halign=\"left\">2</th>\n",
       "      <th colspan=\"3\" halign=\"left\">3</th>\n",
       "      <th></th>\n",
       "    </tr>\n",
       "    <tr>\n",
       "      <th>Embarked</th>\n",
       "      <th>C</th>\n",
       "      <th>Q</th>\n",
       "      <th>S</th>\n",
       "      <th>C</th>\n",
       "      <th>Q</th>\n",
       "      <th>S</th>\n",
       "      <th>C</th>\n",
       "      <th>Q</th>\n",
       "      <th>S</th>\n",
       "      <th>C</th>\n",
       "      <th>Q</th>\n",
       "      <th>S</th>\n",
       "      <th>C</th>\n",
       "      <th>Q</th>\n",
       "      <th>S</th>\n",
       "      <th>C</th>\n",
       "      <th>Q</th>\n",
       "      <th>S</th>\n",
       "      <th></th>\n",
       "    </tr>\n",
       "    <tr>\n",
       "      <th>Survived</th>\n",
       "      <th></th>\n",
       "      <th></th>\n",
       "      <th></th>\n",
       "      <th></th>\n",
       "      <th></th>\n",
       "      <th></th>\n",
       "      <th></th>\n",
       "      <th></th>\n",
       "      <th></th>\n",
       "      <th></th>\n",
       "      <th></th>\n",
       "      <th></th>\n",
       "      <th></th>\n",
       "      <th></th>\n",
       "      <th></th>\n",
       "      <th></th>\n",
       "      <th></th>\n",
       "      <th></th>\n",
       "      <th></th>\n",
       "    </tr>\n",
       "  </thead>\n",
       "  <tbody>\n",
       "    <tr>\n",
       "      <th>0</th>\n",
       "      <td>1</td>\n",
       "      <td>0</td>\n",
       "      <td>2</td>\n",
       "      <td>0</td>\n",
       "      <td>0</td>\n",
       "      <td>6</td>\n",
       "      <td>8</td>\n",
       "      <td>9</td>\n",
       "      <td>55</td>\n",
       "      <td>25</td>\n",
       "      <td>1</td>\n",
       "      <td>51</td>\n",
       "      <td>8</td>\n",
       "      <td>1</td>\n",
       "      <td>82</td>\n",
       "      <td>33</td>\n",
       "      <td>36</td>\n",
       "      <td>231</td>\n",
       "      <td>549</td>\n",
       "    </tr>\n",
       "    <tr>\n",
       "      <th>1</th>\n",
       "      <td>42</td>\n",
       "      <td>1</td>\n",
       "      <td>46</td>\n",
       "      <td>7</td>\n",
       "      <td>2</td>\n",
       "      <td>61</td>\n",
       "      <td>15</td>\n",
       "      <td>24</td>\n",
       "      <td>33</td>\n",
       "      <td>17</td>\n",
       "      <td>0</td>\n",
       "      <td>28</td>\n",
       "      <td>2</td>\n",
       "      <td>0</td>\n",
       "      <td>15</td>\n",
       "      <td>10</td>\n",
       "      <td>3</td>\n",
       "      <td>34</td>\n",
       "      <td>340</td>\n",
       "    </tr>\n",
       "    <tr>\n",
       "      <th>All</th>\n",
       "      <td>43</td>\n",
       "      <td>1</td>\n",
       "      <td>48</td>\n",
       "      <td>7</td>\n",
       "      <td>2</td>\n",
       "      <td>67</td>\n",
       "      <td>23</td>\n",
       "      <td>33</td>\n",
       "      <td>88</td>\n",
       "      <td>42</td>\n",
       "      <td>1</td>\n",
       "      <td>79</td>\n",
       "      <td>10</td>\n",
       "      <td>1</td>\n",
       "      <td>97</td>\n",
       "      <td>43</td>\n",
       "      <td>39</td>\n",
       "      <td>265</td>\n",
       "      <td>889</td>\n",
       "    </tr>\n",
       "  </tbody>\n",
       "</table>\n",
       "</div>"
      ],
      "text/plain": [
       "Sex      female                              male                            \\\n",
       "Pclass        1         2          3            1          2          3       \n",
       "Embarked      C  Q   S  C  Q   S   C   Q   S    C  Q   S   C  Q   S   C   Q   \n",
       "Survived                                                                      \n",
       "0             1  0   2  0  0   6   8   9  55   25  1  51   8  1  82  33  36   \n",
       "1            42  1  46  7  2  61  15  24  33   17  0  28   2  0  15  10   3   \n",
       "All          43  1  48  7  2  67  23  33  88   42  1  79  10  1  97  43  39   \n",
       "\n",
       "Sex            All  \n",
       "Pclass              \n",
       "Embarked    S       \n",
       "Survived            \n",
       "0         231  549  \n",
       "1          34  340  \n",
       "All       265  889  "
      ]
     },
     "execution_count": 23,
     "metadata": {},
     "output_type": "execute_result"
    }
   ],
   "source": [
    "pd.crosstab([df_train.Survived], [df_train.Sex, df_train.Pclass, df_train.Embarked], margins=True)"
   ]
  },
  {
   "cell_type": "code",
   "execution_count": 30,
   "metadata": {},
   "outputs": [],
   "source": [
    "# model 3\n",
    "df_test['Survived'] = 0\n",
    "# all women survived\n",
    "df_test.loc[ (df_test.Sex == 'female'), 'Survived'] = 1\n",
    "# except for those in Pclass 3 and embarked in S\n",
    "df_test.loc[ (df_test.Sex == 'female') & (df_test.Pclass == 3) & (df_test.Embarked == 'S') , 'Survived'] = 0\n",
    "#df_test[['PassengerId', 'Survived']].to_csv('embarked_pclass_sex.csv', index=False)"
   ]
  },
  {
   "cell_type": "code",
   "execution_count": 31,
   "metadata": {},
   "outputs": [],
   "source": [
    "for df in [df_train, df_test]:\n",
    "    df['Age_bin']=np.nan\n",
    "    for i in range(8,0,-1):\n",
    "        df.loc[ df['Age'] <= i*10, 'Age_bin'] = i"
   ]
  },
  {
   "cell_type": "code",
   "execution_count": 32,
   "metadata": {},
   "outputs": [
    {
     "name": "stdout",
     "output_type": "stream",
     "text": [
      "    Age  Age_bin\n",
      "0  22.0      3.0\n",
      "1  38.0      4.0\n",
      "2  26.0      3.0\n",
      "3  35.0      4.0\n",
      "4  35.0      4.0\n",
      "5   NaN      NaN\n",
      "6  54.0      6.0\n",
      "7   2.0      1.0\n",
      "8  27.0      3.0\n",
      "9  14.0      2.0\n"
     ]
    }
   ],
   "source": [
    "print(df_train[['Age' , 'Age_bin']].head(10))"
   ]
  },
  {
   "cell_type": "code",
   "execution_count": 33,
   "metadata": {},
   "outputs": [
    {
     "data": {
      "image/png": "[encoded data removed]",
      "text/plain": [
       "<Figure size 430.5x360 with 1 Axes>"
      ]
     },
     "metadata": {
      "needs_background": "light"
     },
     "output_type": "display_data"
    }
   ],
   "source": [
    "#ploting the catplot of age_bin and survived based on sex\n",
    "sns.catplot('Age_bin','Survived',hue='Sex',kind='point',data=df_train);"
   ]
  },
  {
   "cell_type": "code",
   "execution_count": 34,
   "metadata": {},
   "outputs": [
    {
     "data": {
      "image/png": "[encoded data removed]",
      "text/plain": [
       "<Figure size 1080x720 with 6 Axes>"
      ]
     },
     "metadata": {
      "needs_background": "light"
     },
     "output_type": "display_data"
    }
   ],
   "source": [
    "#ploting the catplot of pclass and survived and and age_bin\n",
    "sns.catplot('Age_bin','Survived', col='Pclass' , row = 'Sex', kind='point', data=df_train);"
   ]
  },
  {
   "cell_type": "code",
   "execution_count": 35,
   "metadata": {},
   "outputs": [
    {
     "data": {
      "text/html": [
       "<style  type=\"text/css\" >\n",
       "#T_99a5087a_e5f2_11eb_a654_5cbaef99ed1crow0_col0,#T_99a5087a_e5f2_11eb_a654_5cbaef99ed1crow0_col1,#T_99a5087a_e5f2_11eb_a654_5cbaef99ed1crow0_col3,#T_99a5087a_e5f2_11eb_a654_5cbaef99ed1crow0_col4,#T_99a5087a_e5f2_11eb_a654_5cbaef99ed1crow0_col6,#T_99a5087a_e5f2_11eb_a654_5cbaef99ed1crow0_col7,#T_99a5087a_e5f2_11eb_a654_5cbaef99ed1crow0_col9,#T_99a5087a_e5f2_11eb_a654_5cbaef99ed1crow0_col10,#T_99a5087a_e5f2_11eb_a654_5cbaef99ed1crow0_col12,#T_99a5087a_e5f2_11eb_a654_5cbaef99ed1crow0_col15,#T_99a5087a_e5f2_11eb_a654_5cbaef99ed1crow0_col17,#T_99a5087a_e5f2_11eb_a654_5cbaef99ed1crow0_col18,#T_99a5087a_e5f2_11eb_a654_5cbaef99ed1crow0_col19,#T_99a5087a_e5f2_11eb_a654_5cbaef99ed1crow0_col20,#T_99a5087a_e5f2_11eb_a654_5cbaef99ed1crow0_col21,#T_99a5087a_e5f2_11eb_a654_5cbaef99ed1crow0_col22,#T_99a5087a_e5f2_11eb_a654_5cbaef99ed1crow1_col8,#T_99a5087a_e5f2_11eb_a654_5cbaef99ed1crow1_col11,#T_99a5087a_e5f2_11eb_a654_5cbaef99ed1crow1_col17,#T_99a5087a_e5f2_11eb_a654_5cbaef99ed1crow1_col19,#T_99a5087a_e5f2_11eb_a654_5cbaef99ed1crow1_col21,#T_99a5087a_e5f2_11eb_a654_5cbaef99ed1crow1_col22,#T_99a5087a_e5f2_11eb_a654_5cbaef99ed1crow3_col2,#T_99a5087a_e5f2_11eb_a654_5cbaef99ed1crow3_col4,#T_99a5087a_e5f2_11eb_a654_5cbaef99ed1crow3_col5,#T_99a5087a_e5f2_11eb_a654_5cbaef99ed1crow3_col7,#T_99a5087a_e5f2_11eb_a654_5cbaef99ed1crow3_col8,#T_99a5087a_e5f2_11eb_a654_5cbaef99ed1crow3_col13,#T_99a5087a_e5f2_11eb_a654_5cbaef99ed1crow3_col14,#T_99a5087a_e5f2_11eb_a654_5cbaef99ed1crow3_col16,#T_99a5087a_e5f2_11eb_a654_5cbaef99ed1crow3_col17,#T_99a5087a_e5f2_11eb_a654_5cbaef99ed1crow3_col18,#T_99a5087a_e5f2_11eb_a654_5cbaef99ed1crow3_col20,#T_99a5087a_e5f2_11eb_a654_5cbaef99ed1crow3_col22,#T_99a5087a_e5f2_11eb_a654_5cbaef99ed1crow3_col23{\n",
       "            background-color:  #ffff00;\n",
       "            color:  #000000;\n",
       "        }#T_99a5087a_e5f2_11eb_a654_5cbaef99ed1crow0_col2{\n",
       "            background-color:  #ffbe00;\n",
       "            color:  #000000;\n",
       "        }#T_99a5087a_e5f2_11eb_a654_5cbaef99ed1crow0_col5{\n",
       "            background-color:  #ffe100;\n",
       "            color:  #000000;\n",
       "        }#T_99a5087a_e5f2_11eb_a654_5cbaef99ed1crow0_col8,#T_99a5087a_e5f2_11eb_a654_5cbaef99ed1crow0_col11{\n",
       "            background-color:  #ffd600;\n",
       "            color:  #000000;\n",
       "        }#T_99a5087a_e5f2_11eb_a654_5cbaef99ed1crow0_col13,#T_99a5087a_e5f2_11eb_a654_5cbaef99ed1crow1_col2{\n",
       "            background-color:  #fff200;\n",
       "            color:  #000000;\n",
       "        }#T_99a5087a_e5f2_11eb_a654_5cbaef99ed1crow0_col14{\n",
       "            background-color:  #ffc400;\n",
       "            color:  #000000;\n",
       "        }#T_99a5087a_e5f2_11eb_a654_5cbaef99ed1crow0_col16{\n",
       "            background-color:  #ffea00;\n",
       "            color:  #000000;\n",
       "        }#T_99a5087a_e5f2_11eb_a654_5cbaef99ed1crow0_col23{\n",
       "            background-color:  #fff800;\n",
       "            color:  #000000;\n",
       "        }#T_99a5087a_e5f2_11eb_a654_5cbaef99ed1crow1_col0,#T_99a5087a_e5f2_11eb_a654_5cbaef99ed1crow1_col20,#T_99a5087a_e5f2_11eb_a654_5cbaef99ed1crow2_col0,#T_99a5087a_e5f2_11eb_a654_5cbaef99ed1crow3_col0,#T_99a5087a_e5f2_11eb_a654_5cbaef99ed1crow3_col19,#T_99a5087a_e5f2_11eb_a654_5cbaef99ed1crow3_col21{\n",
       "            background-color:  #ffaa00;\n",
       "            color:  #000000;\n",
       "        }#T_99a5087a_e5f2_11eb_a654_5cbaef99ed1crow1_col1{\n",
       "            background-color:  #ff8700;\n",
       "            color:  #000000;\n",
       "        }#T_99a5087a_e5f2_11eb_a654_5cbaef99ed1crow1_col3{\n",
       "            background-color:  #ff4700;\n",
       "            color:  #f1f1f1;\n",
       "        }#T_99a5087a_e5f2_11eb_a654_5cbaef99ed1crow1_col4{\n",
       "            background-color:  #ff8e00;\n",
       "            color:  #000000;\n",
       "        }#T_99a5087a_e5f2_11eb_a654_5cbaef99ed1crow1_col5{\n",
       "            background-color:  #ffde00;\n",
       "            color:  #000000;\n",
       "        }#T_99a5087a_e5f2_11eb_a654_5cbaef99ed1crow1_col6{\n",
       "            background-color:  #ff8300;\n",
       "            color:  #000000;\n",
       "        }#T_99a5087a_e5f2_11eb_a654_5cbaef99ed1crow1_col7{\n",
       "            background-color:  #ff8a00;\n",
       "            color:  #000000;\n",
       "        }#T_99a5087a_e5f2_11eb_a654_5cbaef99ed1crow1_col9{\n",
       "            background-color:  #ff8200;\n",
       "            color:  #000000;\n",
       "        }#T_99a5087a_e5f2_11eb_a654_5cbaef99ed1crow1_col10{\n",
       "            background-color:  #ff9a00;\n",
       "            color:  #000000;\n",
       "        }#T_99a5087a_e5f2_11eb_a654_5cbaef99ed1crow1_col12{\n",
       "            background-color:  #ffa600;\n",
       "            color:  #000000;\n",
       "        }#T_99a5087a_e5f2_11eb_a654_5cbaef99ed1crow1_col13,#T_99a5087a_e5f2_11eb_a654_5cbaef99ed1crow2_col13{\n",
       "            background-color:  #ff8600;\n",
       "            color:  #000000;\n",
       "        }#T_99a5087a_e5f2_11eb_a654_5cbaef99ed1crow1_col14{\n",
       "            background-color:  #fff700;\n",
       "            color:  #000000;\n",
       "        }#T_99a5087a_e5f2_11eb_a654_5cbaef99ed1crow1_col15{\n",
       "            background-color:  #ff8f00;\n",
       "            color:  #000000;\n",
       "        }#T_99a5087a_e5f2_11eb_a654_5cbaef99ed1crow1_col16,#T_99a5087a_e5f2_11eb_a654_5cbaef99ed1crow2_col3{\n",
       "            background-color:  #ffd500;\n",
       "            color:  #000000;\n",
       "        }#T_99a5087a_e5f2_11eb_a654_5cbaef99ed1crow1_col18{\n",
       "            background-color:  #ffd100;\n",
       "            color:  #000000;\n",
       "        }#T_99a5087a_e5f2_11eb_a654_5cbaef99ed1crow1_col23{\n",
       "            background-color:  #ffcd00;\n",
       "            color:  #000000;\n",
       "        }#T_99a5087a_e5f2_11eb_a654_5cbaef99ed1crow2_col1{\n",
       "            background-color:  #ffb400;\n",
       "            color:  #000000;\n",
       "        }#T_99a5087a_e5f2_11eb_a654_5cbaef99ed1crow2_col2,#T_99a5087a_e5f2_11eb_a654_5cbaef99ed1crow2_col6{\n",
       "            background-color:  #ffb100;\n",
       "            color:  #000000;\n",
       "        }#T_99a5087a_e5f2_11eb_a654_5cbaef99ed1crow2_col4,#T_99a5087a_e5f2_11eb_a654_5cbaef99ed1crow2_col10{\n",
       "            background-color:  #ff7100;\n",
       "            color:  #000000;\n",
       "        }#T_99a5087a_e5f2_11eb_a654_5cbaef99ed1crow2_col5{\n",
       "            background-color:  #ff5e00;\n",
       "            color:  #000000;\n",
       "        }#T_99a5087a_e5f2_11eb_a654_5cbaef99ed1crow2_col7{\n",
       "            background-color:  #ff7500;\n",
       "            color:  #000000;\n",
       "        }#T_99a5087a_e5f2_11eb_a654_5cbaef99ed1crow2_col8,#T_99a5087a_e5f2_11eb_a654_5cbaef99ed1crow2_col11{\n",
       "            background-color:  #ff4f00;\n",
       "            color:  #000000;\n",
       "        }#T_99a5087a_e5f2_11eb_a654_5cbaef99ed1crow2_col9{\n",
       "            background-color:  #ffac00;\n",
       "            color:  #000000;\n",
       "        }#T_99a5087a_e5f2_11eb_a654_5cbaef99ed1crow2_col12{\n",
       "            background-color:  #ff9100;\n",
       "            color:  #000000;\n",
       "        }#T_99a5087a_e5f2_11eb_a654_5cbaef99ed1crow2_col14{\n",
       "            background-color:  #ff4400;\n",
       "            color:  #f1f1f1;\n",
       "        }#T_99a5087a_e5f2_11eb_a654_5cbaef99ed1crow2_col15{\n",
       "            background-color:  #ff9900;\n",
       "            color:  #000000;\n",
       "        }#T_99a5087a_e5f2_11eb_a654_5cbaef99ed1crow2_col16{\n",
       "            background-color:  #ff3f00;\n",
       "            color:  #f1f1f1;\n",
       "        }#T_99a5087a_e5f2_11eb_a654_5cbaef99ed1crow2_col17,#T_99a5087a_e5f2_11eb_a654_5cbaef99ed1crow2_col22,#T_99a5087a_e5f2_11eb_a654_5cbaef99ed1crow4_col0,#T_99a5087a_e5f2_11eb_a654_5cbaef99ed1crow4_col1,#T_99a5087a_e5f2_11eb_a654_5cbaef99ed1crow4_col2,#T_99a5087a_e5f2_11eb_a654_5cbaef99ed1crow4_col3,#T_99a5087a_e5f2_11eb_a654_5cbaef99ed1crow4_col4,#T_99a5087a_e5f2_11eb_a654_5cbaef99ed1crow4_col5,#T_99a5087a_e5f2_11eb_a654_5cbaef99ed1crow4_col6,#T_99a5087a_e5f2_11eb_a654_5cbaef99ed1crow4_col7,#T_99a5087a_e5f2_11eb_a654_5cbaef99ed1crow4_col8,#T_99a5087a_e5f2_11eb_a654_5cbaef99ed1crow4_col9,#T_99a5087a_e5f2_11eb_a654_5cbaef99ed1crow4_col10,#T_99a5087a_e5f2_11eb_a654_5cbaef99ed1crow4_col11,#T_99a5087a_e5f2_11eb_a654_5cbaef99ed1crow4_col12,#T_99a5087a_e5f2_11eb_a654_5cbaef99ed1crow4_col13,#T_99a5087a_e5f2_11eb_a654_5cbaef99ed1crow4_col14,#T_99a5087a_e5f2_11eb_a654_5cbaef99ed1crow4_col15,#T_99a5087a_e5f2_11eb_a654_5cbaef99ed1crow4_col16,#T_99a5087a_e5f2_11eb_a654_5cbaef99ed1crow4_col17,#T_99a5087a_e5f2_11eb_a654_5cbaef99ed1crow4_col18,#T_99a5087a_e5f2_11eb_a654_5cbaef99ed1crow4_col19,#T_99a5087a_e5f2_11eb_a654_5cbaef99ed1crow4_col20,#T_99a5087a_e5f2_11eb_a654_5cbaef99ed1crow4_col21,#T_99a5087a_e5f2_11eb_a654_5cbaef99ed1crow4_col22,#T_99a5087a_e5f2_11eb_a654_5cbaef99ed1crow4_col23{\n",
       "            background-color:  #ff0000;\n",
       "            color:  #f1f1f1;\n",
       "        }#T_99a5087a_e5f2_11eb_a654_5cbaef99ed1crow2_col18{\n",
       "            background-color:  #ff2e00;\n",
       "            color:  #f1f1f1;\n",
       "        }#T_99a5087a_e5f2_11eb_a654_5cbaef99ed1crow2_col19,#T_99a5087a_e5f2_11eb_a654_5cbaef99ed1crow2_col20,#T_99a5087a_e5f2_11eb_a654_5cbaef99ed1crow2_col21{\n",
       "            background-color:  #ff5500;\n",
       "            color:  #000000;\n",
       "        }#T_99a5087a_e5f2_11eb_a654_5cbaef99ed1crow2_col23{\n",
       "            background-color:  #ff7b00;\n",
       "            color:  #000000;\n",
       "        }#T_99a5087a_e5f2_11eb_a654_5cbaef99ed1crow3_col1{\n",
       "            background-color:  #ffc300;\n",
       "            color:  #000000;\n",
       "        }#T_99a5087a_e5f2_11eb_a654_5cbaef99ed1crow3_col3{\n",
       "            background-color:  #ffe300;\n",
       "            color:  #000000;\n",
       "        }#T_99a5087a_e5f2_11eb_a654_5cbaef99ed1crow3_col6{\n",
       "            background-color:  #ffdf00;\n",
       "            color:  #000000;\n",
       "        }#T_99a5087a_e5f2_11eb_a654_5cbaef99ed1crow3_col9{\n",
       "            background-color:  #ffd000;\n",
       "            color:  #000000;\n",
       "        }#T_99a5087a_e5f2_11eb_a654_5cbaef99ed1crow3_col10{\n",
       "            background-color:  #fff400;\n",
       "            color:  #000000;\n",
       "        }#T_99a5087a_e5f2_11eb_a654_5cbaef99ed1crow3_col11{\n",
       "            background-color:  #fff300;\n",
       "            color:  #000000;\n",
       "        }#T_99a5087a_e5f2_11eb_a654_5cbaef99ed1crow3_col12{\n",
       "            background-color:  #ffc800;\n",
       "            color:  #000000;\n",
       "        }#T_99a5087a_e5f2_11eb_a654_5cbaef99ed1crow3_col15{\n",
       "            background-color:  #ffd700;\n",
       "            color:  #000000;\n",
       "        }</style><table id=\"T_99a5087a_e5f2_11eb_a654_5cbaef99ed1c\" ><thead>    <tr>        <th class=\"blank\" ></th>        <th class=\"index_name level0\" >Age_bin</th>        <th class=\"col_heading level0 col0\" colspan=3>1.0</th>        <th class=\"col_heading level0 col3\" colspan=3>2.0</th>        <th class=\"col_heading level0 col6\" colspan=3>3.0</th>        <th class=\"col_heading level0 col9\" colspan=3>4.0</th>        <th class=\"col_heading level0 col12\" colspan=3>5.0</th>        <th class=\"col_heading level0 col15\" colspan=3>6.0</th>        <th class=\"col_heading level0 col18\" colspan=3>7.0</th>        <th class=\"col_heading level0 col21\" colspan=2>8.0</th>        <th class=\"col_heading level0 col23\" >All</th>    </tr>    <tr>        <th class=\"blank\" ></th>        <th class=\"index_name level1\" >Pclass</th>        <th class=\"col_heading level1 col0\" >1</th>        <th class=\"col_heading level1 col1\" >2</th>        <th class=\"col_heading level1 col2\" >3</th>        <th class=\"col_heading level1 col3\" >1</th>        <th class=\"col_heading level1 col4\" >2</th>        <th class=\"col_heading level1 col5\" >3</th>        <th class=\"col_heading level1 col6\" >1</th>        <th class=\"col_heading level1 col7\" >2</th>        <th class=\"col_heading level1 col8\" >3</th>        <th class=\"col_heading level1 col9\" >1</th>        <th class=\"col_heading level1 col10\" >2</th>        <th class=\"col_heading level1 col11\" >3</th>        <th class=\"col_heading level1 col12\" >1</th>        <th class=\"col_heading level1 col13\" >2</th>        <th class=\"col_heading level1 col14\" >3</th>        <th class=\"col_heading level1 col15\" >1</th>        <th class=\"col_heading level1 col16\" >2</th>        <th class=\"col_heading level1 col17\" >3</th>        <th class=\"col_heading level1 col18\" >1</th>        <th class=\"col_heading level1 col19\" >2</th>        <th class=\"col_heading level1 col20\" >3</th>        <th class=\"col_heading level1 col21\" >1</th>        <th class=\"col_heading level1 col22\" >3</th>        <th class=\"col_heading level1 col23\" ></th>    </tr>    <tr>        <th class=\"index_name level0\" >Sex</th>        <th class=\"index_name level1\" >Survived</th>        <th class=\"blank\" ></th>        <th class=\"blank\" ></th>        <th class=\"blank\" ></th>        <th class=\"blank\" ></th>        <th class=\"blank\" ></th>        <th class=\"blank\" ></th>        <th class=\"blank\" ></th>        <th class=\"blank\" ></th>        <th class=\"blank\" ></th>        <th class=\"blank\" ></th>        <th class=\"blank\" ></th>        <th class=\"blank\" ></th>        <th class=\"blank\" ></th>        <th class=\"blank\" ></th>        <th class=\"blank\" ></th>        <th class=\"blank\" ></th>        <th class=\"blank\" ></th>        <th class=\"blank\" ></th>        <th class=\"blank\" ></th>        <th class=\"blank\" ></th>        <th class=\"blank\" ></th>        <th class=\"blank\" ></th>        <th class=\"blank\" ></th>        <th class=\"blank\" ></th>    </tr></thead><tbody>\n",
       "                <tr>\n",
       "                        <th id=\"T_99a5087a_e5f2_11eb_a654_5cbaef99ed1clevel0_row0\" class=\"row_heading level0 row0\" rowspan=2>female</th>\n",
       "                        <th id=\"T_99a5087a_e5f2_11eb_a654_5cbaef99ed1clevel1_row0\" class=\"row_heading level1 row0\" >0</th>\n",
       "                        <td id=\"T_99a5087a_e5f2_11eb_a654_5cbaef99ed1crow0_col0\" class=\"data row0 col0\" >0</td>\n",
       "                        <td id=\"T_99a5087a_e5f2_11eb_a654_5cbaef99ed1crow0_col1\" class=\"data row0 col1\" >0</td>\n",
       "                        <td id=\"T_99a5087a_e5f2_11eb_a654_5cbaef99ed1crow0_col2\" class=\"data row0 col2\" >15</td>\n",
       "                        <td id=\"T_99a5087a_e5f2_11eb_a654_5cbaef99ed1crow0_col3\" class=\"data row0 col3\" >0</td>\n",
       "                        <td id=\"T_99a5087a_e5f2_11eb_a654_5cbaef99ed1crow0_col4\" class=\"data row0 col4\" >0</td>\n",
       "                        <td id=\"T_99a5087a_e5f2_11eb_a654_5cbaef99ed1crow0_col5\" class=\"data row0 col5\" >12</td>\n",
       "                        <td id=\"T_99a5087a_e5f2_11eb_a654_5cbaef99ed1crow0_col6\" class=\"data row0 col6\" >1</td>\n",
       "                        <td id=\"T_99a5087a_e5f2_11eb_a654_5cbaef99ed1crow0_col7\" class=\"data row0 col7\" >0</td>\n",
       "                        <td id=\"T_99a5087a_e5f2_11eb_a654_5cbaef99ed1crow0_col8\" class=\"data row0 col8\" >26</td>\n",
       "                        <td id=\"T_99a5087a_e5f2_11eb_a654_5cbaef99ed1crow0_col9\" class=\"data row0 col9\" >0</td>\n",
       "                        <td id=\"T_99a5087a_e5f2_11eb_a654_5cbaef99ed1crow0_col10\" class=\"data row0 col10\" >0</td>\n",
       "                        <td id=\"T_99a5087a_e5f2_11eb_a654_5cbaef99ed1crow0_col11\" class=\"data row0 col11\" >12</td>\n",
       "                        <td id=\"T_99a5087a_e5f2_11eb_a654_5cbaef99ed1crow0_col12\" class=\"data row0 col12\" >0</td>\n",
       "                        <td id=\"T_99a5087a_e5f2_11eb_a654_5cbaef99ed1crow0_col13\" class=\"data row0 col13\" >1</td>\n",
       "                        <td id=\"T_99a5087a_e5f2_11eb_a654_5cbaef99ed1crow0_col14\" class=\"data row0 col14\" >7</td>\n",
       "                        <td id=\"T_99a5087a_e5f2_11eb_a654_5cbaef99ed1crow0_col15\" class=\"data row0 col15\" >0</td>\n",
       "                        <td id=\"T_99a5087a_e5f2_11eb_a654_5cbaef99ed1crow0_col16\" class=\"data row0 col16\" >1</td>\n",
       "                        <td id=\"T_99a5087a_e5f2_11eb_a654_5cbaef99ed1crow0_col17\" class=\"data row0 col17\" >0</td>\n",
       "                        <td id=\"T_99a5087a_e5f2_11eb_a654_5cbaef99ed1crow0_col18\" class=\"data row0 col18\" >0</td>\n",
       "                        <td id=\"T_99a5087a_e5f2_11eb_a654_5cbaef99ed1crow0_col19\" class=\"data row0 col19\" >0</td>\n",
       "                        <td id=\"T_99a5087a_e5f2_11eb_a654_5cbaef99ed1crow0_col20\" class=\"data row0 col20\" >0</td>\n",
       "                        <td id=\"T_99a5087a_e5f2_11eb_a654_5cbaef99ed1crow0_col21\" class=\"data row0 col21\" >0</td>\n",
       "                        <td id=\"T_99a5087a_e5f2_11eb_a654_5cbaef99ed1crow0_col22\" class=\"data row0 col22\" >0</td>\n",
       "                        <td id=\"T_99a5087a_e5f2_11eb_a654_5cbaef99ed1crow0_col23\" class=\"data row0 col23\" >75</td>\n",
       "            </tr>\n",
       "            <tr>\n",
       "                                <th id=\"T_99a5087a_e5f2_11eb_a654_5cbaef99ed1clevel1_row1\" class=\"row_heading level1 row1\" >1</th>\n",
       "                        <td id=\"T_99a5087a_e5f2_11eb_a654_5cbaef99ed1crow1_col0\" class=\"data row1 col0\" >1</td>\n",
       "                        <td id=\"T_99a5087a_e5f2_11eb_a654_5cbaef99ed1crow1_col1\" class=\"data row1 col1\" >8</td>\n",
       "                        <td id=\"T_99a5087a_e5f2_11eb_a654_5cbaef99ed1crow1_col2\" class=\"data row1 col2\" >7</td>\n",
       "                        <td id=\"T_99a5087a_e5f2_11eb_a654_5cbaef99ed1crow1_col3\" class=\"data row1 col3\" >13</td>\n",
       "                        <td id=\"T_99a5087a_e5f2_11eb_a654_5cbaef99ed1crow1_col4\" class=\"data row1 col4\" >8</td>\n",
       "                        <td id=\"T_99a5087a_e5f2_11eb_a654_5cbaef99ed1crow1_col5\" class=\"data row1 col5\" >13</td>\n",
       "                        <td id=\"T_99a5087a_e5f2_11eb_a654_5cbaef99ed1crow1_col6\" class=\"data row1 col6\" >20</td>\n",
       "                        <td id=\"T_99a5087a_e5f2_11eb_a654_5cbaef99ed1crow1_col7\" class=\"data row1 col7\" >28</td>\n",
       "                        <td id=\"T_99a5087a_e5f2_11eb_a654_5cbaef99ed1crow1_col8\" class=\"data row1 col8\" >6</td>\n",
       "                        <td id=\"T_99a5087a_e5f2_11eb_a654_5cbaef99ed1crow1_col9\" class=\"data row1 col9\" >24</td>\n",
       "                        <td id=\"T_99a5087a_e5f2_11eb_a654_5cbaef99ed1crow1_col10\" class=\"data row1 col10\" >17</td>\n",
       "                        <td id=\"T_99a5087a_e5f2_11eb_a654_5cbaef99ed1crow1_col11\" class=\"data row1 col11\" >2</td>\n",
       "                        <td id=\"T_99a5087a_e5f2_11eb_a654_5cbaef99ed1crow1_col12\" class=\"data row1 col12\" >13</td>\n",
       "                        <td id=\"T_99a5087a_e5f2_11eb_a654_5cbaef99ed1crow1_col13\" class=\"data row1 col13\" >9</td>\n",
       "                        <td id=\"T_99a5087a_e5f2_11eb_a654_5cbaef99ed1crow1_col14\" class=\"data row1 col14\" >1</td>\n",
       "                        <td id=\"T_99a5087a_e5f2_11eb_a654_5cbaef99ed1crow1_col15\" class=\"data row1 col15\" >11</td>\n",
       "                        <td id=\"T_99a5087a_e5f2_11eb_a654_5cbaef99ed1crow1_col16\" class=\"data row1 col16\" >2</td>\n",
       "                        <td id=\"T_99a5087a_e5f2_11eb_a654_5cbaef99ed1crow1_col17\" class=\"data row1 col17\" >0</td>\n",
       "                        <td id=\"T_99a5087a_e5f2_11eb_a654_5cbaef99ed1crow1_col18\" class=\"data row1 col18\" >2</td>\n",
       "                        <td id=\"T_99a5087a_e5f2_11eb_a654_5cbaef99ed1crow1_col19\" class=\"data row1 col19\" >0</td>\n",
       "                        <td id=\"T_99a5087a_e5f2_11eb_a654_5cbaef99ed1crow1_col20\" class=\"data row1 col20\" >1</td>\n",
       "                        <td id=\"T_99a5087a_e5f2_11eb_a654_5cbaef99ed1crow1_col21\" class=\"data row1 col21\" >0</td>\n",
       "                        <td id=\"T_99a5087a_e5f2_11eb_a654_5cbaef99ed1crow1_col22\" class=\"data row1 col22\" >0</td>\n",
       "                        <td id=\"T_99a5087a_e5f2_11eb_a654_5cbaef99ed1crow1_col23\" class=\"data row1 col23\" >186</td>\n",
       "            </tr>\n",
       "            <tr>\n",
       "                        <th id=\"T_99a5087a_e5f2_11eb_a654_5cbaef99ed1clevel0_row2\" class=\"row_heading level0 row2\" rowspan=2>male</th>\n",
       "                        <th id=\"T_99a5087a_e5f2_11eb_a654_5cbaef99ed1clevel1_row2\" class=\"row_heading level1 row2\" >0</th>\n",
       "                        <td id=\"T_99a5087a_e5f2_11eb_a654_5cbaef99ed1crow2_col0\" class=\"data row2 col0\" >1</td>\n",
       "                        <td id=\"T_99a5087a_e5f2_11eb_a654_5cbaef99ed1crow2_col1\" class=\"data row2 col1\" >5</td>\n",
       "                        <td id=\"T_99a5087a_e5f2_11eb_a654_5cbaef99ed1crow2_col2\" class=\"data row2 col2\" >17</td>\n",
       "                        <td id=\"T_99a5087a_e5f2_11eb_a654_5cbaef99ed1crow2_col3\" class=\"data row2 col3\" >3</td>\n",
       "                        <td id=\"T_99a5087a_e5f2_11eb_a654_5cbaef99ed1crow2_col4\" class=\"data row2 col4\" >10</td>\n",
       "                        <td id=\"T_99a5087a_e5f2_11eb_a654_5cbaef99ed1crow2_col5\" class=\"data row2 col5\" >51</td>\n",
       "                        <td id=\"T_99a5087a_e5f2_11eb_a654_5cbaef99ed1crow2_col6\" class=\"data row2 col6\" >13</td>\n",
       "                        <td id=\"T_99a5087a_e5f2_11eb_a654_5cbaef99ed1crow2_col7\" class=\"data row2 col7\" >33</td>\n",
       "                        <td id=\"T_99a5087a_e5f2_11eb_a654_5cbaef99ed1crow2_col8\" class=\"data row2 col8\" >91</td>\n",
       "                        <td id=\"T_99a5087a_e5f2_11eb_a654_5cbaef99ed1crow2_col9\" class=\"data row2 col9\" >16</td>\n",
       "                        <td id=\"T_99a5087a_e5f2_11eb_a654_5cbaef99ed1crow2_col10\" class=\"data row2 col10\" >24</td>\n",
       "                        <td id=\"T_99a5087a_e5f2_11eb_a654_5cbaef99ed1crow2_col11\" class=\"data row2 col11\" >44</td>\n",
       "                        <td id=\"T_99a5087a_e5f2_11eb_a654_5cbaef99ed1crow2_col12\" class=\"data row2 col12\" >16</td>\n",
       "                        <td id=\"T_99a5087a_e5f2_11eb_a654_5cbaef99ed1crow2_col13\" class=\"data row2 col13\" >9</td>\n",
       "                        <td id=\"T_99a5087a_e5f2_11eb_a654_5cbaef99ed1crow2_col14\" class=\"data row2 col14\" >22</td>\n",
       "                        <td id=\"T_99a5087a_e5f2_11eb_a654_5cbaef99ed1crow2_col15\" class=\"data row2 col15\" >10</td>\n",
       "                        <td id=\"T_99a5087a_e5f2_11eb_a654_5cbaef99ed1crow2_col16\" class=\"data row2 col16\" >9</td>\n",
       "                        <td id=\"T_99a5087a_e5f2_11eb_a654_5cbaef99ed1crow2_col17\" class=\"data row2 col17\" >5</td>\n",
       "                        <td id=\"T_99a5087a_e5f2_11eb_a654_5cbaef99ed1crow2_col18\" class=\"data row2 col18\" >9</td>\n",
       "                        <td id=\"T_99a5087a_e5f2_11eb_a654_5cbaef99ed1crow2_col19\" class=\"data row2 col19\" >2</td>\n",
       "                        <td id=\"T_99a5087a_e5f2_11eb_a654_5cbaef99ed1crow2_col20\" class=\"data row2 col20\" >2</td>\n",
       "                        <td id=\"T_99a5087a_e5f2_11eb_a654_5cbaef99ed1crow2_col21\" class=\"data row2 col21\" >2</td>\n",
       "                        <td id=\"T_99a5087a_e5f2_11eb_a654_5cbaef99ed1crow2_col22\" class=\"data row2 col22\" >2</td>\n",
       "                        <td id=\"T_99a5087a_e5f2_11eb_a654_5cbaef99ed1crow2_col23\" class=\"data row2 col23\" >396</td>\n",
       "            </tr>\n",
       "            <tr>\n",
       "                                <th id=\"T_99a5087a_e5f2_11eb_a654_5cbaef99ed1clevel1_row3\" class=\"row_heading level1 row3\" >1</th>\n",
       "                        <td id=\"T_99a5087a_e5f2_11eb_a654_5cbaef99ed1crow3_col0\" class=\"data row3 col0\" >1</td>\n",
       "                        <td id=\"T_99a5087a_e5f2_11eb_a654_5cbaef99ed1crow3_col1\" class=\"data row3 col1\" >4</td>\n",
       "                        <td id=\"T_99a5087a_e5f2_11eb_a654_5cbaef99ed1crow3_col2\" class=\"data row3 col2\" >5</td>\n",
       "                        <td id=\"T_99a5087a_e5f2_11eb_a654_5cbaef99ed1crow3_col3\" class=\"data row3 col3\" >2</td>\n",
       "                        <td id=\"T_99a5087a_e5f2_11eb_a654_5cbaef99ed1crow3_col4\" class=\"data row3 col4\" >0</td>\n",
       "                        <td id=\"T_99a5087a_e5f2_11eb_a654_5cbaef99ed1crow3_col5\" class=\"data row3 col5\" >3</td>\n",
       "                        <td id=\"T_99a5087a_e5f2_11eb_a654_5cbaef99ed1crow3_col6\" class=\"data row3 col6\" >6</td>\n",
       "                        <td id=\"T_99a5087a_e5f2_11eb_a654_5cbaef99ed1crow3_col7\" class=\"data row3 col7\" >0</td>\n",
       "                        <td id=\"T_99a5087a_e5f2_11eb_a654_5cbaef99ed1crow3_col8\" class=\"data row3 col8\" >6</td>\n",
       "                        <td id=\"T_99a5087a_e5f2_11eb_a654_5cbaef99ed1crow3_col9\" class=\"data row3 col9\" >9</td>\n",
       "                        <td id=\"T_99a5087a_e5f2_11eb_a654_5cbaef99ed1crow3_col10\" class=\"data row3 col10\" >2</td>\n",
       "                        <td id=\"T_99a5087a_e5f2_11eb_a654_5cbaef99ed1crow3_col11\" class=\"data row3 col11\" >5</td>\n",
       "                        <td id=\"T_99a5087a_e5f2_11eb_a654_5cbaef99ed1crow3_col12\" class=\"data row3 col12\" >8</td>\n",
       "                        <td id=\"T_99a5087a_e5f2_11eb_a654_5cbaef99ed1crow3_col13\" class=\"data row3 col13\" >0</td>\n",
       "                        <td id=\"T_99a5087a_e5f2_11eb_a654_5cbaef99ed1crow3_col14\" class=\"data row3 col14\" >0</td>\n",
       "                        <td id=\"T_99a5087a_e5f2_11eb_a654_5cbaef99ed1crow3_col15\" class=\"data row3 col15\" >4</td>\n",
       "                        <td id=\"T_99a5087a_e5f2_11eb_a654_5cbaef99ed1crow3_col16\" class=\"data row3 col16\" >0</td>\n",
       "                        <td id=\"T_99a5087a_e5f2_11eb_a654_5cbaef99ed1crow3_col17\" class=\"data row3 col17\" >0</td>\n",
       "                        <td id=\"T_99a5087a_e5f2_11eb_a654_5cbaef99ed1crow3_col18\" class=\"data row3 col18\" >0</td>\n",
       "                        <td id=\"T_99a5087a_e5f2_11eb_a654_5cbaef99ed1crow3_col19\" class=\"data row3 col19\" >1</td>\n",
       "                        <td id=\"T_99a5087a_e5f2_11eb_a654_5cbaef99ed1crow3_col20\" class=\"data row3 col20\" >0</td>\n",
       "                        <td id=\"T_99a5087a_e5f2_11eb_a654_5cbaef99ed1crow3_col21\" class=\"data row3 col21\" >1</td>\n",
       "                        <td id=\"T_99a5087a_e5f2_11eb_a654_5cbaef99ed1crow3_col22\" class=\"data row3 col22\" >0</td>\n",
       "                        <td id=\"T_99a5087a_e5f2_11eb_a654_5cbaef99ed1crow3_col23\" class=\"data row3 col23\" >57</td>\n",
       "            </tr>\n",
       "            <tr>\n",
       "                        <th id=\"T_99a5087a_e5f2_11eb_a654_5cbaef99ed1clevel0_row4\" class=\"row_heading level0 row4\" >All</th>\n",
       "                        <th id=\"T_99a5087a_e5f2_11eb_a654_5cbaef99ed1clevel1_row4\" class=\"row_heading level1 row4\" ></th>\n",
       "                        <td id=\"T_99a5087a_e5f2_11eb_a654_5cbaef99ed1crow4_col0\" class=\"data row4 col0\" >3</td>\n",
       "                        <td id=\"T_99a5087a_e5f2_11eb_a654_5cbaef99ed1crow4_col1\" class=\"data row4 col1\" >17</td>\n",
       "                        <td id=\"T_99a5087a_e5f2_11eb_a654_5cbaef99ed1crow4_col2\" class=\"data row4 col2\" >44</td>\n",
       "                        <td id=\"T_99a5087a_e5f2_11eb_a654_5cbaef99ed1crow4_col3\" class=\"data row4 col3\" >18</td>\n",
       "                        <td id=\"T_99a5087a_e5f2_11eb_a654_5cbaef99ed1crow4_col4\" class=\"data row4 col4\" >18</td>\n",
       "                        <td id=\"T_99a5087a_e5f2_11eb_a654_5cbaef99ed1crow4_col5\" class=\"data row4 col5\" >79</td>\n",
       "                        <td id=\"T_99a5087a_e5f2_11eb_a654_5cbaef99ed1crow4_col6\" class=\"data row4 col6\" >40</td>\n",
       "                        <td id=\"T_99a5087a_e5f2_11eb_a654_5cbaef99ed1crow4_col7\" class=\"data row4 col7\" >61</td>\n",
       "                        <td id=\"T_99a5087a_e5f2_11eb_a654_5cbaef99ed1crow4_col8\" class=\"data row4 col8\" >129</td>\n",
       "                        <td id=\"T_99a5087a_e5f2_11eb_a654_5cbaef99ed1crow4_col9\" class=\"data row4 col9\" >49</td>\n",
       "                        <td id=\"T_99a5087a_e5f2_11eb_a654_5cbaef99ed1crow4_col10\" class=\"data row4 col10\" >43</td>\n",
       "                        <td id=\"T_99a5087a_e5f2_11eb_a654_5cbaef99ed1crow4_col11\" class=\"data row4 col11\" >63</td>\n",
       "                        <td id=\"T_99a5087a_e5f2_11eb_a654_5cbaef99ed1crow4_col12\" class=\"data row4 col12\" >37</td>\n",
       "                        <td id=\"T_99a5087a_e5f2_11eb_a654_5cbaef99ed1crow4_col13\" class=\"data row4 col13\" >19</td>\n",
       "                        <td id=\"T_99a5087a_e5f2_11eb_a654_5cbaef99ed1crow4_col14\" class=\"data row4 col14\" >30</td>\n",
       "                        <td id=\"T_99a5087a_e5f2_11eb_a654_5cbaef99ed1crow4_col15\" class=\"data row4 col15\" >25</td>\n",
       "                        <td id=\"T_99a5087a_e5f2_11eb_a654_5cbaef99ed1crow4_col16\" class=\"data row4 col16\" >12</td>\n",
       "                        <td id=\"T_99a5087a_e5f2_11eb_a654_5cbaef99ed1crow4_col17\" class=\"data row4 col17\" >5</td>\n",
       "                        <td id=\"T_99a5087a_e5f2_11eb_a654_5cbaef99ed1crow4_col18\" class=\"data row4 col18\" >11</td>\n",
       "                        <td id=\"T_99a5087a_e5f2_11eb_a654_5cbaef99ed1crow4_col19\" class=\"data row4 col19\" >3</td>\n",
       "                        <td id=\"T_99a5087a_e5f2_11eb_a654_5cbaef99ed1crow4_col20\" class=\"data row4 col20\" >3</td>\n",
       "                        <td id=\"T_99a5087a_e5f2_11eb_a654_5cbaef99ed1crow4_col21\" class=\"data row4 col21\" >3</td>\n",
       "                        <td id=\"T_99a5087a_e5f2_11eb_a654_5cbaef99ed1crow4_col22\" class=\"data row4 col22\" >2</td>\n",
       "                        <td id=\"T_99a5087a_e5f2_11eb_a654_5cbaef99ed1crow4_col23\" class=\"data row4 col23\" >714</td>\n",
       "            </tr>\n",
       "    </tbody></table>"
      ],
      "text/plain": [
       "<pandas.io.formats.style.Styler at 0x21629bb87f0>"
      ]
     },
     "execution_count": 35,
     "metadata": {},
     "output_type": "execute_result"
    }
   ],
   "source": [
    "pd.crosstab([df_train.Sex, df_train.Survived], [df_train.Age_bin, df_train.Pclass], margins=True).style.background_gradient(cmap='autumn_r')"
   ]
  },
  {
   "cell_type": "code",
   "execution_count": 36,
   "metadata": {},
   "outputs": [],
   "source": [
    "# in Pclass 1 and 2 all men in Age_bin = 1 survived\n",
    "df_test.loc[ (df_test.Sex == 'male') & (df_test.Pclass == 1) & (df_test.Age_bin == 1), 'Survived'] = 1\n",
    "df_test.loc[ (df_test.Sex == 'male') & (df_test.Pclass == 2) & (df_test.Age_bin == 1), 'Survived'] = 1"
   ]
  },
  {
   "cell_type": "code",
   "execution_count": 37,
   "metadata": {},
   "outputs": [
    {
     "data": {
      "image/png": "[encoded data removed]",
      "text/plain": [
       "<Figure size 1080x720 with 6 Axes>"
      ]
     },
     "metadata": {
      "needs_background": "light"
     },
     "output_type": "display_data"
    }
   ],
   "source": [
    "sns.catplot('SibSp','Survived', col='Pclass' , row = 'Sex', kind='point', data=df_train);"
   ]
  },
  {
   "cell_type": "code",
   "execution_count": 38,
   "metadata": {},
   "outputs": [
    {
     "data": {
      "text/html": [
       "<style  type=\"text/css\" >\n",
       "#T_bd6c869e_e5f2_11eb_9333_5cbaef99ed1crow0_col0,#T_bd6c869e_e5f2_11eb_9333_5cbaef99ed1crow0_col1,#T_bd6c869e_e5f2_11eb_9333_5cbaef99ed1crow0_col3,#T_bd6c869e_e5f2_11eb_9333_5cbaef99ed1crow0_col4,#T_bd6c869e_e5f2_11eb_9333_5cbaef99ed1crow0_col6,#T_bd6c869e_e5f2_11eb_9333_5cbaef99ed1crow0_col7,#T_bd6c869e_e5f2_11eb_9333_5cbaef99ed1crow0_col9,#T_bd6c869e_e5f2_11eb_9333_5cbaef99ed1crow0_col10,#T_bd6c869e_e5f2_11eb_9333_5cbaef99ed1crow1_col11,#T_bd6c869e_e5f2_11eb_9333_5cbaef99ed1crow1_col12,#T_bd6c869e_e5f2_11eb_9333_5cbaef99ed1crow1_col13,#T_bd6c869e_e5f2_11eb_9333_5cbaef99ed1crow1_col14,#T_bd6c869e_e5f2_11eb_9333_5cbaef99ed1crow2_col10,#T_bd6c869e_e5f2_11eb_9333_5cbaef99ed1crow3_col2,#T_bd6c869e_e5f2_11eb_9333_5cbaef99ed1crow3_col5,#T_bd6c869e_e5f2_11eb_9333_5cbaef99ed1crow3_col8,#T_bd6c869e_e5f2_11eb_9333_5cbaef99ed1crow3_col9,#T_bd6c869e_e5f2_11eb_9333_5cbaef99ed1crow3_col10,#T_bd6c869e_e5f2_11eb_9333_5cbaef99ed1crow3_col11,#T_bd6c869e_e5f2_11eb_9333_5cbaef99ed1crow3_col12,#T_bd6c869e_e5f2_11eb_9333_5cbaef99ed1crow3_col13,#T_bd6c869e_e5f2_11eb_9333_5cbaef99ed1crow3_col14,#T_bd6c869e_e5f2_11eb_9333_5cbaef99ed1crow3_col15{\n",
       "            background-color:  #ffff00;\n",
       "            color:  #000000;\n",
       "        }#T_bd6c869e_e5f2_11eb_9333_5cbaef99ed1crow0_col2,#T_bd6c869e_e5f2_11eb_9333_5cbaef99ed1crow1_col5{\n",
       "            background-color:  #ffef00;\n",
       "            color:  #000000;\n",
       "        }#T_bd6c869e_e5f2_11eb_9333_5cbaef99ed1crow0_col5,#T_bd6c869e_e5f2_11eb_9333_5cbaef99ed1crow2_col3{\n",
       "            background-color:  #ffba00;\n",
       "            color:  #000000;\n",
       "        }#T_bd6c869e_e5f2_11eb_9333_5cbaef99ed1crow0_col8,#T_bd6c869e_e5f2_11eb_9333_5cbaef99ed1crow0_col13,#T_bd6c869e_e5f2_11eb_9333_5cbaef99ed1crow2_col6,#T_bd6c869e_e5f2_11eb_9333_5cbaef99ed1crow3_col6{\n",
       "            background-color:  #ffcc00;\n",
       "            color:  #000000;\n",
       "        }#T_bd6c869e_e5f2_11eb_9333_5cbaef99ed1crow0_col11,#T_bd6c869e_e5f2_11eb_9333_5cbaef99ed1crow1_col9,#T_bd6c869e_e5f2_11eb_9333_5cbaef99ed1crow2_col12{\n",
       "            background-color:  #ff5500;\n",
       "            color:  #000000;\n",
       "        }#T_bd6c869e_e5f2_11eb_9333_5cbaef99ed1crow0_col12,#T_bd6c869e_e5f2_11eb_9333_5cbaef99ed1crow2_col9,#T_bd6c869e_e5f2_11eb_9333_5cbaef99ed1crow2_col11{\n",
       "            background-color:  #ffaa00;\n",
       "            color:  #000000;\n",
       "        }#T_bd6c869e_e5f2_11eb_9333_5cbaef99ed1crow0_col14,#T_bd6c869e_e5f2_11eb_9333_5cbaef99ed1crow2_col5{\n",
       "            background-color:  #ff9200;\n",
       "            color:  #000000;\n",
       "        }#T_bd6c869e_e5f2_11eb_9333_5cbaef99ed1crow0_col15{\n",
       "            background-color:  #fffa00;\n",
       "            color:  #000000;\n",
       "        }#T_bd6c869e_e5f2_11eb_9333_5cbaef99ed1crow1_col0{\n",
       "            background-color:  #ffa400;\n",
       "            color:  #000000;\n",
       "        }#T_bd6c869e_e5f2_11eb_9333_5cbaef99ed1crow1_col1,#T_bd6c869e_e5f2_11eb_9333_5cbaef99ed1crow2_col4{\n",
       "            background-color:  #ffa500;\n",
       "            color:  #000000;\n",
       "        }#T_bd6c869e_e5f2_11eb_9333_5cbaef99ed1crow1_col2{\n",
       "            background-color:  #ffed00;\n",
       "            color:  #000000;\n",
       "        }#T_bd6c869e_e5f2_11eb_9333_5cbaef99ed1crow1_col3{\n",
       "            background-color:  #ff7500;\n",
       "            color:  #000000;\n",
       "        }#T_bd6c869e_e5f2_11eb_9333_5cbaef99ed1crow1_col4{\n",
       "            background-color:  #ff8400;\n",
       "            color:  #000000;\n",
       "        }#T_bd6c869e_e5f2_11eb_9333_5cbaef99ed1crow1_col6{\n",
       "            background-color:  #ff6600;\n",
       "            color:  #000000;\n",
       "        }#T_bd6c869e_e5f2_11eb_9333_5cbaef99ed1crow1_col7{\n",
       "            background-color:  #ff9f00;\n",
       "            color:  #000000;\n",
       "        }#T_bd6c869e_e5f2_11eb_9333_5cbaef99ed1crow1_col8{\n",
       "            background-color:  #ffbb00;\n",
       "            color:  #000000;\n",
       "        }#T_bd6c869e_e5f2_11eb_9333_5cbaef99ed1crow1_col10,#T_bd6c869e_e5f2_11eb_9333_5cbaef99ed1crow4_col0,#T_bd6c869e_e5f2_11eb_9333_5cbaef99ed1crow4_col1,#T_bd6c869e_e5f2_11eb_9333_5cbaef99ed1crow4_col2,#T_bd6c869e_e5f2_11eb_9333_5cbaef99ed1crow4_col3,#T_bd6c869e_e5f2_11eb_9333_5cbaef99ed1crow4_col4,#T_bd6c869e_e5f2_11eb_9333_5cbaef99ed1crow4_col5,#T_bd6c869e_e5f2_11eb_9333_5cbaef99ed1crow4_col6,#T_bd6c869e_e5f2_11eb_9333_5cbaef99ed1crow4_col7,#T_bd6c869e_e5f2_11eb_9333_5cbaef99ed1crow4_col8,#T_bd6c869e_e5f2_11eb_9333_5cbaef99ed1crow4_col9,#T_bd6c869e_e5f2_11eb_9333_5cbaef99ed1crow4_col10,#T_bd6c869e_e5f2_11eb_9333_5cbaef99ed1crow4_col11,#T_bd6c869e_e5f2_11eb_9333_5cbaef99ed1crow4_col12,#T_bd6c869e_e5f2_11eb_9333_5cbaef99ed1crow4_col13,#T_bd6c869e_e5f2_11eb_9333_5cbaef99ed1crow4_col14,#T_bd6c869e_e5f2_11eb_9333_5cbaef99ed1crow4_col15{\n",
       "            background-color:  #ff0000;\n",
       "            color:  #f1f1f1;\n",
       "        }#T_bd6c869e_e5f2_11eb_9333_5cbaef99ed1crow1_col15{\n",
       "            background-color:  #ffd000;\n",
       "            color:  #000000;\n",
       "        }#T_bd6c869e_e5f2_11eb_9333_5cbaef99ed1crow2_col0{\n",
       "            background-color:  #ff8600;\n",
       "            color:  #000000;\n",
       "        }#T_bd6c869e_e5f2_11eb_9333_5cbaef99ed1crow2_col1{\n",
       "            background-color:  #ff6900;\n",
       "            color:  #000000;\n",
       "        }#T_bd6c869e_e5f2_11eb_9333_5cbaef99ed1crow2_col2{\n",
       "            background-color:  #ff4c00;\n",
       "            color:  #000000;\n",
       "        }#T_bd6c869e_e5f2_11eb_9333_5cbaef99ed1crow2_col7{\n",
       "            background-color:  #ff7f00;\n",
       "            color:  #000000;\n",
       "        }#T_bd6c869e_e5f2_11eb_9333_5cbaef99ed1crow2_col8{\n",
       "            background-color:  #ff7700;\n",
       "            color:  #000000;\n",
       "        }#T_bd6c869e_e5f2_11eb_9333_5cbaef99ed1crow2_col13{\n",
       "            background-color:  #ff3300;\n",
       "            color:  #f1f1f1;\n",
       "        }#T_bd6c869e_e5f2_11eb_9333_5cbaef99ed1crow2_col14{\n",
       "            background-color:  #ff6d00;\n",
       "            color:  #000000;\n",
       "        }#T_bd6c869e_e5f2_11eb_9333_5cbaef99ed1crow2_col15{\n",
       "            background-color:  #ff7800;\n",
       "            color:  #000000;\n",
       "        }#T_bd6c869e_e5f2_11eb_9333_5cbaef99ed1crow3_col0{\n",
       "            background-color:  #ffd500;\n",
       "            color:  #000000;\n",
       "        }#T_bd6c869e_e5f2_11eb_9333_5cbaef99ed1crow3_col1{\n",
       "            background-color:  #fff700;\n",
       "            color:  #000000;\n",
       "        }#T_bd6c869e_e5f2_11eb_9333_5cbaef99ed1crow3_col3{\n",
       "            background-color:  #ffdb00;\n",
       "            color:  #000000;\n",
       "        }#T_bd6c869e_e5f2_11eb_9333_5cbaef99ed1crow3_col4{\n",
       "            background-color:  #ffe300;\n",
       "            color:  #000000;\n",
       "        }#T_bd6c869e_e5f2_11eb_9333_5cbaef99ed1crow3_col7{\n",
       "            background-color:  #ffdf00;\n",
       "            color:  #000000;\n",
       "        }</style><table id=\"T_bd6c869e_e5f2_11eb_9333_5cbaef99ed1c\" ><thead>    <tr>        <th class=\"blank\" ></th>        <th class=\"index_name level0\" >SibSp</th>        <th class=\"col_heading level0 col0\" colspan=3>0</th>        <th class=\"col_heading level0 col3\" colspan=3>1</th>        <th class=\"col_heading level0 col6\" colspan=3>2</th>        <th class=\"col_heading level0 col9\" colspan=3>3</th>        <th class=\"col_heading level0 col12\" >4</th>        <th class=\"col_heading level0 col13\" >5</th>        <th class=\"col_heading level0 col14\" >8</th>        <th class=\"col_heading level0 col15\" >All</th>    </tr>    <tr>        <th class=\"blank\" ></th>        <th class=\"index_name level1\" >Pclass</th>        <th class=\"col_heading level1 col0\" >1</th>        <th class=\"col_heading level1 col1\" >2</th>        <th class=\"col_heading level1 col2\" >3</th>        <th class=\"col_heading level1 col3\" >1</th>        <th class=\"col_heading level1 col4\" >2</th>        <th class=\"col_heading level1 col5\" >3</th>        <th class=\"col_heading level1 col6\" >1</th>        <th class=\"col_heading level1 col7\" >2</th>        <th class=\"col_heading level1 col8\" >3</th>        <th class=\"col_heading level1 col9\" >1</th>        <th class=\"col_heading level1 col10\" >2</th>        <th class=\"col_heading level1 col11\" >3</th>        <th class=\"col_heading level1 col12\" >3</th>        <th class=\"col_heading level1 col13\" >3</th>        <th class=\"col_heading level1 col14\" >3</th>        <th class=\"col_heading level1 col15\" ></th>    </tr>    <tr>        <th class=\"index_name level0\" >Sex</th>        <th class=\"index_name level1\" >Survived</th>        <th class=\"blank\" ></th>        <th class=\"blank\" ></th>        <th class=\"blank\" ></th>        <th class=\"blank\" ></th>        <th class=\"blank\" ></th>        <th class=\"blank\" ></th>        <th class=\"blank\" ></th>        <th class=\"blank\" ></th>        <th class=\"blank\" ></th>        <th class=\"blank\" ></th>        <th class=\"blank\" ></th>        <th class=\"blank\" ></th>        <th class=\"blank\" ></th>        <th class=\"blank\" ></th>        <th class=\"blank\" ></th>        <th class=\"blank\" ></th>    </tr></thead><tbody>\n",
       "                <tr>\n",
       "                        <th id=\"T_bd6c869e_e5f2_11eb_9333_5cbaef99ed1clevel0_row0\" class=\"row_heading level0 row0\" rowspan=2>female</th>\n",
       "                        <th id=\"T_bd6c869e_e5f2_11eb_9333_5cbaef99ed1clevel1_row0\" class=\"row_heading level1 row0\" >0</th>\n",
       "                        <td id=\"T_bd6c869e_e5f2_11eb_9333_5cbaef99ed1crow0_col0\" class=\"data row0 col0\" >0</td>\n",
       "                        <td id=\"T_bd6c869e_e5f2_11eb_9333_5cbaef99ed1crow0_col1\" class=\"data row0 col1\" >1</td>\n",
       "                        <td id=\"T_bd6c869e_e5f2_11eb_9333_5cbaef99ed1crow0_col2\" class=\"data row0 col2\" >39</td>\n",
       "                        <td id=\"T_bd6c869e_e5f2_11eb_9333_5cbaef99ed1crow0_col3\" class=\"data row0 col3\" >1</td>\n",
       "                        <td id=\"T_bd6c869e_e5f2_11eb_9333_5cbaef99ed1crow0_col4\" class=\"data row0 col4\" >1</td>\n",
       "                        <td id=\"T_bd6c869e_e5f2_11eb_9333_5cbaef99ed1crow0_col5\" class=\"data row0 col5\" >27</td>\n",
       "                        <td id=\"T_bd6c869e_e5f2_11eb_9333_5cbaef99ed1crow0_col6\" class=\"data row0 col6\" >0</td>\n",
       "                        <td id=\"T_bd6c869e_e5f2_11eb_9333_5cbaef99ed1crow0_col7\" class=\"data row0 col7\" >0</td>\n",
       "                        <td id=\"T_bd6c869e_e5f2_11eb_9333_5cbaef99ed1crow0_col8\" class=\"data row0 col8\" >3</td>\n",
       "                        <td id=\"T_bd6c869e_e5f2_11eb_9333_5cbaef99ed1crow0_col9\" class=\"data row0 col9\" >0</td>\n",
       "                        <td id=\"T_bd6c869e_e5f2_11eb_9333_5cbaef99ed1crow0_col10\" class=\"data row0 col10\" >0</td>\n",
       "                        <td id=\"T_bd6c869e_e5f2_11eb_9333_5cbaef99ed1crow0_col11\" class=\"data row0 col11\" >8</td>\n",
       "                        <td id=\"T_bd6c869e_e5f2_11eb_9333_5cbaef99ed1crow0_col12\" class=\"data row0 col12\" >6</td>\n",
       "                        <td id=\"T_bd6c869e_e5f2_11eb_9333_5cbaef99ed1crow0_col13\" class=\"data row0 col13\" >1</td>\n",
       "                        <td id=\"T_bd6c869e_e5f2_11eb_9333_5cbaef99ed1crow0_col14\" class=\"data row0 col14\" >3</td>\n",
       "                        <td id=\"T_bd6c869e_e5f2_11eb_9333_5cbaef99ed1crow0_col15\" class=\"data row0 col15\" >90</td>\n",
       "            </tr>\n",
       "            <tr>\n",
       "                                <th id=\"T_bd6c869e_e5f2_11eb_9333_5cbaef99ed1clevel1_row1\" class=\"row_heading level1 row1\" >1</th>\n",
       "                        <td id=\"T_bd6c869e_e5f2_11eb_9333_5cbaef99ed1crow1_col0\" class=\"data row1 col0\" >49</td>\n",
       "                        <td id=\"T_bd6c869e_e5f2_11eb_9333_5cbaef99ed1crow1_col1\" class=\"data row1 col1\" >43</td>\n",
       "                        <td id=\"T_bd6c869e_e5f2_11eb_9333_5cbaef99ed1crow1_col2\" class=\"data row1 col2\" >42</td>\n",
       "                        <td id=\"T_bd6c869e_e5f2_11eb_9333_5cbaef99ed1crow1_col3\" class=\"data row1 col3\" >39</td>\n",
       "                        <td id=\"T_bd6c869e_e5f2_11eb_9333_5cbaef99ed1crow1_col4\" class=\"data row1 col4\" >27</td>\n",
       "                        <td id=\"T_bd6c869e_e5f2_11eb_9333_5cbaef99ed1crow1_col5\" class=\"data row1 col5\" >11</td>\n",
       "                        <td id=\"T_bd6c869e_e5f2_11eb_9333_5cbaef99ed1crow1_col6\" class=\"data row1 col6\" >3</td>\n",
       "                        <td id=\"T_bd6c869e_e5f2_11eb_9333_5cbaef99ed1crow1_col7\" class=\"data row1 col7\" >3</td>\n",
       "                        <td id=\"T_bd6c869e_e5f2_11eb_9333_5cbaef99ed1crow1_col8\" class=\"data row1 col8\" >4</td>\n",
       "                        <td id=\"T_bd6c869e_e5f2_11eb_9333_5cbaef99ed1crow1_col9\" class=\"data row1 col9\" >2</td>\n",
       "                        <td id=\"T_bd6c869e_e5f2_11eb_9333_5cbaef99ed1crow1_col10\" class=\"data row1 col10\" >1</td>\n",
       "                        <td id=\"T_bd6c869e_e5f2_11eb_9333_5cbaef99ed1crow1_col11\" class=\"data row1 col11\" >0</td>\n",
       "                        <td id=\"T_bd6c869e_e5f2_11eb_9333_5cbaef99ed1crow1_col12\" class=\"data row1 col12\" >0</td>\n",
       "                        <td id=\"T_bd6c869e_e5f2_11eb_9333_5cbaef99ed1crow1_col13\" class=\"data row1 col13\" >0</td>\n",
       "                        <td id=\"T_bd6c869e_e5f2_11eb_9333_5cbaef99ed1crow1_col14\" class=\"data row1 col14\" >0</td>\n",
       "                        <td id=\"T_bd6c869e_e5f2_11eb_9333_5cbaef99ed1crow1_col15\" class=\"data row1 col15\" >224</td>\n",
       "            </tr>\n",
       "            <tr>\n",
       "                        <th id=\"T_bd6c869e_e5f2_11eb_9333_5cbaef99ed1clevel0_row2\" class=\"row_heading level0 row2\" rowspan=2>male</th>\n",
       "                        <th id=\"T_bd6c869e_e5f2_11eb_9333_5cbaef99ed1clevel1_row2\" class=\"row_heading level1 row2\" >0</th>\n",
       "                        <td id=\"T_bd6c869e_e5f2_11eb_9333_5cbaef99ed1crow2_col0\" class=\"data row2 col0\" >65</td>\n",
       "                        <td id=\"T_bd6c869e_e5f2_11eb_9333_5cbaef99ed1crow2_col1\" class=\"data row2 col1\" >71</td>\n",
       "                        <td id=\"T_bd6c869e_e5f2_11eb_9333_5cbaef99ed1crow2_col2\" class=\"data row2 col2\" >252</td>\n",
       "                        <td id=\"T_bd6c869e_e5f2_11eb_9333_5cbaef99ed1crow2_col3\" class=\"data row2 col3\" >20</td>\n",
       "                        <td id=\"T_bd6c869e_e5f2_11eb_9333_5cbaef99ed1crow2_col4\" class=\"data row2 col4\" >20</td>\n",
       "                        <td id=\"T_bd6c869e_e5f2_11eb_9333_5cbaef99ed1crow2_col5\" class=\"data row2 col5\" >39</td>\n",
       "                        <td id=\"T_bd6c869e_e5f2_11eb_9333_5cbaef99ed1crow2_col6\" class=\"data row2 col6\" >1</td>\n",
       "                        <td id=\"T_bd6c869e_e5f2_11eb_9333_5cbaef99ed1crow2_col7\" class=\"data row2 col7\" >4</td>\n",
       "                        <td id=\"T_bd6c869e_e5f2_11eb_9333_5cbaef99ed1crow2_col8\" class=\"data row2 col8\" >8</td>\n",
       "                        <td id=\"T_bd6c869e_e5f2_11eb_9333_5cbaef99ed1crow2_col9\" class=\"data row2 col9\" >1</td>\n",
       "                        <td id=\"T_bd6c869e_e5f2_11eb_9333_5cbaef99ed1crow2_col10\" class=\"data row2 col10\" >0</td>\n",
       "                        <td id=\"T_bd6c869e_e5f2_11eb_9333_5cbaef99ed1crow2_col11\" class=\"data row2 col11\" >4</td>\n",
       "                        <td id=\"T_bd6c869e_e5f2_11eb_9333_5cbaef99ed1crow2_col12\" class=\"data row2 col12\" >12</td>\n",
       "                        <td id=\"T_bd6c869e_e5f2_11eb_9333_5cbaef99ed1crow2_col13\" class=\"data row2 col13\" >4</td>\n",
       "                        <td id=\"T_bd6c869e_e5f2_11eb_9333_5cbaef99ed1crow2_col14\" class=\"data row2 col14\" >4</td>\n",
       "                        <td id=\"T_bd6c869e_e5f2_11eb_9333_5cbaef99ed1crow2_col15\" class=\"data row2 col15\" >505</td>\n",
       "            </tr>\n",
       "            <tr>\n",
       "                                <th id=\"T_bd6c869e_e5f2_11eb_9333_5cbaef99ed1clevel1_row3\" class=\"row_heading level1 row3\" >1</th>\n",
       "                        <td id=\"T_bd6c869e_e5f2_11eb_9333_5cbaef99ed1crow3_col0\" class=\"data row3 col0\" >23</td>\n",
       "                        <td id=\"T_bd6c869e_e5f2_11eb_9333_5cbaef99ed1crow3_col1\" class=\"data row3 col1\" >5</td>\n",
       "                        <td id=\"T_bd6c869e_e5f2_11eb_9333_5cbaef99ed1crow3_col2\" class=\"data row3 col2\" >18</td>\n",
       "                        <td id=\"T_bd6c869e_e5f2_11eb_9333_5cbaef99ed1crow3_col3\" class=\"data row3 col3\" >11</td>\n",
       "                        <td id=\"T_bd6c869e_e5f2_11eb_9333_5cbaef99ed1crow3_col4\" class=\"data row3 col4\" >7</td>\n",
       "                        <td id=\"T_bd6c869e_e5f2_11eb_9333_5cbaef99ed1crow3_col5\" class=\"data row3 col5\" >6</td>\n",
       "                        <td id=\"T_bd6c869e_e5f2_11eb_9333_5cbaef99ed1crow3_col6\" class=\"data row3 col6\" >1</td>\n",
       "                        <td id=\"T_bd6c869e_e5f2_11eb_9333_5cbaef99ed1crow3_col7\" class=\"data row3 col7\" >1</td>\n",
       "                        <td id=\"T_bd6c869e_e5f2_11eb_9333_5cbaef99ed1crow3_col8\" class=\"data row3 col8\" >0</td>\n",
       "                        <td id=\"T_bd6c869e_e5f2_11eb_9333_5cbaef99ed1crow3_col9\" class=\"data row3 col9\" >0</td>\n",
       "                        <td id=\"T_bd6c869e_e5f2_11eb_9333_5cbaef99ed1crow3_col10\" class=\"data row3 col10\" >0</td>\n",
       "                        <td id=\"T_bd6c869e_e5f2_11eb_9333_5cbaef99ed1crow3_col11\" class=\"data row3 col11\" >0</td>\n",
       "                        <td id=\"T_bd6c869e_e5f2_11eb_9333_5cbaef99ed1crow3_col12\" class=\"data row3 col12\" >0</td>\n",
       "                        <td id=\"T_bd6c869e_e5f2_11eb_9333_5cbaef99ed1crow3_col13\" class=\"data row3 col13\" >0</td>\n",
       "                        <td id=\"T_bd6c869e_e5f2_11eb_9333_5cbaef99ed1crow3_col14\" class=\"data row3 col14\" >0</td>\n",
       "                        <td id=\"T_bd6c869e_e5f2_11eb_9333_5cbaef99ed1crow3_col15\" class=\"data row3 col15\" >72</td>\n",
       "            </tr>\n",
       "            <tr>\n",
       "                        <th id=\"T_bd6c869e_e5f2_11eb_9333_5cbaef99ed1clevel0_row4\" class=\"row_heading level0 row4\" >All</th>\n",
       "                        <th id=\"T_bd6c869e_e5f2_11eb_9333_5cbaef99ed1clevel1_row4\" class=\"row_heading level1 row4\" ></th>\n",
       "                        <td id=\"T_bd6c869e_e5f2_11eb_9333_5cbaef99ed1crow4_col0\" class=\"data row4 col0\" >137</td>\n",
       "                        <td id=\"T_bd6c869e_e5f2_11eb_9333_5cbaef99ed1crow4_col1\" class=\"data row4 col1\" >120</td>\n",
       "                        <td id=\"T_bd6c869e_e5f2_11eb_9333_5cbaef99ed1crow4_col2\" class=\"data row4 col2\" >351</td>\n",
       "                        <td id=\"T_bd6c869e_e5f2_11eb_9333_5cbaef99ed1crow4_col3\" class=\"data row4 col3\" >71</td>\n",
       "                        <td id=\"T_bd6c869e_e5f2_11eb_9333_5cbaef99ed1crow4_col4\" class=\"data row4 col4\" >55</td>\n",
       "                        <td id=\"T_bd6c869e_e5f2_11eb_9333_5cbaef99ed1crow4_col5\" class=\"data row4 col5\" >83</td>\n",
       "                        <td id=\"T_bd6c869e_e5f2_11eb_9333_5cbaef99ed1crow4_col6\" class=\"data row4 col6\" >5</td>\n",
       "                        <td id=\"T_bd6c869e_e5f2_11eb_9333_5cbaef99ed1crow4_col7\" class=\"data row4 col7\" >8</td>\n",
       "                        <td id=\"T_bd6c869e_e5f2_11eb_9333_5cbaef99ed1crow4_col8\" class=\"data row4 col8\" >15</td>\n",
       "                        <td id=\"T_bd6c869e_e5f2_11eb_9333_5cbaef99ed1crow4_col9\" class=\"data row4 col9\" >3</td>\n",
       "                        <td id=\"T_bd6c869e_e5f2_11eb_9333_5cbaef99ed1crow4_col10\" class=\"data row4 col10\" >1</td>\n",
       "                        <td id=\"T_bd6c869e_e5f2_11eb_9333_5cbaef99ed1crow4_col11\" class=\"data row4 col11\" >12</td>\n",
       "                        <td id=\"T_bd6c869e_e5f2_11eb_9333_5cbaef99ed1crow4_col12\" class=\"data row4 col12\" >18</td>\n",
       "                        <td id=\"T_bd6c869e_e5f2_11eb_9333_5cbaef99ed1crow4_col13\" class=\"data row4 col13\" >5</td>\n",
       "                        <td id=\"T_bd6c869e_e5f2_11eb_9333_5cbaef99ed1crow4_col14\" class=\"data row4 col14\" >7</td>\n",
       "                        <td id=\"T_bd6c869e_e5f2_11eb_9333_5cbaef99ed1crow4_col15\" class=\"data row4 col15\" >891</td>\n",
       "            </tr>\n",
       "    </tbody></table>"
      ],
      "text/plain": [
       "<pandas.io.formats.style.Styler at 0x2162a19dac0>"
      ]
     },
     "execution_count": 38,
     "metadata": {},
     "output_type": "execute_result"
    }
   ],
   "source": [
    "pd.crosstab([df_train.Sex, df_train.Survived], [df_train.SibSp, df_train.Pclass], margins=True).style.background_gradient(cmap='autumn_r')"
   ]
  },
  {
   "cell_type": "code",
   "execution_count": 39,
   "metadata": {},
   "outputs": [],
   "source": [
    "# all females with SibSp > 7 died\n",
    "df_test.loc[ (df_test.Sex == 'female') & (df_test.SibSp > 7) , 'Survived'] = 0"
   ]
  },
  {
   "cell_type": "code",
   "execution_count": 40,
   "metadata": {},
   "outputs": [
    {
     "data": {
      "image/png": "[encoded data removed]",
      "text/plain": [
       "<Figure size 1080x720 with 6 Axes>"
      ]
     },
     "metadata": {
      "needs_background": "light"
     },
     "output_type": "display_data"
    }
   ],
   "source": [
    "sns.catplot('Parch','Survived', col='Pclass' , row = 'Sex', kind='point', data=df_train);\n"
   ]
  },
  {
   "cell_type": "code",
   "execution_count": 41,
   "metadata": {},
   "outputs": [
    {
     "data": {
      "text/html": [
       "<style  type=\"text/css\" >\n",
       "#T_d6d0957a_e5f2_11eb_9c69_5cbaef99ed1crow0_col0,#T_d6d0957a_e5f2_11eb_9c69_5cbaef99ed1crow0_col1,#T_d6d0957a_e5f2_11eb_9c69_5cbaef99ed1crow0_col3,#T_d6d0957a_e5f2_11eb_9c69_5cbaef99ed1crow0_col4,#T_d6d0957a_e5f2_11eb_9c69_5cbaef99ed1crow0_col6,#T_d6d0957a_e5f2_11eb_9c69_5cbaef99ed1crow0_col7,#T_d6d0957a_e5f2_11eb_9c69_5cbaef99ed1crow0_col9,#T_d6d0957a_e5f2_11eb_9c69_5cbaef99ed1crow0_col11,#T_d6d0957a_e5f2_11eb_9c69_5cbaef99ed1crow1_col11,#T_d6d0957a_e5f2_11eb_9c69_5cbaef99ed1crow1_col12,#T_d6d0957a_e5f2_11eb_9c69_5cbaef99ed1crow1_col13,#T_d6d0957a_e5f2_11eb_9c69_5cbaef99ed1crow1_col14,#T_d6d0957a_e5f2_11eb_9c69_5cbaef99ed1crow2_col9,#T_d6d0957a_e5f2_11eb_9c69_5cbaef99ed1crow2_col14,#T_d6d0957a_e5f2_11eb_9c69_5cbaef99ed1crow3_col2,#T_d6d0957a_e5f2_11eb_9c69_5cbaef99ed1crow3_col5,#T_d6d0957a_e5f2_11eb_9c69_5cbaef99ed1crow3_col8,#T_d6d0957a_e5f2_11eb_9c69_5cbaef99ed1crow3_col9,#T_d6d0957a_e5f2_11eb_9c69_5cbaef99ed1crow3_col10,#T_d6d0957a_e5f2_11eb_9c69_5cbaef99ed1crow3_col11,#T_d6d0957a_e5f2_11eb_9c69_5cbaef99ed1crow3_col12,#T_d6d0957a_e5f2_11eb_9c69_5cbaef99ed1crow3_col13,#T_d6d0957a_e5f2_11eb_9c69_5cbaef99ed1crow3_col14,#T_d6d0957a_e5f2_11eb_9c69_5cbaef99ed1crow3_col15{\n",
       "            background-color:  #ffff00;\n",
       "            color:  #000000;\n",
       "        }#T_d6d0957a_e5f2_11eb_9c69_5cbaef99ed1crow0_col2{\n",
       "            background-color:  #ffee00;\n",
       "            color:  #000000;\n",
       "        }#T_d6d0957a_e5f2_11eb_9c69_5cbaef99ed1crow0_col5{\n",
       "            background-color:  #ffcb00;\n",
       "            color:  #000000;\n",
       "        }#T_d6d0957a_e5f2_11eb_9c69_5cbaef99ed1crow0_col8{\n",
       "            background-color:  #ff8600;\n",
       "            color:  #000000;\n",
       "        }#T_d6d0957a_e5f2_11eb_9c69_5cbaef99ed1crow0_col10,#T_d6d0957a_e5f2_11eb_9c69_5cbaef99ed1crow1_col10,#T_d6d0957a_e5f2_11eb_9c69_5cbaef99ed1crow2_col10,#T_d6d0957a_e5f2_11eb_9c69_5cbaef99ed1crow2_col12{\n",
       "            background-color:  #ffaa00;\n",
       "            color:  #000000;\n",
       "        }#T_d6d0957a_e5f2_11eb_9c69_5cbaef99ed1crow0_col12{\n",
       "            background-color:  #ff5500;\n",
       "            color:  #000000;\n",
       "        }#T_d6d0957a_e5f2_11eb_9c69_5cbaef99ed1crow0_col13{\n",
       "            background-color:  #ff3300;\n",
       "            color:  #f1f1f1;\n",
       "        }#T_d6d0957a_e5f2_11eb_9c69_5cbaef99ed1crow0_col14,#T_d6d0957a_e5f2_11eb_9c69_5cbaef99ed1crow1_col9,#T_d6d0957a_e5f2_11eb_9c69_5cbaef99ed1crow2_col11,#T_d6d0957a_e5f2_11eb_9c69_5cbaef99ed1crow4_col0,#T_d6d0957a_e5f2_11eb_9c69_5cbaef99ed1crow4_col1,#T_d6d0957a_e5f2_11eb_9c69_5cbaef99ed1crow4_col2,#T_d6d0957a_e5f2_11eb_9c69_5cbaef99ed1crow4_col3,#T_d6d0957a_e5f2_11eb_9c69_5cbaef99ed1crow4_col4,#T_d6d0957a_e5f2_11eb_9c69_5cbaef99ed1crow4_col5,#T_d6d0957a_e5f2_11eb_9c69_5cbaef99ed1crow4_col6,#T_d6d0957a_e5f2_11eb_9c69_5cbaef99ed1crow4_col7,#T_d6d0957a_e5f2_11eb_9c69_5cbaef99ed1crow4_col8,#T_d6d0957a_e5f2_11eb_9c69_5cbaef99ed1crow4_col9,#T_d6d0957a_e5f2_11eb_9c69_5cbaef99ed1crow4_col10,#T_d6d0957a_e5f2_11eb_9c69_5cbaef99ed1crow4_col11,#T_d6d0957a_e5f2_11eb_9c69_5cbaef99ed1crow4_col12,#T_d6d0957a_e5f2_11eb_9c69_5cbaef99ed1crow4_col13,#T_d6d0957a_e5f2_11eb_9c69_5cbaef99ed1crow4_col14,#T_d6d0957a_e5f2_11eb_9c69_5cbaef99ed1crow4_col15{\n",
       "            background-color:  #ff0000;\n",
       "            color:  #f1f1f1;\n",
       "        }#T_d6d0957a_e5f2_11eb_9c69_5cbaef99ed1crow0_col15{\n",
       "            background-color:  #fffa00;\n",
       "            color:  #000000;\n",
       "        }#T_d6d0957a_e5f2_11eb_9c69_5cbaef99ed1crow1_col0{\n",
       "            background-color:  #ff9b00;\n",
       "            color:  #000000;\n",
       "        }#T_d6d0957a_e5f2_11eb_9c69_5cbaef99ed1crow1_col1{\n",
       "            background-color:  #ffb000;\n",
       "            color:  #000000;\n",
       "        }#T_d6d0957a_e5f2_11eb_9c69_5cbaef99ed1crow1_col2,#T_d6d0957a_e5f2_11eb_9c69_5cbaef99ed1crow1_col8{\n",
       "            background-color:  #ffed00;\n",
       "            color:  #000000;\n",
       "        }#T_d6d0957a_e5f2_11eb_9c69_5cbaef99ed1crow1_col3,#T_d6d0957a_e5f2_11eb_9c69_5cbaef99ed1crow1_col6{\n",
       "            background-color:  #ff7300;\n",
       "            color:  #000000;\n",
       "        }#T_d6d0957a_e5f2_11eb_9c69_5cbaef99ed1crow1_col4{\n",
       "            background-color:  #ff6f00;\n",
       "            color:  #000000;\n",
       "        }#T_d6d0957a_e5f2_11eb_9c69_5cbaef99ed1crow1_col5{\n",
       "            background-color:  #fff000;\n",
       "            color:  #000000;\n",
       "        }#T_d6d0957a_e5f2_11eb_9c69_5cbaef99ed1crow1_col7{\n",
       "            background-color:  #ff4f00;\n",
       "            color:  #000000;\n",
       "        }#T_d6d0957a_e5f2_11eb_9c69_5cbaef99ed1crow1_col15{\n",
       "            background-color:  #ffd000;\n",
       "            color:  #000000;\n",
       "        }#T_d6d0957a_e5f2_11eb_9c69_5cbaef99ed1crow2_col0{\n",
       "            background-color:  #ff9200;\n",
       "            color:  #000000;\n",
       "        }#T_d6d0957a_e5f2_11eb_9c69_5cbaef99ed1crow2_col1{\n",
       "            background-color:  #ff5f00;\n",
       "            color:  #000000;\n",
       "        }#T_d6d0957a_e5f2_11eb_9c69_5cbaef99ed1crow2_col2{\n",
       "            background-color:  #ff4700;\n",
       "            color:  #f1f1f1;\n",
       "        }#T_d6d0957a_e5f2_11eb_9c69_5cbaef99ed1crow2_col3{\n",
       "            background-color:  #ff9c00;\n",
       "            color:  #000000;\n",
       "        }#T_d6d0957a_e5f2_11eb_9c69_5cbaef99ed1crow2_col4,#T_d6d0957a_e5f2_11eb_9c69_5cbaef99ed1crow3_col4{\n",
       "            background-color:  #ffc700;\n",
       "            color:  #000000;\n",
       "        }#T_d6d0957a_e5f2_11eb_9c69_5cbaef99ed1crow2_col5{\n",
       "            background-color:  #ffa100;\n",
       "            color:  #000000;\n",
       "        }#T_d6d0957a_e5f2_11eb_9c69_5cbaef99ed1crow2_col6,#T_d6d0957a_e5f2_11eb_9c69_5cbaef99ed1crow3_col6{\n",
       "            background-color:  #ffd900;\n",
       "            color:  #000000;\n",
       "        }#T_d6d0957a_e5f2_11eb_9c69_5cbaef99ed1crow2_col7{\n",
       "            background-color:  #ffcf00;\n",
       "            color:  #000000;\n",
       "        }#T_d6d0957a_e5f2_11eb_9c69_5cbaef99ed1crow2_col8{\n",
       "            background-color:  #ff9e00;\n",
       "            color:  #000000;\n",
       "        }#T_d6d0957a_e5f2_11eb_9c69_5cbaef99ed1crow2_col13{\n",
       "            background-color:  #ffcc00;\n",
       "            color:  #000000;\n",
       "        }#T_d6d0957a_e5f2_11eb_9c69_5cbaef99ed1crow2_col15{\n",
       "            background-color:  #ff7800;\n",
       "            color:  #000000;\n",
       "        }#T_d6d0957a_e5f2_11eb_9c69_5cbaef99ed1crow3_col0{\n",
       "            background-color:  #ffd200;\n",
       "            color:  #000000;\n",
       "        }#T_d6d0957a_e5f2_11eb_9c69_5cbaef99ed1crow3_col1{\n",
       "            background-color:  #fffc00;\n",
       "            color:  #000000;\n",
       "        }#T_d6d0957a_e5f2_11eb_9c69_5cbaef99ed1crow3_col3{\n",
       "            background-color:  #ffef00;\n",
       "            color:  #000000;\n",
       "        }#T_d6d0957a_e5f2_11eb_9c69_5cbaef99ed1crow3_col7{\n",
       "            background-color:  #ffdf00;\n",
       "            color:  #000000;\n",
       "        }</style><table id=\"T_d6d0957a_e5f2_11eb_9c69_5cbaef99ed1c\" ><thead>    <tr>        <th class=\"blank\" ></th>        <th class=\"index_name level0\" >Parch</th>        <th class=\"col_heading level0 col0\" colspan=3>0</th>        <th class=\"col_heading level0 col3\" colspan=3>1</th>        <th class=\"col_heading level0 col6\" colspan=3>2</th>        <th class=\"col_heading level0 col9\" colspan=2>3</th>        <th class=\"col_heading level0 col11\" colspan=2>4</th>        <th class=\"col_heading level0 col13\" >5</th>        <th class=\"col_heading level0 col14\" >6</th>        <th class=\"col_heading level0 col15\" >All</th>    </tr>    <tr>        <th class=\"blank\" ></th>        <th class=\"index_name level1\" >Pclass</th>        <th class=\"col_heading level1 col0\" >1</th>        <th class=\"col_heading level1 col1\" >2</th>        <th class=\"col_heading level1 col2\" >3</th>        <th class=\"col_heading level1 col3\" >1</th>        <th class=\"col_heading level1 col4\" >2</th>        <th class=\"col_heading level1 col5\" >3</th>        <th class=\"col_heading level1 col6\" >1</th>        <th class=\"col_heading level1 col7\" >2</th>        <th class=\"col_heading level1 col8\" >3</th>        <th class=\"col_heading level1 col9\" >2</th>        <th class=\"col_heading level1 col10\" >3</th>        <th class=\"col_heading level1 col11\" >1</th>        <th class=\"col_heading level1 col12\" >3</th>        <th class=\"col_heading level1 col13\" >3</th>        <th class=\"col_heading level1 col14\" >3</th>        <th class=\"col_heading level1 col15\" ></th>    </tr>    <tr>        <th class=\"index_name level0\" >Sex</th>        <th class=\"index_name level1\" >Survived</th>        <th class=\"blank\" ></th>        <th class=\"blank\" ></th>        <th class=\"blank\" ></th>        <th class=\"blank\" ></th>        <th class=\"blank\" ></th>        <th class=\"blank\" ></th>        <th class=\"blank\" ></th>        <th class=\"blank\" ></th>        <th class=\"blank\" ></th>        <th class=\"blank\" ></th>        <th class=\"blank\" ></th>        <th class=\"blank\" ></th>        <th class=\"blank\" ></th>        <th class=\"blank\" ></th>        <th class=\"blank\" ></th>        <th class=\"blank\" ></th>    </tr></thead><tbody>\n",
       "                <tr>\n",
       "                        <th id=\"T_d6d0957a_e5f2_11eb_9c69_5cbaef99ed1clevel0_row0\" class=\"row_heading level0 row0\" rowspan=2>female</th>\n",
       "                        <th id=\"T_d6d0957a_e5f2_11eb_9c69_5cbaef99ed1clevel1_row0\" class=\"row_heading level1 row0\" >0</th>\n",
       "                        <td id=\"T_d6d0957a_e5f2_11eb_9c69_5cbaef99ed1crow0_col0\" class=\"data row0 col0\" >0</td>\n",
       "                        <td id=\"T_d6d0957a_e5f2_11eb_9c69_5cbaef99ed1crow0_col1\" class=\"data row0 col1\" >2</td>\n",
       "                        <td id=\"T_d6d0957a_e5f2_11eb_9c69_5cbaef99ed1crow0_col2\" class=\"data row0 col2\" >42</td>\n",
       "                        <td id=\"T_d6d0957a_e5f2_11eb_9c69_5cbaef99ed1crow0_col3\" class=\"data row0 col3\" >0</td>\n",
       "                        <td id=\"T_d6d0957a_e5f2_11eb_9c69_5cbaef99ed1crow0_col4\" class=\"data row0 col4\" >0</td>\n",
       "                        <td id=\"T_d6d0957a_e5f2_11eb_9c69_5cbaef99ed1crow0_col5\" class=\"data row0 col5\" >16</td>\n",
       "                        <td id=\"T_d6d0957a_e5f2_11eb_9c69_5cbaef99ed1crow0_col6\" class=\"data row0 col6\" >1</td>\n",
       "                        <td id=\"T_d6d0957a_e5f2_11eb_9c69_5cbaef99ed1crow0_col7\" class=\"data row0 col7\" >0</td>\n",
       "                        <td id=\"T_d6d0957a_e5f2_11eb_9c69_5cbaef99ed1crow0_col8\" class=\"data row0 col8\" >21</td>\n",
       "                        <td id=\"T_d6d0957a_e5f2_11eb_9c69_5cbaef99ed1crow0_col9\" class=\"data row0 col9\" >0</td>\n",
       "                        <td id=\"T_d6d0957a_e5f2_11eb_9c69_5cbaef99ed1crow0_col10\" class=\"data row0 col10\" >1</td>\n",
       "                        <td id=\"T_d6d0957a_e5f2_11eb_9c69_5cbaef99ed1crow0_col11\" class=\"data row0 col11\" >0</td>\n",
       "                        <td id=\"T_d6d0957a_e5f2_11eb_9c69_5cbaef99ed1crow0_col12\" class=\"data row0 col12\" >2</td>\n",
       "                        <td id=\"T_d6d0957a_e5f2_11eb_9c69_5cbaef99ed1crow0_col13\" class=\"data row0 col13\" >4</td>\n",
       "                        <td id=\"T_d6d0957a_e5f2_11eb_9c69_5cbaef99ed1crow0_col14\" class=\"data row0 col14\" >1</td>\n",
       "                        <td id=\"T_d6d0957a_e5f2_11eb_9c69_5cbaef99ed1crow0_col15\" class=\"data row0 col15\" >90</td>\n",
       "            </tr>\n",
       "            <tr>\n",
       "                                <th id=\"T_d6d0957a_e5f2_11eb_9c69_5cbaef99ed1clevel1_row1\" class=\"row_heading level1 row1\" >1</th>\n",
       "                        <td id=\"T_d6d0957a_e5f2_11eb_9c69_5cbaef99ed1crow1_col0\" class=\"data row1 col0\" >64</td>\n",
       "                        <td id=\"T_d6d0957a_e5f2_11eb_9c69_5cbaef99ed1crow1_col1\" class=\"data row1 col1\" >43</td>\n",
       "                        <td id=\"T_d6d0957a_e5f2_11eb_9c69_5cbaef99ed1crow1_col2\" class=\"data row1 col2\" >43</td>\n",
       "                        <td id=\"T_d6d0957a_e5f2_11eb_9c69_5cbaef99ed1crow1_col3\" class=\"data row1 col3\" >17</td>\n",
       "                        <td id=\"T_d6d0957a_e5f2_11eb_9c69_5cbaef99ed1crow1_col4\" class=\"data row1 col4\" >18</td>\n",
       "                        <td id=\"T_d6d0957a_e5f2_11eb_9c69_5cbaef99ed1crow1_col5\" class=\"data row1 col5\" >9</td>\n",
       "                        <td id=\"T_d6d0957a_e5f2_11eb_9c69_5cbaef99ed1crow1_col6\" class=\"data row1 col6\" >12</td>\n",
       "                        <td id=\"T_d6d0957a_e5f2_11eb_9c69_5cbaef99ed1crow1_col7\" class=\"data row1 col7\" >11</td>\n",
       "                        <td id=\"T_d6d0957a_e5f2_11eb_9c69_5cbaef99ed1crow1_col8\" class=\"data row1 col8\" >4</td>\n",
       "                        <td id=\"T_d6d0957a_e5f2_11eb_9c69_5cbaef99ed1crow1_col9\" class=\"data row1 col9\" >2</td>\n",
       "                        <td id=\"T_d6d0957a_e5f2_11eb_9c69_5cbaef99ed1crow1_col10\" class=\"data row1 col10\" >1</td>\n",
       "                        <td id=\"T_d6d0957a_e5f2_11eb_9c69_5cbaef99ed1crow1_col11\" class=\"data row1 col11\" >0</td>\n",
       "                        <td id=\"T_d6d0957a_e5f2_11eb_9c69_5cbaef99ed1crow1_col12\" class=\"data row1 col12\" >0</td>\n",
       "                        <td id=\"T_d6d0957a_e5f2_11eb_9c69_5cbaef99ed1crow1_col13\" class=\"data row1 col13\" >0</td>\n",
       "                        <td id=\"T_d6d0957a_e5f2_11eb_9c69_5cbaef99ed1crow1_col14\" class=\"data row1 col14\" >0</td>\n",
       "                        <td id=\"T_d6d0957a_e5f2_11eb_9c69_5cbaef99ed1crow1_col15\" class=\"data row1 col15\" >224</td>\n",
       "            </tr>\n",
       "            <tr>\n",
       "                        <th id=\"T_d6d0957a_e5f2_11eb_9c69_5cbaef99ed1clevel0_row2\" class=\"row_heading level0 row2\" rowspan=2>male</th>\n",
       "                        <th id=\"T_d6d0957a_e5f2_11eb_9c69_5cbaef99ed1clevel1_row2\" class=\"row_heading level1 row2\" >0</th>\n",
       "                        <td id=\"T_d6d0957a_e5f2_11eb_9c69_5cbaef99ed1crow2_col0\" class=\"data row2 col0\" >70</td>\n",
       "                        <td id=\"T_d6d0957a_e5f2_11eb_9c69_5cbaef99ed1crow2_col1\" class=\"data row2 col1\" >85</td>\n",
       "                        <td id=\"T_d6d0957a_e5f2_11eb_9c69_5cbaef99ed1crow2_col2\" class=\"data row2 col2\" >279</td>\n",
       "                        <td id=\"T_d6d0957a_e5f2_11eb_9c69_5cbaef99ed1crow2_col3\" class=\"data row2 col3\" >12</td>\n",
       "                        <td id=\"T_d6d0957a_e5f2_11eb_9c69_5cbaef99ed1crow2_col4\" class=\"data row2 col4\" >7</td>\n",
       "                        <td id=\"T_d6d0957a_e5f2_11eb_9c69_5cbaef99ed1crow2_col5\" class=\"data row2 col5\" >24</td>\n",
       "                        <td id=\"T_d6d0957a_e5f2_11eb_9c69_5cbaef99ed1crow2_col6\" class=\"data row2 col6\" >4</td>\n",
       "                        <td id=\"T_d6d0957a_e5f2_11eb_9c69_5cbaef99ed1crow2_col7\" class=\"data row2 col7\" >3</td>\n",
       "                        <td id=\"T_d6d0957a_e5f2_11eb_9c69_5cbaef99ed1crow2_col8\" class=\"data row2 col8\" >17</td>\n",
       "                        <td id=\"T_d6d0957a_e5f2_11eb_9c69_5cbaef99ed1crow2_col9\" class=\"data row2 col9\" >0</td>\n",
       "                        <td id=\"T_d6d0957a_e5f2_11eb_9c69_5cbaef99ed1crow2_col10\" class=\"data row2 col10\" >1</td>\n",
       "                        <td id=\"T_d6d0957a_e5f2_11eb_9c69_5cbaef99ed1crow2_col11\" class=\"data row2 col11\" >1</td>\n",
       "                        <td id=\"T_d6d0957a_e5f2_11eb_9c69_5cbaef99ed1crow2_col12\" class=\"data row2 col12\" >1</td>\n",
       "                        <td id=\"T_d6d0957a_e5f2_11eb_9c69_5cbaef99ed1crow2_col13\" class=\"data row2 col13\" >1</td>\n",
       "                        <td id=\"T_d6d0957a_e5f2_11eb_9c69_5cbaef99ed1crow2_col14\" class=\"data row2 col14\" >0</td>\n",
       "                        <td id=\"T_d6d0957a_e5f2_11eb_9c69_5cbaef99ed1crow2_col15\" class=\"data row2 col15\" >505</td>\n",
       "            </tr>\n",
       "            <tr>\n",
       "                                <th id=\"T_d6d0957a_e5f2_11eb_9c69_5cbaef99ed1clevel1_row3\" class=\"row_heading level1 row3\" >1</th>\n",
       "                        <td id=\"T_d6d0957a_e5f2_11eb_9c69_5cbaef99ed1crow3_col0\" class=\"data row3 col0\" >29</td>\n",
       "                        <td id=\"T_d6d0957a_e5f2_11eb_9c69_5cbaef99ed1crow3_col1\" class=\"data row3 col1\" >4</td>\n",
       "                        <td id=\"T_d6d0957a_e5f2_11eb_9c69_5cbaef99ed1crow3_col2\" class=\"data row3 col2\" >17</td>\n",
       "                        <td id=\"T_d6d0957a_e5f2_11eb_9c69_5cbaef99ed1crow3_col3\" class=\"data row3 col3\" >2</td>\n",
       "                        <td id=\"T_d6d0957a_e5f2_11eb_9c69_5cbaef99ed1crow3_col4\" class=\"data row3 col4\" >7</td>\n",
       "                        <td id=\"T_d6d0957a_e5f2_11eb_9c69_5cbaef99ed1crow3_col5\" class=\"data row3 col5\" >6</td>\n",
       "                        <td id=\"T_d6d0957a_e5f2_11eb_9c69_5cbaef99ed1crow3_col6\" class=\"data row3 col6\" >4</td>\n",
       "                        <td id=\"T_d6d0957a_e5f2_11eb_9c69_5cbaef99ed1crow3_col7\" class=\"data row3 col7\" >2</td>\n",
       "                        <td id=\"T_d6d0957a_e5f2_11eb_9c69_5cbaef99ed1crow3_col8\" class=\"data row3 col8\" >1</td>\n",
       "                        <td id=\"T_d6d0957a_e5f2_11eb_9c69_5cbaef99ed1crow3_col9\" class=\"data row3 col9\" >0</td>\n",
       "                        <td id=\"T_d6d0957a_e5f2_11eb_9c69_5cbaef99ed1crow3_col10\" class=\"data row3 col10\" >0</td>\n",
       "                        <td id=\"T_d6d0957a_e5f2_11eb_9c69_5cbaef99ed1crow3_col11\" class=\"data row3 col11\" >0</td>\n",
       "                        <td id=\"T_d6d0957a_e5f2_11eb_9c69_5cbaef99ed1crow3_col12\" class=\"data row3 col12\" >0</td>\n",
       "                        <td id=\"T_d6d0957a_e5f2_11eb_9c69_5cbaef99ed1crow3_col13\" class=\"data row3 col13\" >0</td>\n",
       "                        <td id=\"T_d6d0957a_e5f2_11eb_9c69_5cbaef99ed1crow3_col14\" class=\"data row3 col14\" >0</td>\n",
       "                        <td id=\"T_d6d0957a_e5f2_11eb_9c69_5cbaef99ed1crow3_col15\" class=\"data row3 col15\" >72</td>\n",
       "            </tr>\n",
       "            <tr>\n",
       "                        <th id=\"T_d6d0957a_e5f2_11eb_9c69_5cbaef99ed1clevel0_row4\" class=\"row_heading level0 row4\" >All</th>\n",
       "                        <th id=\"T_d6d0957a_e5f2_11eb_9c69_5cbaef99ed1clevel1_row4\" class=\"row_heading level1 row4\" ></th>\n",
       "                        <td id=\"T_d6d0957a_e5f2_11eb_9c69_5cbaef99ed1crow4_col0\" class=\"data row4 col0\" >163</td>\n",
       "                        <td id=\"T_d6d0957a_e5f2_11eb_9c69_5cbaef99ed1crow4_col1\" class=\"data row4 col1\" >134</td>\n",
       "                        <td id=\"T_d6d0957a_e5f2_11eb_9c69_5cbaef99ed1crow4_col2\" class=\"data row4 col2\" >381</td>\n",
       "                        <td id=\"T_d6d0957a_e5f2_11eb_9c69_5cbaef99ed1crow4_col3\" class=\"data row4 col3\" >31</td>\n",
       "                        <td id=\"T_d6d0957a_e5f2_11eb_9c69_5cbaef99ed1crow4_col4\" class=\"data row4 col4\" >32</td>\n",
       "                        <td id=\"T_d6d0957a_e5f2_11eb_9c69_5cbaef99ed1crow4_col5\" class=\"data row4 col5\" >55</td>\n",
       "                        <td id=\"T_d6d0957a_e5f2_11eb_9c69_5cbaef99ed1crow4_col6\" class=\"data row4 col6\" >21</td>\n",
       "                        <td id=\"T_d6d0957a_e5f2_11eb_9c69_5cbaef99ed1crow4_col7\" class=\"data row4 col7\" >16</td>\n",
       "                        <td id=\"T_d6d0957a_e5f2_11eb_9c69_5cbaef99ed1crow4_col8\" class=\"data row4 col8\" >43</td>\n",
       "                        <td id=\"T_d6d0957a_e5f2_11eb_9c69_5cbaef99ed1crow4_col9\" class=\"data row4 col9\" >2</td>\n",
       "                        <td id=\"T_d6d0957a_e5f2_11eb_9c69_5cbaef99ed1crow4_col10\" class=\"data row4 col10\" >3</td>\n",
       "                        <td id=\"T_d6d0957a_e5f2_11eb_9c69_5cbaef99ed1crow4_col11\" class=\"data row4 col11\" >1</td>\n",
       "                        <td id=\"T_d6d0957a_e5f2_11eb_9c69_5cbaef99ed1crow4_col12\" class=\"data row4 col12\" >3</td>\n",
       "                        <td id=\"T_d6d0957a_e5f2_11eb_9c69_5cbaef99ed1crow4_col13\" class=\"data row4 col13\" >5</td>\n",
       "                        <td id=\"T_d6d0957a_e5f2_11eb_9c69_5cbaef99ed1crow4_col14\" class=\"data row4 col14\" >1</td>\n",
       "                        <td id=\"T_d6d0957a_e5f2_11eb_9c69_5cbaef99ed1crow4_col15\" class=\"data row4 col15\" >891</td>\n",
       "            </tr>\n",
       "    </tbody></table>"
      ],
      "text/plain": [
       "<pandas.io.formats.style.Styler at 0x2162995a6d0>"
      ]
     },
     "execution_count": 41,
     "metadata": {},
     "output_type": "execute_result"
    }
   ],
   "source": [
    "pd.crosstab([df_train.Sex, df_train.Survived], [df_train.Parch, df_train.Pclass], margins=True).style.background_gradient(cmap='autumn_r')\n"
   ]
  },
  {
   "cell_type": "code",
   "execution_count": 42,
   "metadata": {},
   "outputs": [
    {
     "data": {
      "image/png": "[encoded data removed]",
      "text/plain": [
       "<Figure size 1440x720 with 1 Axes>"
      ]
     },
     "metadata": {
      "needs_background": "light"
     },
     "output_type": "display_data"
    }
   ],
   "source": [
    "#ploting the distribution plot\n",
    "sns.distplot(df_train['Fare']);"
   ]
  },
  {
   "cell_type": "code",
   "execution_count": 43,
   "metadata": {},
   "outputs": [],
   "source": [
    "for df in [df_train, df_test]:\n",
    "    df['Fare_bin']=np.nan\n",
    "    for i in range(12,0,-1):\n",
    "        df.loc[ df['Fare'] <= i*50, 'Fare_bin'] = i"
   ]
  },
  {
   "cell_type": "code",
   "execution_count": 44,
   "metadata": {},
   "outputs": [
    {
     "data": {
      "image/png": "[encoded data removed]",
      "text/plain": [
       "<Figure size 1080x720 with 6 Axes>"
      ]
     },
     "metadata": {
      "needs_background": "light"
     },
     "output_type": "display_data"
    }
   ],
   "source": [
    "sns.catplot('Fare_bin','Survived', col='Pclass' , row = 'Sex', kind='point', data=df_train);"
   ]
  },
  {
   "cell_type": "code",
   "execution_count": 45,
   "metadata": {},
   "outputs": [
    {
     "data": {
      "text/html": [
       "<style  type=\"text/css\" >\n",
       "#T_19238f93_e5f3_11eb_8b6d_5cbaef99ed1crow0_col0,#T_19238f93_e5f3_11eb_8b6d_5cbaef99ed1crow0_col1,#T_19238f93_e5f3_11eb_8b6d_5cbaef99ed1crow0_col3,#T_19238f93_e5f3_11eb_8b6d_5cbaef99ed1crow0_col4,#T_19238f93_e5f3_11eb_8b6d_5cbaef99ed1crow0_col6,#T_19238f93_e5f3_11eb_8b6d_5cbaef99ed1crow0_col7,#T_19238f93_e5f3_11eb_8b6d_5cbaef99ed1crow0_col8,#T_19238f93_e5f3_11eb_8b6d_5cbaef99ed1crow0_col9,#T_19238f93_e5f3_11eb_8b6d_5cbaef99ed1crow0_col10,#T_19238f93_e5f3_11eb_8b6d_5cbaef99ed1crow1_col5,#T_19238f93_e5f3_11eb_8b6d_5cbaef99ed1crow2_col7,#T_19238f93_e5f3_11eb_8b6d_5cbaef99ed1crow2_col10,#T_19238f93_e5f3_11eb_8b6d_5cbaef99ed1crow3_col2,#T_19238f93_e5f3_11eb_8b6d_5cbaef99ed1crow3_col4,#T_19238f93_e5f3_11eb_8b6d_5cbaef99ed1crow3_col7,#T_19238f93_e5f3_11eb_8b6d_5cbaef99ed1crow3_col8,#T_19238f93_e5f3_11eb_8b6d_5cbaef99ed1crow3_col9,#T_19238f93_e5f3_11eb_8b6d_5cbaef99ed1crow3_col11{\n",
       "            background-color:  #ffff00;\n",
       "            color:  #000000;\n",
       "        }#T_19238f93_e5f3_11eb_8b6d_5cbaef99ed1crow0_col2{\n",
       "            background-color:  #ffdc00;\n",
       "            color:  #000000;\n",
       "        }#T_19238f93_e5f3_11eb_8b6d_5cbaef99ed1crow0_col5{\n",
       "            background-color:  #ffc900;\n",
       "            color:  #000000;\n",
       "        }#T_19238f93_e5f3_11eb_8b6d_5cbaef99ed1crow0_col11{\n",
       "            background-color:  #fffa00;\n",
       "            color:  #000000;\n",
       "        }#T_19238f93_e5f3_11eb_8b6d_5cbaef99ed1crow1_col0{\n",
       "            background-color:  #ffd800;\n",
       "            color:  #000000;\n",
       "        }#T_19238f93_e5f3_11eb_8b6d_5cbaef99ed1crow1_col1{\n",
       "            background-color:  #ff9900;\n",
       "            color:  #000000;\n",
       "        }#T_19238f93_e5f3_11eb_8b6d_5cbaef99ed1crow1_col2{\n",
       "            background-color:  #ffeb00;\n",
       "            color:  #000000;\n",
       "        }#T_19238f93_e5f3_11eb_8b6d_5cbaef99ed1crow1_col3{\n",
       "            background-color:  #ff7100;\n",
       "            color:  #000000;\n",
       "        }#T_19238f93_e5f3_11eb_8b6d_5cbaef99ed1crow1_col4,#T_19238f93_e5f3_11eb_8b6d_5cbaef99ed1crow3_col5{\n",
       "            background-color:  #ffb600;\n",
       "            color:  #000000;\n",
       "        }#T_19238f93_e5f3_11eb_8b6d_5cbaef99ed1crow1_col6,#T_19238f93_e5f3_11eb_8b6d_5cbaef99ed1crow1_col7{\n",
       "            background-color:  #ff5f00;\n",
       "            color:  #000000;\n",
       "        }#T_19238f93_e5f3_11eb_8b6d_5cbaef99ed1crow1_col8{\n",
       "            background-color:  #ff5d00;\n",
       "            color:  #000000;\n",
       "        }#T_19238f93_e5f3_11eb_8b6d_5cbaef99ed1crow1_col9,#T_19238f93_e5f3_11eb_8b6d_5cbaef99ed1crow3_col10{\n",
       "            background-color:  #ff5500;\n",
       "            color:  #000000;\n",
       "        }#T_19238f93_e5f3_11eb_8b6d_5cbaef99ed1crow1_col10,#T_19238f93_e5f3_11eb_8b6d_5cbaef99ed1crow2_col9{\n",
       "            background-color:  #ffaa00;\n",
       "            color:  #000000;\n",
       "        }#T_19238f93_e5f3_11eb_8b6d_5cbaef99ed1crow1_col11{\n",
       "            background-color:  #ffd000;\n",
       "            color:  #000000;\n",
       "        }#T_19238f93_e5f3_11eb_8b6d_5cbaef99ed1crow2_col0{\n",
       "            background-color:  #ff6300;\n",
       "            color:  #000000;\n",
       "        }#T_19238f93_e5f3_11eb_8b6d_5cbaef99ed1crow2_col1,#T_19238f93_e5f3_11eb_8b6d_5cbaef99ed1crow2_col5{\n",
       "            background-color:  #ff7f00;\n",
       "            color:  #000000;\n",
       "        }#T_19238f93_e5f3_11eb_8b6d_5cbaef99ed1crow2_col2{\n",
       "            background-color:  #ff5a00;\n",
       "            color:  #000000;\n",
       "        }#T_19238f93_e5f3_11eb_8b6d_5cbaef99ed1crow2_col3{\n",
       "            background-color:  #ffaf00;\n",
       "            color:  #000000;\n",
       "        }#T_19238f93_e5f3_11eb_8b6d_5cbaef99ed1crow2_col4{\n",
       "            background-color:  #ff4900;\n",
       "            color:  #000000;\n",
       "        }#T_19238f93_e5f3_11eb_8b6d_5cbaef99ed1crow2_col6{\n",
       "            background-color:  #ffbf00;\n",
       "            color:  #000000;\n",
       "        }#T_19238f93_e5f3_11eb_8b6d_5cbaef99ed1crow2_col8{\n",
       "            background-color:  #ffa200;\n",
       "            color:  #000000;\n",
       "        }#T_19238f93_e5f3_11eb_8b6d_5cbaef99ed1crow2_col11{\n",
       "            background-color:  #ff7800;\n",
       "            color:  #000000;\n",
       "        }#T_19238f93_e5f3_11eb_8b6d_5cbaef99ed1crow3_col0{\n",
       "            background-color:  #ffc400;\n",
       "            color:  #000000;\n",
       "        }#T_19238f93_e5f3_11eb_8b6d_5cbaef99ed1crow3_col1{\n",
       "            background-color:  #ffef00;\n",
       "            color:  #000000;\n",
       "        }#T_19238f93_e5f3_11eb_8b6d_5cbaef99ed1crow3_col3,#T_19238f93_e5f3_11eb_8b6d_5cbaef99ed1crow3_col6{\n",
       "            background-color:  #ffdf00;\n",
       "            color:  #000000;\n",
       "        }#T_19238f93_e5f3_11eb_8b6d_5cbaef99ed1crow4_col0,#T_19238f93_e5f3_11eb_8b6d_5cbaef99ed1crow4_col1,#T_19238f93_e5f3_11eb_8b6d_5cbaef99ed1crow4_col2,#T_19238f93_e5f3_11eb_8b6d_5cbaef99ed1crow4_col3,#T_19238f93_e5f3_11eb_8b6d_5cbaef99ed1crow4_col4,#T_19238f93_e5f3_11eb_8b6d_5cbaef99ed1crow4_col5,#T_19238f93_e5f3_11eb_8b6d_5cbaef99ed1crow4_col6,#T_19238f93_e5f3_11eb_8b6d_5cbaef99ed1crow4_col7,#T_19238f93_e5f3_11eb_8b6d_5cbaef99ed1crow4_col8,#T_19238f93_e5f3_11eb_8b6d_5cbaef99ed1crow4_col9,#T_19238f93_e5f3_11eb_8b6d_5cbaef99ed1crow4_col10,#T_19238f93_e5f3_11eb_8b6d_5cbaef99ed1crow4_col11{\n",
       "            background-color:  #ff0000;\n",
       "            color:  #f1f1f1;\n",
       "        }</style><table id=\"T_19238f93_e5f3_11eb_8b6d_5cbaef99ed1c\" ><thead>    <tr>        <th class=\"blank\" ></th>        <th class=\"index_name level0\" >Fare_bin</th>        <th class=\"col_heading level0 col0\" colspan=3>1.0</th>        <th class=\"col_heading level0 col3\" colspan=3>2.0</th>        <th class=\"col_heading level0 col6\" >3.0</th>        <th class=\"col_heading level0 col7\" >4.0</th>        <th class=\"col_heading level0 col8\" >5.0</th>        <th class=\"col_heading level0 col9\" >6.0</th>        <th class=\"col_heading level0 col10\" >11.0</th>        <th class=\"col_heading level0 col11\" >All</th>    </tr>    <tr>        <th class=\"blank\" ></th>        <th class=\"index_name level1\" >Pclass</th>        <th class=\"col_heading level1 col0\" >1</th>        <th class=\"col_heading level1 col1\" >2</th>        <th class=\"col_heading level1 col2\" >3</th>        <th class=\"col_heading level1 col3\" >1</th>        <th class=\"col_heading level1 col4\" >2</th>        <th class=\"col_heading level1 col5\" >3</th>        <th class=\"col_heading level1 col6\" >1</th>        <th class=\"col_heading level1 col7\" >1</th>        <th class=\"col_heading level1 col8\" >1</th>        <th class=\"col_heading level1 col9\" >1</th>        <th class=\"col_heading level1 col10\" >1</th>        <th class=\"col_heading level1 col11\" ></th>    </tr>    <tr>        <th class=\"index_name level0\" >Sex</th>        <th class=\"index_name level1\" >Survived</th>        <th class=\"blank\" ></th>        <th class=\"blank\" ></th>        <th class=\"blank\" ></th>        <th class=\"blank\" ></th>        <th class=\"blank\" ></th>        <th class=\"blank\" ></th>        <th class=\"blank\" ></th>        <th class=\"blank\" ></th>        <th class=\"blank\" ></th>        <th class=\"blank\" ></th>        <th class=\"blank\" ></th>        <th class=\"blank\" ></th>    </tr></thead><tbody>\n",
       "                <tr>\n",
       "                        <th id=\"T_19238f93_e5f3_11eb_8b6d_5cbaef99ed1clevel0_row0\" class=\"row_heading level0 row0\" rowspan=2>female</th>\n",
       "                        <th id=\"T_19238f93_e5f3_11eb_8b6d_5cbaef99ed1clevel1_row0\" class=\"row_heading level1 row0\" >0</th>\n",
       "                        <td id=\"T_19238f93_e5f3_11eb_8b6d_5cbaef99ed1crow0_col0\" class=\"data row0 col0\" >0</td>\n",
       "                        <td id=\"T_19238f93_e5f3_11eb_8b6d_5cbaef99ed1crow0_col1\" class=\"data row0 col1\" >2</td>\n",
       "                        <td id=\"T_19238f93_e5f3_11eb_8b6d_5cbaef99ed1crow0_col2\" class=\"data row0 col2\" >84</td>\n",
       "                        <td id=\"T_19238f93_e5f3_11eb_8b6d_5cbaef99ed1crow0_col3\" class=\"data row0 col3\" >0</td>\n",
       "                        <td id=\"T_19238f93_e5f3_11eb_8b6d_5cbaef99ed1crow0_col4\" class=\"data row0 col4\" >0</td>\n",
       "                        <td id=\"T_19238f93_e5f3_11eb_8b6d_5cbaef99ed1crow0_col5\" class=\"data row0 col5\" >3</td>\n",
       "                        <td id=\"T_19238f93_e5f3_11eb_8b6d_5cbaef99ed1crow0_col6\" class=\"data row0 col6\" >0</td>\n",
       "                        <td id=\"T_19238f93_e5f3_11eb_8b6d_5cbaef99ed1crow0_col7\" class=\"data row0 col7\" >1</td>\n",
       "                        <td id=\"T_19238f93_e5f3_11eb_8b6d_5cbaef99ed1crow0_col8\" class=\"data row0 col8\" >0</td>\n",
       "                        <td id=\"T_19238f93_e5f3_11eb_8b6d_5cbaef99ed1crow0_col9\" class=\"data row0 col9\" >0</td>\n",
       "                        <td id=\"T_19238f93_e5f3_11eb_8b6d_5cbaef99ed1crow0_col10\" class=\"data row0 col10\" >0</td>\n",
       "                        <td id=\"T_19238f93_e5f3_11eb_8b6d_5cbaef99ed1crow0_col11\" class=\"data row0 col11\" >90</td>\n",
       "            </tr>\n",
       "            <tr>\n",
       "                                <th id=\"T_19238f93_e5f3_11eb_8b6d_5cbaef99ed1clevel1_row1\" class=\"row_heading level1 row1\" >1</th>\n",
       "                        <td id=\"T_19238f93_e5f3_11eb_8b6d_5cbaef99ed1crow1_col0\" class=\"data row1 col0\" >12</td>\n",
       "                        <td id=\"T_19238f93_e5f3_11eb_8b6d_5cbaef99ed1crow1_col1\" class=\"data row1 col1\" >72</td>\n",
       "                        <td id=\"T_19238f93_e5f3_11eb_8b6d_5cbaef99ed1crow1_col2\" class=\"data row1 col2\" >57</td>\n",
       "                        <td id=\"T_19238f93_e5f3_11eb_8b6d_5cbaef99ed1crow1_col3\" class=\"data row1 col3\" >48</td>\n",
       "                        <td id=\"T_19238f93_e5f3_11eb_8b6d_5cbaef99ed1crow1_col4\" class=\"data row1 col4\" >2</td>\n",
       "                        <td id=\"T_19238f93_e5f3_11eb_8b6d_5cbaef99ed1crow1_col5\" class=\"data row1 col5\" >0</td>\n",
       "                        <td id=\"T_19238f93_e5f3_11eb_8b6d_5cbaef99ed1crow1_col6\" class=\"data row1 col6\" >15</td>\n",
       "                        <td id=\"T_19238f93_e5f3_11eb_8b6d_5cbaef99ed1crow1_col7\" class=\"data row1 col7\" >6</td>\n",
       "                        <td id=\"T_19238f93_e5f3_11eb_8b6d_5cbaef99ed1crow1_col8\" class=\"data row1 col8\" >7</td>\n",
       "                        <td id=\"T_19238f93_e5f3_11eb_8b6d_5cbaef99ed1crow1_col9\" class=\"data row1 col9\" >4</td>\n",
       "                        <td id=\"T_19238f93_e5f3_11eb_8b6d_5cbaef99ed1crow1_col10\" class=\"data row1 col10\" >1</td>\n",
       "                        <td id=\"T_19238f93_e5f3_11eb_8b6d_5cbaef99ed1crow1_col11\" class=\"data row1 col11\" >224</td>\n",
       "            </tr>\n",
       "            <tr>\n",
       "                        <th id=\"T_19238f93_e5f3_11eb_8b6d_5cbaef99ed1clevel0_row2\" class=\"row_heading level0 row2\" rowspan=2>male</th>\n",
       "                        <th id=\"T_19238f93_e5f3_11eb_8b6d_5cbaef99ed1clevel1_row2\" class=\"row_heading level1 row2\" >0</th>\n",
       "                        <td id=\"T_19238f93_e5f3_11eb_8b6d_5cbaef99ed1crow2_col0\" class=\"data row2 col0\" >47</td>\n",
       "                        <td id=\"T_19238f93_e5f3_11eb_8b6d_5cbaef99ed1crow2_col1\" class=\"data row2 col1\" >90</td>\n",
       "                        <td id=\"T_19238f93_e5f3_11eb_8b6d_5cbaef99ed1crow2_col2\" class=\"data row2 col2\" >316</td>\n",
       "                        <td id=\"T_19238f93_e5f3_11eb_8b6d_5cbaef99ed1crow2_col3\" class=\"data row2 col3\" >27</td>\n",
       "                        <td id=\"T_19238f93_e5f3_11eb_8b6d_5cbaef99ed1crow2_col4\" class=\"data row2 col4\" >5</td>\n",
       "                        <td id=\"T_19238f93_e5f3_11eb_8b6d_5cbaef99ed1crow2_col5\" class=\"data row2 col5\" >7</td>\n",
       "                        <td id=\"T_19238f93_e5f3_11eb_8b6d_5cbaef99ed1crow2_col6\" class=\"data row2 col6\" >6</td>\n",
       "                        <td id=\"T_19238f93_e5f3_11eb_8b6d_5cbaef99ed1crow2_col7\" class=\"data row2 col7\" >1</td>\n",
       "                        <td id=\"T_19238f93_e5f3_11eb_8b6d_5cbaef99ed1crow2_col8\" class=\"data row2 col8\" >4</td>\n",
       "                        <td id=\"T_19238f93_e5f3_11eb_8b6d_5cbaef99ed1crow2_col9\" class=\"data row2 col9\" >2</td>\n",
       "                        <td id=\"T_19238f93_e5f3_11eb_8b6d_5cbaef99ed1crow2_col10\" class=\"data row2 col10\" >0</td>\n",
       "                        <td id=\"T_19238f93_e5f3_11eb_8b6d_5cbaef99ed1crow2_col11\" class=\"data row2 col11\" >505</td>\n",
       "            </tr>\n",
       "            <tr>\n",
       "                                <th id=\"T_19238f93_e5f3_11eb_8b6d_5cbaef99ed1clevel1_row3\" class=\"row_heading level1 row3\" >1</th>\n",
       "                        <td id=\"T_19238f93_e5f3_11eb_8b6d_5cbaef99ed1crow3_col0\" class=\"data row3 col0\" >18</td>\n",
       "                        <td id=\"T_19238f93_e5f3_11eb_8b6d_5cbaef99ed1crow3_col1\" class=\"data row3 col1\" >13</td>\n",
       "                        <td id=\"T_19238f93_e5f3_11eb_8b6d_5cbaef99ed1crow3_col2\" class=\"data row3 col2\" >20</td>\n",
       "                        <td id=\"T_19238f93_e5f3_11eb_8b6d_5cbaef99ed1crow3_col3\" class=\"data row3 col3\" >11</td>\n",
       "                        <td id=\"T_19238f93_e5f3_11eb_8b6d_5cbaef99ed1crow3_col4\" class=\"data row3 col4\" >0</td>\n",
       "                        <td id=\"T_19238f93_e5f3_11eb_8b6d_5cbaef99ed1crow3_col5\" class=\"data row3 col5\" >4</td>\n",
       "                        <td id=\"T_19238f93_e5f3_11eb_8b6d_5cbaef99ed1crow3_col6\" class=\"data row3 col6\" >3</td>\n",
       "                        <td id=\"T_19238f93_e5f3_11eb_8b6d_5cbaef99ed1crow3_col7\" class=\"data row3 col7\" >1</td>\n",
       "                        <td id=\"T_19238f93_e5f3_11eb_8b6d_5cbaef99ed1crow3_col8\" class=\"data row3 col8\" >0</td>\n",
       "                        <td id=\"T_19238f93_e5f3_11eb_8b6d_5cbaef99ed1crow3_col9\" class=\"data row3 col9\" >0</td>\n",
       "                        <td id=\"T_19238f93_e5f3_11eb_8b6d_5cbaef99ed1crow3_col10\" class=\"data row3 col10\" >2</td>\n",
       "                        <td id=\"T_19238f93_e5f3_11eb_8b6d_5cbaef99ed1crow3_col11\" class=\"data row3 col11\" >72</td>\n",
       "            </tr>\n",
       "            <tr>\n",
       "                        <th id=\"T_19238f93_e5f3_11eb_8b6d_5cbaef99ed1clevel0_row4\" class=\"row_heading level0 row4\" >All</th>\n",
       "                        <th id=\"T_19238f93_e5f3_11eb_8b6d_5cbaef99ed1clevel1_row4\" class=\"row_heading level1 row4\" ></th>\n",
       "                        <td id=\"T_19238f93_e5f3_11eb_8b6d_5cbaef99ed1crow4_col0\" class=\"data row4 col0\" >77</td>\n",
       "                        <td id=\"T_19238f93_e5f3_11eb_8b6d_5cbaef99ed1crow4_col1\" class=\"data row4 col1\" >177</td>\n",
       "                        <td id=\"T_19238f93_e5f3_11eb_8b6d_5cbaef99ed1crow4_col2\" class=\"data row4 col2\" >477</td>\n",
       "                        <td id=\"T_19238f93_e5f3_11eb_8b6d_5cbaef99ed1crow4_col3\" class=\"data row4 col3\" >86</td>\n",
       "                        <td id=\"T_19238f93_e5f3_11eb_8b6d_5cbaef99ed1crow4_col4\" class=\"data row4 col4\" >7</td>\n",
       "                        <td id=\"T_19238f93_e5f3_11eb_8b6d_5cbaef99ed1crow4_col5\" class=\"data row4 col5\" >14</td>\n",
       "                        <td id=\"T_19238f93_e5f3_11eb_8b6d_5cbaef99ed1crow4_col6\" class=\"data row4 col6\" >24</td>\n",
       "                        <td id=\"T_19238f93_e5f3_11eb_8b6d_5cbaef99ed1crow4_col7\" class=\"data row4 col7\" >9</td>\n",
       "                        <td id=\"T_19238f93_e5f3_11eb_8b6d_5cbaef99ed1crow4_col8\" class=\"data row4 col8\" >11</td>\n",
       "                        <td id=\"T_19238f93_e5f3_11eb_8b6d_5cbaef99ed1crow4_col9\" class=\"data row4 col9\" >6</td>\n",
       "                        <td id=\"T_19238f93_e5f3_11eb_8b6d_5cbaef99ed1crow4_col10\" class=\"data row4 col10\" >3</td>\n",
       "                        <td id=\"T_19238f93_e5f3_11eb_8b6d_5cbaef99ed1crow4_col11\" class=\"data row4 col11\" >891</td>\n",
       "            </tr>\n",
       "    </tbody></table>"
      ],
      "text/plain": [
       "<pandas.io.formats.style.Styler at 0x21628ef3970>"
      ]
     },
     "execution_count": 45,
     "metadata": {},
     "output_type": "execute_result"
    }
   ],
   "source": [
    "pd.crosstab([df_train.Sex, df_train.Survived], [df_train.Fare_bin, df_train.Pclass], margins=True).style.background_gradient(cmap='autumn_r')"
   ]
  },
  {
   "cell_type": "code",
   "execution_count": 46,
   "metadata": {},
   "outputs": [],
   "source": [
    "# males in Fare_bin = 11 survived\n",
    "df_test.loc[ (df_test.Sex == 'male') & (df_test.Fare_bin == 11), 'Survived'] = 1"
   ]
  },
  {
   "cell_type": "code",
   "execution_count": 47,
   "metadata": {},
   "outputs": [],
   "source": [
    "#drop the survived column from the test dataset\n",
    "df_test.drop(['Survived'],axis=1,inplace=True)"
   ]
  },
  {
   "cell_type": "code",
   "execution_count": 48,
   "metadata": {},
   "outputs": [],
   "source": [
    "#copying the train and dataset\n",
    "df_train_ml = df_train.copy()\n",
    "df_test_ml = df_test.copy()"
   ]
  },
  {
   "cell_type": "code",
   "execution_count": 49,
   "metadata": {},
   "outputs": [],
   "source": [
    "#getting the dummie variables and dropping the requied the variables\n",
    "df_train_ml = pd.get_dummies(df_train_ml, columns=['Sex', 'Embarked', 'Pclass'], drop_first=True)\n",
    "df_train_ml.drop(['PassengerId','Name','Ticket', 'Cabin', 'Age_bin', 'Fare_bin'],axis=1,inplace=True)\n",
    "df_train_ml.dropna(inplace=True)"
   ]
  },
  {
   "cell_type": "code",
   "execution_count": 50,
   "metadata": {},
   "outputs": [],
   "source": [
    "#getting the dummie variables and dropping the requied the variables\n",
    "passenger_id = df_test_ml['PassengerId']\n",
    "df_test_ml = pd.get_dummies(df_test_ml, columns=['Sex', 'Embarked', 'Pclass'], drop_first=True)\n",
    "df_test_ml.drop(['PassengerId','Name','Ticket', 'Cabin', 'Age_bin', 'Fare_bin'],axis=1,inplace=True)"
   ]
  },
  {
   "cell_type": "code",
   "execution_count": 51,
   "metadata": {},
   "outputs": [
    {
     "data": {
      "text/html": [
       "<div>\n",
       "<style scoped>\n",
       "    .dataframe tbody tr th:only-of-type {\n",
       "        vertical-align: middle;\n",
       "    }\n",
       "\n",
       "    .dataframe tbody tr th {\n",
       "        vertical-align: top;\n",
       "    }\n",
       "\n",
       "    .dataframe thead th {\n",
       "        text-align: right;\n",
       "    }\n",
       "</style>\n",
       "<table border=\"1\" class=\"dataframe\">\n",
       "  <thead>\n",
       "    <tr style=\"text-align: right;\">\n",
       "      <th></th>\n",
       "      <th>Survived</th>\n",
       "      <th>Age</th>\n",
       "      <th>SibSp</th>\n",
       "      <th>Parch</th>\n",
       "      <th>Fare</th>\n",
       "      <th>Sex_male</th>\n",
       "      <th>Embarked_Q</th>\n",
       "      <th>Embarked_S</th>\n",
       "      <th>Pclass_2</th>\n",
       "      <th>Pclass_3</th>\n",
       "    </tr>\n",
       "  </thead>\n",
       "  <tbody>\n",
       "    <tr>\n",
       "      <th>0</th>\n",
       "      <td>0</td>\n",
       "      <td>22.0</td>\n",
       "      <td>1</td>\n",
       "      <td>0</td>\n",
       "      <td>7.2500</td>\n",
       "      <td>1</td>\n",
       "      <td>0</td>\n",
       "      <td>1</td>\n",
       "      <td>0</td>\n",
       "      <td>1</td>\n",
       "    </tr>\n",
       "    <tr>\n",
       "      <th>1</th>\n",
       "      <td>1</td>\n",
       "      <td>38.0</td>\n",
       "      <td>1</td>\n",
       "      <td>0</td>\n",
       "      <td>71.2833</td>\n",
       "      <td>0</td>\n",
       "      <td>0</td>\n",
       "      <td>0</td>\n",
       "      <td>0</td>\n",
       "      <td>0</td>\n",
       "    </tr>\n",
       "    <tr>\n",
       "      <th>2</th>\n",
       "      <td>0</td>\n",
       "      <td>26.0</td>\n",
       "      <td>0</td>\n",
       "      <td>0</td>\n",
       "      <td>7.9250</td>\n",
       "      <td>0</td>\n",
       "      <td>0</td>\n",
       "      <td>1</td>\n",
       "      <td>0</td>\n",
       "      <td>1</td>\n",
       "    </tr>\n",
       "    <tr>\n",
       "      <th>3</th>\n",
       "      <td>1</td>\n",
       "      <td>35.0</td>\n",
       "      <td>1</td>\n",
       "      <td>0</td>\n",
       "      <td>53.1000</td>\n",
       "      <td>0</td>\n",
       "      <td>0</td>\n",
       "      <td>1</td>\n",
       "      <td>0</td>\n",
       "      <td>0</td>\n",
       "    </tr>\n",
       "    <tr>\n",
       "      <th>4</th>\n",
       "      <td>0</td>\n",
       "      <td>35.0</td>\n",
       "      <td>0</td>\n",
       "      <td>0</td>\n",
       "      <td>8.0500</td>\n",
       "      <td>1</td>\n",
       "      <td>0</td>\n",
       "      <td>1</td>\n",
       "      <td>0</td>\n",
       "      <td>1</td>\n",
       "    </tr>\n",
       "    <tr>\n",
       "      <th>6</th>\n",
       "      <td>0</td>\n",
       "      <td>54.0</td>\n",
       "      <td>0</td>\n",
       "      <td>0</td>\n",
       "      <td>51.8625</td>\n",
       "      <td>1</td>\n",
       "      <td>0</td>\n",
       "      <td>1</td>\n",
       "      <td>0</td>\n",
       "      <td>0</td>\n",
       "    </tr>\n",
       "    <tr>\n",
       "      <th>7</th>\n",
       "      <td>0</td>\n",
       "      <td>2.0</td>\n",
       "      <td>3</td>\n",
       "      <td>1</td>\n",
       "      <td>21.0750</td>\n",
       "      <td>1</td>\n",
       "      <td>0</td>\n",
       "      <td>1</td>\n",
       "      <td>0</td>\n",
       "      <td>1</td>\n",
       "    </tr>\n",
       "    <tr>\n",
       "      <th>8</th>\n",
       "      <td>0</td>\n",
       "      <td>27.0</td>\n",
       "      <td>0</td>\n",
       "      <td>2</td>\n",
       "      <td>11.1333</td>\n",
       "      <td>0</td>\n",
       "      <td>0</td>\n",
       "      <td>1</td>\n",
       "      <td>0</td>\n",
       "      <td>1</td>\n",
       "    </tr>\n",
       "    <tr>\n",
       "      <th>9</th>\n",
       "      <td>1</td>\n",
       "      <td>14.0</td>\n",
       "      <td>1</td>\n",
       "      <td>0</td>\n",
       "      <td>30.0708</td>\n",
       "      <td>0</td>\n",
       "      <td>0</td>\n",
       "      <td>0</td>\n",
       "      <td>1</td>\n",
       "      <td>0</td>\n",
       "    </tr>\n",
       "    <tr>\n",
       "      <th>10</th>\n",
       "      <td>0</td>\n",
       "      <td>4.0</td>\n",
       "      <td>1</td>\n",
       "      <td>1</td>\n",
       "      <td>16.7000</td>\n",
       "      <td>0</td>\n",
       "      <td>0</td>\n",
       "      <td>1</td>\n",
       "      <td>0</td>\n",
       "      <td>1</td>\n",
       "    </tr>\n",
       "  </tbody>\n",
       "</table>\n",
       "</div>"
      ],
      "text/plain": [
       "    Survived   Age  SibSp  Parch     Fare  Sex_male  Embarked_Q  Embarked_S  \\\n",
       "0          0  22.0      1      0   7.2500         1           0           1   \n",
       "1          1  38.0      1      0  71.2833         0           0           0   \n",
       "2          0  26.0      0      0   7.9250         0           0           1   \n",
       "3          1  35.0      1      0  53.1000         0           0           1   \n",
       "4          0  35.0      0      0   8.0500         1           0           1   \n",
       "6          0  54.0      0      0  51.8625         1           0           1   \n",
       "7          0   2.0      3      1  21.0750         1           0           1   \n",
       "8          0  27.0      0      2  11.1333         0           0           1   \n",
       "9          1  14.0      1      0  30.0708         0           0           0   \n",
       "10         0   4.0      1      1  16.7000         0           0           1   \n",
       "\n",
       "    Pclass_2  Pclass_3  \n",
       "0          0         1  \n",
       "1          0         0  \n",
       "2          0         1  \n",
       "3          0         0  \n",
       "4          0         1  \n",
       "6          0         0  \n",
       "7          0         1  \n",
       "8          0         1  \n",
       "9          1         0  \n",
       "10         0         1  "
      ]
     },
     "execution_count": 51,
     "metadata": {},
     "output_type": "execute_result"
    }
   ],
   "source": [
    "df_train_ml.head(10)"
   ]
  },
  {
   "cell_type": "code",
   "execution_count": 52,
   "metadata": {},
   "outputs": [
    {
     "name": "stdout",
     "output_type": "stream",
     "text": [
      "<class 'pandas.core.frame.DataFrame'>\n",
      "Int64Index: 714 entries, 0 to 890\n",
      "Data columns (total 10 columns):\n",
      " #   Column      Non-Null Count  Dtype  \n",
      "---  ------      --------------  -----  \n",
      " 0   Survived    714 non-null    int64  \n",
      " 1   Age         714 non-null    float64\n",
      " 2   SibSp       714 non-null    int64  \n",
      " 3   Parch       714 non-null    int64  \n",
      " 4   Fare        714 non-null    float64\n",
      " 5   Sex_male    714 non-null    uint8  \n",
      " 6   Embarked_Q  714 non-null    uint8  \n",
      " 7   Embarked_S  714 non-null    uint8  \n",
      " 8   Pclass_2    714 non-null    uint8  \n",
      " 9   Pclass_3    714 non-null    uint8  \n",
      "dtypes: float64(2), int64(3), uint8(5)\n",
      "memory usage: 37.0 KB\n"
     ]
    }
   ],
   "source": [
    "df_train_ml.info()"
   ]
  },
  {
   "cell_type": "code",
   "execution_count": 53,
   "metadata": {},
   "outputs": [
    {
     "name": "stdout",
     "output_type": "stream",
     "text": [
      "<class 'pandas.core.frame.DataFrame'>\n",
      "RangeIndex: 418 entries, 0 to 417\n",
      "Data columns (total 9 columns):\n",
      " #   Column      Non-Null Count  Dtype  \n",
      "---  ------      --------------  -----  \n",
      " 0   Age         335 non-null    float64\n",
      " 1   SibSp       418 non-null    int64  \n",
      " 2   Parch       418 non-null    int64  \n",
      " 3   Fare        418 non-null    float64\n",
      " 4   Sex_male    418 non-null    uint8  \n",
      " 5   Embarked_Q  418 non-null    uint8  \n",
      " 6   Embarked_S  418 non-null    uint8  \n",
      " 7   Pclass_2    418 non-null    uint8  \n",
      " 8   Pclass_3    418 non-null    uint8  \n",
      "dtypes: float64(2), int64(2), uint8(5)\n",
      "memory usage: 15.2 KB\n"
     ]
    }
   ],
   "source": [
    "df_test_ml.info()\n"
   ]
  },
  {
   "cell_type": "code",
   "execution_count": 54,
   "metadata": {},
   "outputs": [
    {
     "data": {
      "image/png": "[encoded data removed]",
      "text/plain": [
       "<Figure size 648x432 with 2 Axes>"
      ]
     },
     "metadata": {
      "needs_background": "light"
     },
     "output_type": "display_data"
    }
   ],
   "source": [
    "#calculating the correlation and applying the heatmap\n",
    "corr = df_train_ml.corr()\n",
    "\n",
    "f,ax = plt.subplots(figsize=(9,6))\n",
    "sns.heatmap(corr, annot = True, linewidths=1.5 , fmt = '.2f',ax=ax)\n",
    "plt.show()"
   ]
  },
  {
   "cell_type": "code",
   "execution_count": 55,
   "metadata": {},
   "outputs": [],
   "source": [
    "#scalining the features\n",
    "from sklearn.preprocessing import StandardScaler\n",
    "scaler = StandardScaler()\n",
    "\n",
    "# for df_train_ml\n",
    "scaler.fit(df_train_ml.drop('Survived',axis=1))\n",
    "scaled_features = scaler.transform(df_train_ml.drop('Survived',axis=1))\n",
    "df_train_ml_sc = pd.DataFrame(scaled_features, columns=df_train_ml.columns[:-1])\n",
    "\n",
    "# for df_test_ml\n",
    "df_test_ml.fillna(df_test_ml.mean(), inplace=True)\n",
    "# scaler.fit(df_test_ml)\n",
    "scaled_features = scaler.transform(df_test_ml)\n",
    "df_test_ml_sc = pd.DataFrame(scaled_features, columns=df_test_ml.columns)"
   ]
  },
  {
   "cell_type": "code",
   "execution_count": 56,
   "metadata": {},
   "outputs": [],
   "source": [
    "#spliting the data set into train and test\n",
    "from sklearn.model_selection import train_test_split\n",
    "X_train, X_test, y_train, y_test = train_test_split(df_train_ml.drop('Survived',axis=1), df_train_ml['Survived'], test_size=0.30, random_state=101)\n",
    "X_train_sc, X_test_sc, y_train_sc, y_test_sc = train_test_split(df_train_ml_sc, df_train_ml['Survived'], test_size=0.30, random_state=101)"
   ]
  },
  {
   "cell_type": "code",
   "execution_count": 57,
   "metadata": {},
   "outputs": [],
   "source": [
    "# unscaled\n",
    "X_train_all = df_train_ml.drop('Survived',axis=1)\n",
    "y_train_all = df_train_ml['Survived']\n",
    "X_test_all = df_test_ml\n",
    "\n",
    "# scaled\n",
    "X_train_all_sc = df_train_ml_sc\n",
    "y_train_all_sc = df_train_ml['Survived']\n",
    "X_test_all_sc = df_test_ml_sc"
   ]
  },
  {
   "cell_type": "code",
   "execution_count": 58,
   "metadata": {},
   "outputs": [
    {
     "name": "stdout",
     "output_type": "stream",
     "text": [
      "*\n"
     ]
    }
   ],
   "source": [
    "X_test_all.fillna(X_test_all.mean(), inplace=True)\n",
    "print(\"*\")"
   ]
  },
  {
   "cell_type": "code",
   "execution_count": 60,
   "metadata": {},
   "outputs": [],
   "source": [
    "#importing the libraries\n",
    "from sklearn.metrics import accuracy_score, classification_report, confusion_matrix"
   ]
  },
  {
   "cell_type": "code",
   "execution_count": 61,
   "metadata": {},
   "outputs": [
    {
     "name": "stdout",
     "output_type": "stream",
     "text": [
      "[[130   7]\n",
      " [ 22  56]]\n",
      "              precision    recall  f1-score   support\n",
      "\n",
      "           0       0.86      0.95      0.90       137\n",
      "           1       0.89      0.72      0.79        78\n",
      "\n",
      "    accuracy                           0.87       215\n",
      "   macro avg       0.87      0.83      0.85       215\n",
      "weighted avg       0.87      0.87      0.86       215\n",
      "\n",
      "0.8651162790697674\n"
     ]
    }
   ],
   "source": [
    "#logisticregression\n",
    "from sklearn.linear_model import LogisticRegression\n",
    "logreg = LogisticRegression()\n",
    "logreg.fit(X_train,y_train)\n",
    "pred_logreg = logreg.predict(X_test)\n",
    "print(confusion_matrix(y_test, pred_logreg))\n",
    "print(classification_report(y_test, pred_logreg))\n",
    "print(accuracy_score(y_test, pred_logreg))"
   ]
  },
  {
   "cell_type": "code",
   "execution_count": 62,
   "metadata": {},
   "outputs": [],
   "source": [
    "logreg.fit(X_train_all, y_train_all)\n",
    "pred_all_logreg = logreg.predict(X_test_all)\n"
   ]
  },
  {
   "cell_type": "code",
   "execution_count": 63,
   "metadata": {},
   "outputs": [],
   "source": [
    "sub_logreg = pd.DataFrame()\n",
    "sub_logreg['PassengerId'] = df_test['PassengerId']\n",
    "sub_logreg['Survived'] = pred_all_logreg\n",
    "#sub_logmodel.to_csv('logmodel.csv',index=False)\n"
   ]
  },
  {
   "cell_type": "code",
   "execution_count": 64,
   "metadata": {},
   "outputs": [
    {
     "name": "stdout",
     "output_type": "stream",
     "text": [
      "[[122  15]\n",
      " [ 25  53]]\n",
      "              precision    recall  f1-score   support\n",
      "\n",
      "           0       0.83      0.89      0.86       137\n",
      "           1       0.78      0.68      0.73        78\n",
      "\n",
      "    accuracy                           0.81       215\n",
      "   macro avg       0.80      0.78      0.79       215\n",
      "weighted avg       0.81      0.81      0.81       215\n",
      "\n",
      "0.813953488372093\n"
     ]
    }
   ],
   "source": [
    "#gaussianNB\n",
    "from sklearn.naive_bayes import GaussianNB\n",
    "gnb=GaussianNB()\n",
    "gnb.fit(X_train,y_train)\n",
    "pred_gnb = gnb.predict(X_test)\n",
    "print(confusion_matrix(y_test, pred_gnb))\n",
    "print(classification_report(y_test, pred_gnb))\n",
    "print(accuracy_score(y_test, pred_gnb))"
   ]
  },
  {
   "cell_type": "code",
   "execution_count": 65,
   "metadata": {},
   "outputs": [
    {
     "data": {
      "text/plain": [
       "KNeighborsClassifier(n_neighbors=20)"
      ]
     },
     "execution_count": 65,
     "metadata": {},
     "output_type": "execute_result"
    }
   ],
   "source": [
    "#KNeighborsClassifier\n",
    "from sklearn.neighbors import KNeighborsClassifier\n",
    "knn = KNeighborsClassifier(n_neighbors=20)\n",
    "knn.fit(X_train_sc,y_train_sc)"
   ]
  },
  {
   "cell_type": "code",
   "execution_count": 66,
   "metadata": {},
   "outputs": [
    {
     "name": "stdout",
     "output_type": "stream",
     "text": [
      "[[82 55]\n",
      " [15 63]]\n",
      "              precision    recall  f1-score   support\n",
      "\n",
      "           0       0.85      0.60      0.70       137\n",
      "           1       0.53      0.81      0.64        78\n",
      "\n",
      "    accuracy                           0.67       215\n",
      "   macro avg       0.69      0.70      0.67       215\n",
      "weighted avg       0.73      0.67      0.68       215\n",
      "\n",
      "0.6744186046511628\n"
     ]
    }
   ],
   "source": [
    "pred_knn = knn.predict(X_test)\n",
    "print(confusion_matrix(y_test, pred_knn))\n",
    "print(classification_report(y_test, pred_knn))\n",
    "print(accuracy_score(y_test, pred_knn))"
   ]
  },
  {
   "cell_type": "code",
   "execution_count": 68,
   "metadata": {},
   "outputs": [],
   "source": [
    "knn.fit(X_train_all, y_train_all)\n",
    "pred_all_knn = knn.predict(X_test_all)\n",
    "sub_knn = pd.DataFrame()\n",
    "sub_knn['PassengerId'] = df_test['PassengerId']\n",
    "sub_knn['Survived'] = pred_all_knn\n",
    "#sub_knn.to_csv('knn.csv',index=False)"
   ]
  },
  {
   "cell_type": "code",
   "execution_count": 69,
   "metadata": {},
   "outputs": [
    {
     "data": {
      "text/plain": [
       "DecisionTreeClassifier()"
      ]
     },
     "execution_count": 69,
     "metadata": {},
     "output_type": "execute_result"
    }
   ],
   "source": [
    "#DecisionTreeClassifier\n",
    "from sklearn.tree import DecisionTreeClassifier\n",
    "dtree = DecisionTreeClassifier()\n",
    "dtree.fit(X_train,y_train)"
   ]
  },
  {
   "cell_type": "code",
   "execution_count": 70,
   "metadata": {},
   "outputs": [
    {
     "name": "stdout",
     "output_type": "stream",
     "text": [
      "              precision    recall  f1-score   support\n",
      "\n",
      "           0       0.87      0.92      0.89       137\n",
      "           1       0.84      0.76      0.80        78\n",
      "\n",
      "    accuracy                           0.86       215\n",
      "   macro avg       0.86      0.84      0.85       215\n",
      "weighted avg       0.86      0.86      0.86       215\n",
      "\n",
      "0.8604651162790697\n"
     ]
    }
   ],
   "source": [
    "pred_dtree = dtree.predict(X_test)\n",
    "print(classification_report(y_test,pred_dtree))\n",
    "print(accuracy_score(y_test, pred_dtree))"
   ]
  },
  {
   "cell_type": "code",
   "execution_count": 71,
   "metadata": {},
   "outputs": [
    {
     "name": "stdout",
     "output_type": "stream",
     "text": [
      "              precision    recall  f1-score   support\n",
      "\n",
      "           0       0.87      0.99      0.93       137\n",
      "           1       0.98      0.73      0.84        78\n",
      "\n",
      "    accuracy                           0.90       215\n",
      "   macro avg       0.92      0.86      0.88       215\n",
      "weighted avg       0.91      0.90      0.89       215\n",
      "\n",
      "0.8976744186046511\n"
     ]
    }
   ],
   "source": [
    "dtree_2 = DecisionTreeClassifier(max_features=7 , max_depth=6,  min_samples_split=8)\n",
    "dtree_2.fit(X_train,y_train)\n",
    "pred_dtree_2 = dtree_2.predict(X_test)\n",
    "print(classification_report(y_test, pred_dtree_2))\n",
    "print(accuracy_score(y_test, pred_dtree_2))"
   ]
  },
  {
   "cell_type": "code",
   "execution_count": 72,
   "metadata": {},
   "outputs": [],
   "source": [
    "dtree_2.fit(X_train_all, y_train_all)\n",
    "pred_all_dtree2 = dtree_2.predict(X_test_all)"
   ]
  },
  {
   "cell_type": "code",
   "execution_count": 73,
   "metadata": {},
   "outputs": [
    {
     "data": {
      "text/plain": [
       "RandomForestClassifier(max_depth=6, max_features=7)"
      ]
     },
     "execution_count": 73,
     "metadata": {},
     "output_type": "execute_result"
    }
   ],
   "source": [
    "#RandomForestClassifier\n",
    "from sklearn.ensemble import RandomForestClassifier\n",
    "rfc = RandomForestClassifier(max_depth=6, max_features=7)\n",
    "rfc.fit(X_train, y_train)"
   ]
  },
  {
   "cell_type": "code",
   "execution_count": 74,
   "metadata": {},
   "outputs": [
    {
     "name": "stdout",
     "output_type": "stream",
     "text": [
      "[[136   1]\n",
      " [ 20  58]]\n",
      "              precision    recall  f1-score   support\n",
      "\n",
      "           0       0.87      0.99      0.93       137\n",
      "           1       0.98      0.74      0.85        78\n",
      "\n",
      "    accuracy                           0.90       215\n",
      "   macro avg       0.93      0.87      0.89       215\n",
      "weighted avg       0.91      0.90      0.90       215\n",
      "\n",
      "0.9023255813953488\n"
     ]
    }
   ],
   "source": [
    "pred_rfc = rfc.predict(X_test)\n",
    "print(confusion_matrix(y_test, pred_rfc))\n",
    "print(classification_report(y_test, pred_rfc))\n",
    "print(accuracy_score(y_test, pred_rfc))"
   ]
  },
  {
   "cell_type": "code",
   "execution_count": 75,
   "metadata": {},
   "outputs": [],
   "source": [
    "rfc.fit(X_train_all, y_train_all)\n",
    "pred_all_rfc = rfc.predict(X_test_all)"
   ]
  },
  {
   "cell_type": "code",
   "execution_count": 76,
   "metadata": {},
   "outputs": [],
   "source": [
    "sub_rfc = pd.DataFrame()\n",
    "sub_rfc['PassengerId'] = df_test['PassengerId']\n",
    "sub_rfc['Survived'] = pred_all_rfc\n",
    "#sub_rfc.to_csv('randforest.csv',index=False)"
   ]
  },
  {
   "cell_type": "code",
   "execution_count": 77,
   "metadata": {},
   "outputs": [
    {
     "data": {
      "text/plain": [
       "SVC(C=100, gamma=0.01)"
      ]
     },
     "execution_count": 77,
     "metadata": {},
     "output_type": "execute_result"
    }
   ],
   "source": [
    "#svc\n",
    "from sklearn.svm import SVC\n",
    "svc = SVC(gamma = 0.01, C = 100)#, probability=True)\n",
    "svc.fit(X_train_sc, y_train_sc)"
   ]
  },
  {
   "cell_type": "code",
   "execution_count": 78,
   "metadata": {},
   "outputs": [
    {
     "name": "stdout",
     "output_type": "stream",
     "text": [
      "[[136   1]\n",
      " [ 20  58]]\n",
      "              precision    recall  f1-score   support\n",
      "\n",
      "           0       0.87      0.99      0.93       137\n",
      "           1       0.98      0.74      0.85        78\n",
      "\n",
      "    accuracy                           0.90       215\n",
      "   macro avg       0.93      0.87      0.89       215\n",
      "weighted avg       0.91      0.90      0.90       215\n",
      "\n",
      "0.9023255813953488\n"
     ]
    }
   ],
   "source": [
    "pred_svc = svc.predict(X_test_sc)\n",
    "print(confusion_matrix(y_test_sc, pred_svc))\n",
    "print(classification_report(y_test_sc, pred_svc))\n",
    "print(accuracy_score(y_test_sc, pred_svc))\n"
   ]
  },
  {
   "cell_type": "code",
   "execution_count": 79,
   "metadata": {},
   "outputs": [],
   "source": [
    "svc.fit(X_train_all_sc, y_train_all_sc)\n",
    "pred_all_svc = svc.predict(X_test_all_sc)\n",
    "\n",
    "sub_svc = pd.DataFrame()\n",
    "sub_svc['PassengerId'] = df_test['PassengerId']\n",
    "sub_svc['Survived'] = pred_all_svc\n",
    "sub_svc.to_csv('svc.csv',index=False)"
   ]
  },
  {
   "cell_type": "code",
   "execution_count": 80,
   "metadata": {},
   "outputs": [],
   "source": [
    "#import  croos_val_score\n",
    "from sklearn.model_selection import cross_val_score\n"
   ]
  },
  {
   "cell_type": "code",
   "execution_count": 81,
   "metadata": {},
   "outputs": [
    {
     "name": "stdout",
     "output_type": "stream",
     "text": [
      "[0.98611111 1.         0.98611111 0.97222222 0.83098592 0.85915493\n",
      " 0.83098592 0.78873239 0.84507042 0.87323944]\n",
      "0.8972613458528953\n"
     ]
    }
   ],
   "source": [
    "scores_svc = cross_val_score(svc, X_train_all_sc, y_train_all_sc, cv=10, scoring='accuracy')\n",
    "print(scores_svc)\n",
    "print(scores_svc.mean())"
   ]
  },
  {
   "cell_type": "code",
   "execution_count": 82,
   "metadata": {},
   "outputs": [
    {
     "name": "stdout",
     "output_type": "stream",
     "text": [
      "[0.98611111 0.98611111 0.95833333 0.95833333 0.8028169  0.87323944\n",
      " 0.83098592 0.8028169  0.85915493 0.88732394]\n",
      "0.8945226917057904\n"
     ]
    }
   ],
   "source": [
    "scores_rfc = cross_val_score(rfc, X_train_all_sc, y_train_all_sc, cv=10, scoring='accuracy')\n",
    "print(scores_rfc)\n",
    "print(scores_rfc.mean())"
   ]
  },
  {
   "cell_type": "code",
   "execution_count": 83,
   "metadata": {},
   "outputs": [
    {
     "name": "stdout",
     "output_type": "stream",
     "text": [
      "[0.93055556 0.98611111 0.97222222 0.94444444 0.8028169  0.84507042\n",
      " 0.83098592 0.78873239 0.87323944 0.85915493]\n",
      "0.8833333333333332\n"
     ]
    }
   ],
   "source": [
    "scores_dtree_2 = cross_val_score(dtree_2, X_train_all_sc, y_train_all_sc, cv=10, scoring='accuracy')\n",
    "print(scores_dtree_2)\n",
    "print(scores_dtree_2.mean())\n"
   ]
  },
  {
   "cell_type": "code",
   "execution_count": 84,
   "metadata": {},
   "outputs": [
    {
     "name": "stdout",
     "output_type": "stream",
     "text": [
      "dtree_2 :  0.8833333333333332\n",
      "rfc     :  0.8945226917057904\n",
      "svc     :  0.8972613458528953\n"
     ]
    }
   ],
   "source": [
    "#mean score of dtree and rfc and svc\n",
    "print(\"dtree_2 : \" , scores_dtree_2.mean())\n",
    "print(\"rfc     : \" , scores_rfc.mean())\n",
    "print(\"svc     : \" , scores_svc.mean())"
   ]
  },
  {
   "cell_type": "code",
   "execution_count": null,
   "metadata": {},
   "outputs": [],
   "source": []
  }
 ],
 "metadata": {
  "kernelspec": {
   "display_name": "Python 3",
   "language": "python",
   "name": "python3"
  },
  "language_info": {
   "codemirror_mode": {
    "name": "ipython",
    "version": 3
   },
   "file_extension": ".py",
   "mimetype": "text/x-python",
   "name": "python",
   "nbconvert_exporter": "python",
   "pygments_lexer": "ipython3",
   "version": "3.8.5"
  }
 },
 "nbformat": 4,
 "nbformat_minor": 4
}
